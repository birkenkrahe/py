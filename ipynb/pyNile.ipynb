{
  "cells": [
    {
      "cell_type": "markdown",
      "metadata": {},
      "source": [
        "## Download base R time series Nile as ASCII file\n\n"
      ]
    },
    {
      "cell_type": "markdown",
      "metadata": {},
      "source": [
        "-   Nothing much to get, `Nile` is built-in:\n\n"
      ]
    },
    {
      "cell_type": "code",
      "execution_count": 1,
      "metadata": {},
      "outputs": [
        {
          "name": "stdout",
          "output_type": "stream",
          "text": [
            ": [1] 1120 1160  963 1210 1160 1160\n  :  Time-Series [1:100] from 1871 to 1970: 1120 1160 963 1210 1160 1160 813 1230 1370 1140 ..."
          ]
        }
      ],
      "source": [
        "head(Nile)\nstr(Nile)"
      ]
    },
    {
      "cell_type": "markdown",
      "metadata": {},
      "source": [
        "-   Download it to an ASCII file so that we can upload it as a pandas\n    series:\n\n"
      ]
    },
    {
      "cell_type": "code",
      "execution_count": 1,
      "metadata": {},
      "outputs": [
        {
          "name": "stdout",
          "output_type": "stream",
          "text": [
            ": 1120\n  : 1160\n  : 963\n  : 1210\n  : 1160"
          ]
        }
      ],
      "source": [
        "write(Nile, file='Nile',ncolumns=1)\nshell('head -5 Nile')"
      ]
    },
    {
      "cell_type": "markdown",
      "metadata": {},
      "source": [
        "## Store ASCII file data in a Python list\n\n"
      ]
    },
    {
      "cell_type": "markdown",
      "metadata": {},
      "source": [
        "-   Read the content of the file into a Python object `Nile`:\n    \n        file = open('Nile','r')\n        Nile = [int(line.strip()) for line in file]\n\n-   Here, the second line stores the file data as a list `Nile` using a\n    *list comprehension*:\n    \n        new_list = [expression for item in iterable if condition]\n    \n    1.  expression: `strip` leading/trailing whitespace/newline\n    2.  item: each line\n    3.  iterable: file with lines\n    4.  no condition\n    \n    For example, extract even numbers from a list of numbers:\n    \n        numbers = [1,2,3,4,5,6,7,8,9,10]\n        even_numbers = [x for x in numbers if (x % 2 == 0)]\n        print(even_numbers)\n\n"
      ]
    },
    {
      "cell_type": "markdown",
      "metadata": {},
      "source": [
        "## Show a histogram of `Nile` in Python and in R\n\n"
      ]
    },
    {
      "cell_type": "markdown",
      "metadata": {},
      "source": [
        "-   Back to the Nile! Show a histogram of `Nile`:\n    \n        <<getNile>>\n        import matplotlib.pyplot as plt\n        plt.hist(Nile,bins=\"auto\",edgecolor=\"black\")\n        plt.title('Histogram of Nile flow 1870-1970')\n        plt.xlabel('Flow volume [mio cubic meter]')\n        plt.ylabel('Frequency')\n        plt.grid('True')\n        plt.show()\n    \n    ![img](../img/hist_Nile.png)\n\n-   Compare with R:\n\n"
      ]
    },
    {
      "cell_type": "code",
      "execution_count": 1,
      "metadata": {},
      "outputs": [
        {
          "data": {
            "image/png": "[encoded data removed]",
            "text/plain": "<matplotlib.figure.Figure>"
          },
          "metadata": {},
          "output_type": "display_data"
        }
      ],
      "source": [
        "hist(Nile,\n     xlab='Flow volume [mio cubic meter]',\n     main='Histogram of Nile flow 1870-1970')"
      ]
    },
    {
      "cell_type": "markdown",
      "metadata": {},
      "source": [
        "## Calling R from within Python with `rpy2`\n\n"
      ]
    },
    {
      "cell_type": "markdown",
      "metadata": {},
      "source": [
        "-   To install: `pip install rpy2`.\n\n-   R command:\n\n"
      ]
    },
    {
      "cell_type": "code",
      "execution_count": 1,
      "metadata": {},
      "outputs": [
        {
          "name": "stdout",
          "output_type": "stream",
          "text": [
            ": [1] 919.35"
          ]
        }
      ],
      "source": [
        "mean(Nile)"
      ]
    },
    {
      "cell_type": "markdown",
      "metadata": {},
      "source": [
        "-   To run in Python:\n    \n        import rpy2.robjects as rob\n        mean = rob.r('mean(Nile')\n        print(mean)\n\n-   This package cannot find the base R installation - I don't know why.\n\n"
      ]
    },
    {
      "cell_type": "markdown",
      "metadata": {},
      "source": [
        "## Calling R in Python with `pyper`\n\n"
      ]
    },
    {
      "cell_type": "markdown",
      "metadata": {},
      "source": [
        "-   Install with `pip install pyper`\n\n-   Run R in Python with `pyper`:\n    \n        from pyper import R\n        r = R()\n        #print(r.run('mean(Nile)'))\n\n-   This histogram will be saved in `Rplots.pdf`:\n    \n        <<pyper>>\n        \n        import matplotlib.pyplot as plt\n        \n        r.run('data(Nile)')  # load data\n        r.run('hist(Nile)')  # plot data\n\n"
      ]
    },
    {
      "cell_type": "markdown",
      "metadata": {},
      "source": [
        "## [Using R and Python in the same notebook](https://cloud.google.com/vertex-ai/docs/workbench/user-managed/r-python-same-notebook) with `rpy2`\n\n"
      ]
    }
  ],
  "metadata": {
    "org": null,
    "kernelspec": {
      "display_name": "R",
      "language": "R",
      "name": "ir"
    },
    "language_info": {
      "codemirror_mode": "r",
      "file_extension": ".r",
      "mimetype": "text/x-r-source",
      "name": "R",
      "pygments_lexer": "r",
      "version": "3.3.2"
    }
  },
  "nbformat": 4,
  "nbformat_minor": 0
}
{
  "cells": [
    {
      "cell_type": "markdown",
      "metadata": {},
      "source": [
        "## Methods for specific data types\n\n"
      ]
    },
    {
      "cell_type": "markdown",
      "metadata": {},
      "source": [
        "-   Each data structure as its own set of methods, e.g. the `list` data\n    type has methods for finding, adding, removing and manipulating\n    values.\n\n-   Examples:\n    1.  to call the `list` method `index` on the item `'hello'` of a list `spam`:\n\n"
      ]
    },
    {
      "cell_type": "code",
      "execution_count": 1,
      "metadata": {},
      "outputs": [
        {
          "name": "stdout",
          "output_type": "stream",
          "text": [
            ": 0"
          ]
        }
      ],
      "source": [
        "spam = ['hello','world']\nprint(spam.index('hello'))  # returns an index"
      ]
    },
    {
      "cell_type": "markdown",
      "metadata": {},
      "source": [
        "1.  to call the `str` method `count` on the substring `'_'` of the string\n    `'hello_world'` stored in `ham`:\n\n"
      ]
    },
    {
      "cell_type": "code",
      "execution_count": 1,
      "metadata": {},
      "outputs": [
        {
          "name": "stdout",
          "output_type": "stream",
          "text": [
            ": 1"
          ]
        }
      ],
      "source": [
        "ham = 'hello_world'\nprint(ham.count('_'))  # returns a count"
      ]
    },
    {
      "cell_type": "markdown",
      "metadata": {},
      "source": [
        "-   This approach transfers to other packages such a `numpy` or `pandas` -\n    the focus of the methods is on the library purpose like numeric data\n    processing or statistical analysis.\n\n-   Where applicable, I will contrast standard Python with NumPy and/or\n    pandas (Kudos OpenAI: ChatGPT has been invaluable for this task.)\n\n"
      ]
    },
    {
      "cell_type": "markdown",
      "metadata": {},
      "source": [
        "## Finding a value in a `list` with `index`\n\n"
      ]
    },
    {
      "cell_type": "markdown",
      "metadata": {},
      "source": [
        "-   If the value is not in the list, a `ValueError` is raised:\n\n"
      ]
    },
    {
      "cell_type": "code",
      "execution_count": 1,
      "metadata": {},
      "outputs": [
        {
          "name": "stdout",
          "output_type": "stream",
          "text": [
            ": 2"
          ]
        }
      ],
      "source": [
        "spam = ['hello', 'hi', 'howdy', 'hey']\n\nprint(spam.index('howdy'))\n\nprint(spam.index('howdy howdy howdy'))"
      ]
    },
    {
      "cell_type": "markdown",
      "metadata": {},
      "source": [
        "-   When there are duplicates, the first instance is returned:\n\n"
      ]
    },
    {
      "cell_type": "code",
      "execution_count": 1,
      "metadata": {},
      "outputs": [
        {
          "name": "stdout",
          "output_type": "stream",
          "text": [
            ": 1"
          ]
        }
      ],
      "source": [
        "spam = ['hello', 'hi', 'howdy', 'hey', 'hi']\nprint(spam.index('hi'))"
      ]
    },
    {
      "cell_type": "markdown",
      "metadata": {},
      "source": [
        "## Finding a value in a numpy `array` with `where`\n\n"
      ]
    },
    {
      "cell_type": "markdown",
      "metadata": {},
      "source": [
        "-   In NumPy, you can use the `where` function - a lot more information is\n    available, but you need more skill to sort through it:\n\n"
      ]
    },
    {
      "cell_type": "code",
      "execution_count": 1,
      "metadata": {},
      "outputs": [
        {
          "name": "stdout",
          "output_type": "stream",
          "text": [
            ": (array([2], dtype=int64),)\n  : 2\n  : ['howdy']"
          ]
        }
      ],
      "source": [
        "import numpy as np\n\nspam = ['hello', 'hi', 'howdy', 'hey', 'hi']\n\n# turn list into numpy array\nspam_np = np.array(spam)\n\n# store value of index for item\nidx = np.where(spam_np == 'howdy')\n\nprint(idx)    # index informaion (full)\nprint(idx[0][0])  # index only\nprint(spam_np[idx])   # array value"
      ]
    },
    {
      "cell_type": "markdown",
      "metadata": {},
      "source": [
        "## Finding a value in a pandas `series` with `pd.index`\n\n"
      ]
    },
    {
      "cell_type": "markdown",
      "metadata": {},
      "source": [
        "-   In pandas, you can use Boolean indexing:\n\n"
      ]
    },
    {
      "cell_type": "code",
      "execution_count": 1,
      "metadata": {},
      "outputs": [
        {
          "name": "stdout",
          "output_type": "stream",
          "text": [
            ": 2"
          ]
        }
      ],
      "source": [
        "import pandas as pd\n\n# Create a pandas Series\nspam_pd = pd.Series(['hello', 'hi', 'howdy', 'hey', 'hi'])\n\n# Find the index where the value is equal to 'howdy'\nindex = spam_pd[spam_pd == 'howdy'].index[0]\n\nprint(index)"
      ]
    },
    {
      "cell_type": "markdown",
      "metadata": {},
      "source": [
        "-   If the value is not found in the Series, it will raise an\n    `IndexError`.\n\n"
      ]
    },
    {
      "cell_type": "markdown",
      "metadata": {},
      "source": [
        "## Adding values for lists with `append` and `insert`\n\n"
      ]
    },
    {
      "cell_type": "markdown",
      "metadata": {},
      "source": [
        "-   You can add new values to a list with `append` (at the end) and\n    `insert`.\n\n-   Append `'moose'` at the end of `spam`:\n\n"
      ]
    },
    {
      "cell_type": "code",
      "execution_count": 1,
      "metadata": {},
      "outputs": [],
      "source": [
        "spam = ['cat', 'dog', 'bat']\nprint(spam)\nspam.append('moose')\nprint(spam)"
      ]
    },
    {
      "cell_type": "markdown",
      "metadata": {},
      "source": [
        "-   Insert `'chicken'` as item number `1` into `spam`:\n\n"
      ]
    },
    {
      "cell_type": "code",
      "execution_count": 1,
      "metadata": {},
      "outputs": [
        {
          "name": "stdout",
          "output_type": "stream",
          "text": [
            ": ['cat', 'dog', 'bat']\n  : ['cat', 'chicken', 'dog', 'bat']"
          ]
        }
      ],
      "source": [
        "spam = ['cat', 'dog', 'bat']\nprint(spam)\nspam.insert(1,'chicken')\nprint(spam)"
      ]
    },
    {
      "cell_type": "markdown",
      "metadata": {},
      "source": [
        "-   These functions modify a list *in place*: neither of them gives the\n    new value as a return value - they return `None` instead:\n\n"
      ]
    },
    {
      "cell_type": "code",
      "execution_count": 1,
      "metadata": {},
      "outputs": [],
      "source": [
        "spam = ['cat', 'dog', 'bat']\nprint(spam.append('moose'))\nprint(spam)\nprint(spam.insert(1,'chicken'))\nprint(spam)"
      ]
    },
    {
      "cell_type": "markdown",
      "metadata": {},
      "source": [
        "-   If that's so, what does `spam = spam.append('elephant')` do?\n\n"
      ]
    },
    {
      "cell_type": "code",
      "execution_count": 1,
      "metadata": {},
      "outputs": [],
      "source": [
        "spam = ['cat', 'dog', 'bat']\nprint(spam)\nspam = spam.append('elephant')\nprint(spam)"
      ]
    },
    {
      "cell_type": "markdown",
      "metadata": {},
      "source": [
        "## Adding and inserting for NumPy `array`\n\n"
      ]
    },
    {
      "cell_type": "markdown",
      "metadata": {},
      "source": [
        "-   By contrast, NumPy's `np.append` and `np.insert` methods create a new\n    array and you need to assign the result back to the array to keep\n    it:\n\n"
      ]
    },
    {
      "cell_type": "code",
      "execution_count": 1,
      "metadata": {},
      "outputs": [],
      "source": [
        "import numpy as np\n\nspam_np = np.array(['cat', 'dog', 'bat', 'elephant'])\n\nprint(spam_np)\n\nspam_np = np.append(spam_np, 'moose')\n\nprint(spam_np)\n\nspam_np = np.insert(spam_np, 1, 'chicken')\n\nprint(spam_np)"
      ]
    },
    {
      "cell_type": "markdown",
      "metadata": {},
      "source": [
        "-   The behavior of NumPy for strings is tricky though: e.g. string\n    items in the array will be truncated if the inserted string is\n    larger than the largest string already in the array.\n\n-   To test that, run the code above and remove `'elephant'`: the\n    resulting inserted array will list `'chick'` and not `'chicken'`.\n\n-   Numbers work better: an example with `np.append`\n\n"
      ]
    },
    {
      "cell_type": "code",
      "execution_count": 1,
      "metadata": {},
      "outputs": [],
      "source": [
        "import numpy as np\n\n# Create a numpy array\narr = np.array([1, 2, 3, 4, 5])\n\n# Append a single value\narr = np.append(arr, 6)\nprint(arr)  # Output: [1 2 3 4 5 6]\n\n# Append multiple values\narr = np.append(arr, [7, 8, 9])\nprint(arr)  # Output: [1 2 3 4 5 6 7 8 9]"
      ]
    },
    {
      "cell_type": "markdown",
      "metadata": {},
      "source": [
        "-   An example with `np.insert`:\n\n"
      ]
    },
    {
      "cell_type": "code",
      "execution_count": 1,
      "metadata": {},
      "outputs": [
        {
          "name": "stdout",
          "output_type": "stream",
          "text": [
            ": [1 2 6 3 4 5]\n  : [1 2 6 7 8 9 3 4 5]"
          ]
        }
      ],
      "source": [
        "import numpy as np\n\n# Create a numpy array\narr = np.array([1, 2, 3, 4, 5])\n\n# Insert a single value at index 2\narr = np.insert(arr, 2, 6)\nprint(arr)  # Output: [1 2 6 3 4 5]\n\n# Insert multiple values at index 3\narr = np.insert(arr, 3, [7, 8, 9])\nprint(arr)  # Output: [1 2 6 7 8 9 3 4 5]"
      ]
    },
    {
      "cell_type": "markdown",
      "metadata": {},
      "source": [
        "## Adding columns and rows in pandas `DataFrame`\n\n"
      ]
    },
    {
      "cell_type": "markdown",
      "metadata": {},
      "source": [
        "-   The central structure for `pandas` is the DataFrame, a tabular\n    structure of column vectors of the same length with each vector only\n    having one type.\n\n-   Let's import `pandas` as `pd` and create a DataFrame `df`:\n\n"
      ]
    },
    {
      "cell_type": "code",
      "execution_count": 1,
      "metadata": {},
      "outputs": [],
      "source": [
        "import pandas as pd\n\n# Create a DataFrame of four column vectors A,B,C,D\ndf = pd.DataFrame({\n    'A': ['foo', 'bar', 'baz'],\n    'B': ['one', 'one', 'two'],\n    'C': ['x', 'y', 'z'],\n    'D': [1, 2, 3]\n})"
      ]
    },
    {
      "cell_type": "markdown",
      "metadata": {},
      "source": [
        "-   Adding a new column to a DataFrame by adding it like an index:\n\n"
      ]
    },
    {
      "cell_type": "code",
      "execution_count": 1,
      "metadata": {},
      "outputs": [],
      "source": [
        "<<df>>\n# Add a new column E\ndf['E'] = ['alpha', 'beta', 'gamma']\n\nprint(df)"
      ]
    },
    {
      "cell_type": "markdown",
      "metadata": {},
      "source": [
        "-   Inserting a new column at a specific position with `df.insert`:\n\n"
      ]
    },
    {
      "cell_type": "code",
      "execution_count": 1,
      "metadata": {},
      "outputs": [
        {
          "name": "stdout",
          "output_type": "stream",
          "text": [
            ":      A       F    B  C  D\n  : 0  foo   apple  one  x  1\n  : 1  bar  banana  one  y  2\n  : 2  baz  cherry  two  z  3"
          ]
        }
      ],
      "source": [
        "<<df>>\n# Insert a new column at position 1\ndf.insert(1, 'F', ['apple', 'banana', 'cherry'])\n\nprint(df)"
      ]
    },
    {
      "cell_type": "markdown",
      "metadata": {},
      "source": [
        "-   Adding a new row to a DataFrame with `df.concat` (`df.append` is also\n    available but it is deprecated as of 2022):\n\n"
      ]
    },
    {
      "cell_type": "code",
      "execution_count": 1,
      "metadata": {},
      "outputs": [
        {
          "name": "stdout",
          "output_type": "stream",
          "text": [
            ":      A      B  C  D      E       F\n  : 0  foo    one  x  1    NaN     NaN\n  : 1  bar    one  y  2    NaN     NaN\n  : 2  baz    two  z  3    NaN     NaN\n  : 0  qux  three  w  4  delta  durian\n  : 0  qux  three  w  4  delta  durian"
          ]
        }
      ],
      "source": [
        "<<df>>\n# Create a new DataFrame for the new row\nnew_row = pd.DataFrame([{'A': 'qux', 'B': 'three', 'C': 'w',\\\n                         'D': 4, 'E': 'delta', 'F': 'durian'}])\n\n# Use pd.concat to append the new row\ndf = pd.concat([df, new_row])\n\n# Use pd.append to append the new row once again\ndf = df.append(new_row)\n\nprint(df)"
      ]
    },
    {
      "cell_type": "markdown",
      "metadata": {},
      "source": [
        "## Trying to call a method on another data type\n\n"
      ]
    },
    {
      "cell_type": "markdown",
      "metadata": {},
      "source": [
        "-   The `append` and `insert` methods are `list` methods and won't work for\n    strings or integers:\n\n"
      ]
    },
    {
      "cell_type": "code",
      "execution_count": 1,
      "metadata": {},
      "outputs": [],
      "source": [
        "eggs = 'hello'\neggs.append('world')"
      ]
    },
    {
      "cell_type": "markdown",
      "metadata": {},
      "source": [
        "-   Calling `insert` on an integer:\n\n"
      ]
    },
    {
      "cell_type": "code",
      "execution_count": 1,
      "metadata": {},
      "outputs": [],
      "source": [
        "bacon = 42\nbacon.insert(1,'world')"
      ]
    },
    {
      "cell_type": "markdown",
      "metadata": {},
      "source": [
        "## Removing values from lists with `remove` or `del`\n\n"
      ]
    },
    {
      "cell_type": "markdown",
      "metadata": {},
      "source": [
        "-   The `remove` method removes its arguments in place:\n\n"
      ]
    },
    {
      "cell_type": "code",
      "execution_count": 1,
      "metadata": {},
      "outputs": [],
      "source": [
        "spam = ['cat','bat','rat','elephant']\nprint(spam)\nspam.remove('bat')\nprint(spam)"
      ]
    },
    {
      "cell_type": "markdown",
      "metadata": {},
      "source": [
        "-   Trying to remove a value that does not exist raises a `ValueError`:\n\n"
      ]
    },
    {
      "cell_type": "code",
      "execution_count": 1,
      "metadata": {},
      "outputs": [],
      "source": [
        "spam = ['cat','bat','rat','elephant']\nspam.remove('chicken')"
      ]
    },
    {
      "cell_type": "markdown",
      "metadata": {},
      "source": [
        "-   If there are multiple identical items, only the first will be\n    removed:\n\n"
      ]
    },
    {
      "cell_type": "code",
      "execution_count": 1,
      "metadata": {},
      "outputs": [],
      "source": [
        "spam = ['cat','bat','rat','elephant','cat','bat']\nprint(spam)\nspam.remove('bat')\nprint(spam)   # only the first instance is removed"
      ]
    },
    {
      "cell_type": "markdown",
      "metadata": {},
      "source": [
        "-   Wondering at this point how many values you can remove at a time?\n    Check the help (don't forget that this is a `list` method):\n\n"
      ]
    },
    {
      "cell_type": "code",
      "execution_count": 1,
      "metadata": {},
      "outputs": [
        {
          "name": "stdout",
          "output_type": "stream",
          "text": [
            ": Help on method_descriptor:\n  :\n  : remove(self, value, /)\n  :     Remove first occurrence of value.\n  :\n  :     Raises ValueError if the value is not present.\n  :"
          ]
        }
      ],
      "source": [
        "help(list.remove)"
      ]
    },
    {
      "cell_type": "markdown",
      "metadata": {},
      "source": [
        "-   If you know the index of the item you want to remove, you can use\n    the `del` keyword to delete items:\n\n"
      ]
    },
    {
      "cell_type": "code",
      "execution_count": 1,
      "metadata": {},
      "outputs": [],
      "source": [
        "spam = ['cat','bat','rat','elephant','cat','bat']\ndel spam[1]\nprint(spam)"
      ]
    },
    {
      "cell_type": "markdown",
      "metadata": {},
      "source": [
        "-   To remove more than one item at a time, you can either use a `list`\n    comprehension (`set` building), or the `filter` function (lambda):\n\n"
      ]
    },
    {
      "cell_type": "code",
      "execution_count": 1,
      "metadata": {},
      "outputs": [],
      "source": [
        "spam = ['cat','bat','rat','elephant','cat','bat']\n\n# Remove all 'bat' items\nspam = [item for item in spam if item != 'bat']\n\nprint(spam)  # Output: ['cat', 'rat', 'elephant', 'cat']"
      ]
    },
    {
      "cell_type": "markdown",
      "metadata": {},
      "source": [
        "-   In the example, the `filter` function (*iterator*) takes an anonymous or\n    `lambda` function as the argument:\n\n"
      ]
    },
    {
      "cell_type": "code",
      "execution_count": 1,
      "metadata": {},
      "outputs": [],
      "source": [
        "spam = ['cat','bat','rat','elephant','cat','bat']\n\n# Remove all 'bat' items\nspam = list(filter(lambda item: item != 'bat', spam))\n\nprint(spam)  # Output: ['cat', 'rat', 'elephant', 'cat']"
      ]
    },
    {
      "cell_type": "markdown",
      "metadata": {},
      "source": [
        "## Removing values from a NumPy `array`\n\n"
      ]
    },
    {
      "cell_type": "markdown",
      "metadata": {},
      "source": [
        "-   You cannot directly remove an item from an `array` like in a Python\n    list with `remove` but you can create a new array that doesn't include\n    the items to be removed.\n\n-   Using Boolean indexing or masking:\n\n"
      ]
    },
    {
      "cell_type": "code",
      "execution_count": 1,
      "metadata": {},
      "outputs": [
        {
          "name": "stdout",
          "output_type": "stream",
          "text": [
            ": [1 2 3 4 6 7 8 9]"
          ]
        }
      ],
      "source": [
        "import numpy as np\n\n# Create a numpy array\narr = np.array([1, 2, 3, 4, 5, 6, 7, 8, 9])\n\n# Create a new array that doesn't include the value 5\narr = arr[arr != 5]\n\nprint(arr)  # Output: [1 2 3 4 6 7 8 9]"
      ]
    },
    {
      "cell_type": "markdown",
      "metadata": {},
      "source": [
        "-   Using the `np.delete` method:\n\n"
      ]
    },
    {
      "cell_type": "code",
      "execution_count": 1,
      "metadata": {},
      "outputs": [
        {
          "name": "stdout",
          "output_type": "stream",
          "text": [
            ": [1 2 3 4 6 7 8 9]"
          ]
        }
      ],
      "source": [
        "import numpy as np\n\n# Create a numpy array\narr = np.array([1, 2, 3, 4, 5, 6, 7, 8, 9])\n\n# Create a new array that doesn't include the item at index 4\narr = np.delete(arr, 4)\n\nprint(arr)  # Output: [1 2 3 4 6 7 8 9]"
      ]
    },
    {
      "cell_type": "markdown",
      "metadata": {},
      "source": [
        "## Removing values from a pandas `DataFrame`\n\n"
      ]
    },
    {
      "cell_type": "markdown",
      "metadata": {},
      "source": [
        "-   The `pd.drop` function is used to remove either columns or rows from a\n    DataFrame: the keyword parameter `axis` is `1` for columns, `0` for rows.\n\n-   Unlike the NumPy arrays, you can specify if you wish to modify the\n    DataFrame in place using the `inplace` keyword parameter.\n\n-   Remove a column:\n\n"
      ]
    },
    {
      "cell_type": "code",
      "execution_count": 1,
      "metadata": {},
      "outputs": [],
      "source": [
        "import pandas as pd\n\n# Create a simple dataframe\ndf = pd.DataFrame({\n    'A': [1, 2, 3],\n    'B': [4, 5, 6],\n    'C': [7, 8, 9]\n})\n\nprint(\"Original DataFrame\")\nprint(df)\n\n# Drop column 'A'\ndf = df.drop('A', axis=1)\n\nprint(\"DataFrame After Dropping Column 'A'\")\nprint(df)"
      ]
    },
    {
      "cell_type": "markdown",
      "metadata": {},
      "source": [
        "-   Remove a row:\n\n"
      ]
    },
    {
      "cell_type": "code",
      "execution_count": 1,
      "metadata": {},
      "outputs": [
        {
          "name": "stdout",
          "output_type": "stream",
          "text": [
            ": Original DataFrame\n  :    A  B  C\n  : 0  1  4  7\n  : 1  2  5  8\n  : 2  3  6  9\n  : DataFrame After Dropping Row at Index 1\n  :    A  B  C\n  : 0  1  4  7\n  : 2  3  6  9"
          ]
        }
      ],
      "source": [
        "import pandas as pd\n\n# Create a simple dataframe\ndf = pd.DataFrame({\n    'A': [1, 2, 3],\n    'B': [4, 5, 6],\n    'C': [7, 8, 9]\n})\n\nprint(\"Original DataFrame\")\nprint(df)\n\n# Drop row at index 1\ndf = df.drop(1, axis=0)\n\nprint(\"DataFrame After Dropping Row at Index 1\")\nprint(df)"
      ]
    },
    {
      "cell_type": "markdown",
      "metadata": {},
      "source": [
        "## Sorting values in a list with `sort`\n\n"
      ]
    },
    {
      "cell_type": "markdown",
      "metadata": {},
      "source": [
        "-   Lists of number values or strings can be sorted with `list.sort`:\n\n"
      ]
    },
    {
      "cell_type": "code",
      "execution_count": 1,
      "metadata": {},
      "outputs": [],
      "source": [
        "spam = [2, 5, 3.14, 1, -7]\nspam.sort()  # default sort is ascending\nprint(spam)\n\nham = ['ants', 'cats', 'dogs', 'badgers', 'elephants']\nham.sort()  # default sort is ascending in alphabetical order\nprint(ham)"
      ]
    },
    {
      "cell_type": "markdown",
      "metadata": {},
      "source": [
        "-   To reverse the order from ascending to descending use the `reverse`\n    keyword:\n\n"
      ]
    },
    {
      "cell_type": "code",
      "execution_count": 1,
      "metadata": {},
      "outputs": [
        {
          "name": "stdout",
          "output_type": "stream",
          "text": [
            ": [5, 3.14, 2, 1, -7]\n  : ['elephants', 'dogs', 'cats', 'badgers', 'ants']"
          ]
        }
      ],
      "source": [
        "spam = [2, 5, 3.14, 1, -7]\nspam.sort(reverse=True)  # reverse sorting\nprint(spam)\n\nham = ['ants', 'cats', 'dogs', 'badgers', 'elephants']\nham.sort(reverse=True)  # reverse sorting\nprint(ham)"
      ]
    },
    {
      "cell_type": "markdown",
      "metadata": {},
      "source": [
        "-   As you can see in the `help(list.sort)` docstring, you can also sort\n    using a function, e.g. the `len` function:\n\n"
      ]
    },
    {
      "cell_type": "code",
      "execution_count": 1,
      "metadata": {},
      "outputs": [],
      "source": [
        "ham = ['ants', 'cats', 'dogs', 'badgers', 'elephants', 'snakes']\nham.sort(key=len,reverse=True)  # reverse sorting by length\nprint(ham)"
      ]
    },
    {
      "cell_type": "markdown",
      "metadata": {},
      "source": [
        "-   In the last example, note that `'ants'` goes before `'cats'` before\n    `'dogs'` because within a group of strings with the same `len` value,\n    sorting is alphabetical (in ascending order).\n\n-   To change this is more complex: you use an anonymous `lambda` function\n    in the `sort` function that sorts first by `len` and then reverses the\n    order:\n\n"
      ]
    },
    {
      "cell_type": "code",
      "execution_count": 1,
      "metadata": {},
      "outputs": [],
      "source": [
        "ham = ['ants', 'cats', 'dogs', 'badgers', 'elephants', 'snakes']\n\n# Sort the list by the number of characters in each string, and then reverse the alphabetical order\nham.sort(key=lambda x: (len(x), x), reverse=True)\n\nprint(ham)"
      ]
    },
    {
      "cell_type": "markdown",
      "metadata": {},
      "source": [
        "## Reversing values in a list with `reverse`\n\n"
      ]
    },
    {
      "cell_type": "markdown",
      "metadata": {},
      "source": [
        "-   To quickly reverse the order of list items, use `list.reverse`:\n\n"
      ]
    },
    {
      "cell_type": "code",
      "execution_count": 1,
      "metadata": {},
      "outputs": [
        {
          "name": "stdout",
          "output_type": "stream",
          "text": [
            ": ['moose', 'dog', 'cat']"
          ]
        }
      ],
      "source": [
        "spam = ['cat', 'dog', 'moose']\nspam.reverse()\nprint(spam)"
      ]
    },
    {
      "cell_type": "markdown",
      "metadata": {},
      "source": [
        "-   This is a simple function that does not offer any keyword\n    parameters:\n\n"
      ]
    },
    {
      "cell_type": "code",
      "execution_count": 1,
      "metadata": {},
      "outputs": [],
      "source": [
        "help(list.reverse)"
      ]
    },
    {
      "cell_type": "markdown",
      "metadata": {},
      "source": [
        "## Sorting a NumPy `array`\n\n"
      ]
    },
    {
      "cell_type": "markdown",
      "metadata": {},
      "source": [
        "-   The `np.sort` function offers different sorting algorithms (`kind`), and\n    you can specify along which dimension to sort (`axis`), and the `order`.\n\n"
      ]
    },
    {
      "cell_type": "code",
      "execution_count": 1,
      "metadata": {},
      "outputs": [],
      "source": [
        "import numpy as np\nhelp(np.sort)"
      ]
    },
    {
      "cell_type": "markdown",
      "metadata": {},
      "source": [
        "-   A simple example - sorting is in ascending order by default, and a\n    new sorted array is created.\n\n"
      ]
    },
    {
      "cell_type": "code",
      "execution_count": 1,
      "metadata": {},
      "outputs": [
        {
          "name": "stdout",
          "output_type": "stream",
          "text": [
            ": Original array:\n  : [3 2 1 5 4]"
          ]
        }
      ],
      "source": [
        "import numpy as np\n\n# Create a numpy array\narr = np.array([3, 2, 1, 5, 4])\n\nprint(\"Original array:\")\nprint(arr)\n\n# Sort the array\nsorted_arr = np.sort(arr)\n\nprint(\"Sorted array:\")\nprint(sorted_arr)"
      ]
    },
    {
      "cell_type": "markdown",
      "metadata": {},
      "source": [
        "-   To reverse the sorting order of a NumPy array, you can use the\n    `[::-1]` slicing operation after sorting the array:\n\n"
      ]
    },
    {
      "cell_type": "code",
      "execution_count": 1,
      "metadata": {},
      "outputs": [
        {
          "name": "stdout",
          "output_type": "stream",
          "text": [
            ": Original array:\n  : [3 2 1 5 4]\n  : Array sorted in descending order:\n  : [5 4 3 2 1]"
          ]
        }
      ],
      "source": [
        "import numpy as np\n\n# Create a numpy array\narr = np.array([3, 2, 1, 5, 4])\n\nprint(\"Original array:\")\nprint(arr)\n\n# Sort the array in descending order\nsorted_arr_desc = np.sort(arr)[::-1]\n\nprint(\"Array sorted in descending order:\")\nprint(sorted_arr_desc)"
      ]
    },
    {
      "cell_type": "markdown",
      "metadata": {},
      "source": [
        "-   This slicing trick also works with lists:\n\n"
      ]
    },
    {
      "cell_type": "code",
      "execution_count": 1,
      "metadata": {},
      "outputs": [
        {
          "name": "stdout",
          "output_type": "stream",
          "text": [
            ": [1, 2, 3, 4, 5]\n  : [5, 4, 3, 2, 1]"
          ]
        }
      ],
      "source": [
        "spam = [3, 2, 1, 5, 4]\nspam.sort()\nprint(spam)\nprint(spam[::-1])"
      ]
    },
    {
      "cell_type": "markdown",
      "metadata": {},
      "source": [
        "## Sorting a pandas `DataFrame`\n\n"
      ]
    },
    {
      "cell_type": "markdown",
      "metadata": {},
      "source": [
        "-   You can sort a DataFrame by values in one or more columns with the\n    `pd.sort_values` method:\n\n"
      ]
    },
    {
      "cell_type": "code",
      "execution_count": 1,
      "metadata": {},
      "outputs": [],
      "source": [
        "import pandas as pd\n\n# create a simple dataframe with columns, A,B,C\ndf = pd.DataFrame({\n    'A': [2,3,1],\n    'B': [1,3,2],\n    'C': ['b','a','c']\n})\n\nprint(\"Original DataFrame\")\nprint(df)\n\n# Sort by column 'A'\ndf_sorted = df.sort_values('A')\n\nprint(\"DataFrame sorted by column 'A'\")\nprint(df_sorted)"
      ]
    },
    {
      "cell_type": "markdown",
      "metadata": {},
      "source": [
        "-   A DataFrame is not a matrix: to sort by the rows you need to sort by\n    the row labels (the index) using the `sort_index` method:\n\n"
      ]
    },
    {
      "cell_type": "code",
      "execution_count": 1,
      "metadata": {},
      "outputs": [
        {
          "name": "stdout",
          "output_type": "stream",
          "text": [
            "#+begin_example\n  Original DataFrame\n     A  B  C\n  Y  2  1  b\n  X  3  3  a\n  Z  1  2  c\n  DataFrame sorted by index\n     A  B  C\n  X  3  3  a\n  Y  2  1  b\n  Z  1  2  c\n  #+end_example"
          ]
        }
      ],
      "source": [
        "import pandas as pd\n\n# create a simple dataframe with columns, A,B,C \ndf = pd.DataFrame({\n    'A': [2,3,1],\n    'B': [1,3,2],\n    'C': ['b','a','c']\n}, index = ['Y', 'X', 'Z'])\n\nprint(\"Original DataFrame\")\nprint(df)\n\n# sort by index\ndf_sorted = df.sort_index()\n\nprint(\"DataFrame sorted by index\")\nprint(df_sorted)"
      ]
    },
    {
      "cell_type": "markdown",
      "metadata": {},
      "source": [
        "## Exceptions to Python indentation rules for `list`\n\n"
      ]
    },
    {
      "cell_type": "markdown",
      "metadata": {},
      "source": [
        "-   Indentation is significant in Python because the indentation for a\n    line of code tells Python what block it is in, otherwise you get an\n    `IndentationError`.\n\n-   Lists, however, can span several lines in any indentation, and the\n    same goes for pandas `DataFrame` and NumPy `array` structures: Python\n    knows that the structure isn't finished before the ending bracket.\n\n-   List example:\n\n"
      ]
    },
    {
      "cell_type": "code",
      "execution_count": 1,
      "metadata": {},
      "outputs": [],
      "source": [
        "spam = ['apples',\n        'oranges',\n                        'bananas',\n 'peaches'                            ]\nprint(spam)\nprint(type(spam))"
      ]
    },
    {
      "cell_type": "markdown",
      "metadata": {},
      "source": [
        "-   NumPy example:\n\n"
      ]
    },
    {
      "cell_type": "code",
      "execution_count": 1,
      "metadata": {},
      "outputs": [],
      "source": [
        "import numpy as np\narr = np.array(['apples',\n        'oranges',\n                        'bananas',\n 'peaches'                            ])\nprint(arr)\nprint(type(arr))"
      ]
    },
    {
      "cell_type": "markdown",
      "metadata": {},
      "source": [
        "-   Pandas example:\n\n"
      ]
    },
    {
      "cell_type": "code",
      "execution_count": 1,
      "metadata": {},
      "outputs": [
        {
          "name": "stdout",
          "output_type": "stream",
          "text": [
            ":    A  B  C\n  : 0  1  4  7\n  : 1  2  5  8\n  : 2  3  6  9\n  : <class 'pandas.core.frame.DataFrame'>"
          ]
        }
      ],
      "source": [
        "import pandas as pd\ndf = pd.DataFrame({ 'A': [1,2,\n                          3],\n    'B' :\n                    [4, 5, 6],\n                       'C':\n[7,8,9]\n                    })\nprint(df)\nprint(type(df))"
      ]
    },
    {
      "cell_type": "markdown",
      "metadata": {},
      "source": [
        "## Practice `list` methods - Magic 8 Ball reloaded\n\n"
      ]
    },
    {
      "cell_type": "markdown",
      "metadata": {},
      "source": [
        "1.  Earlier, you created a Magic 8 ball program as a fortune teller:\n\n"
      ]
    },
    {
      "cell_type": "code",
      "execution_count": 1,
      "metadata": {},
      "outputs": [],
      "source": [
        "import random\n\ndef getAnswer(answerNumber):\n    if answerNumber == 1:\n        return 'It is certain'\n    elif answerNumber == 2:\n        return 'It is decidely so'\n    elif answerNumber == 3:\n        return 'It is Yes'\n    elif answerNumber == 4:\n        return 'Reply hazy try again'\n    elif answerNumber == 5:\n        return 'Ask again later'\n    elif answerNumber == 6:\n        return 'Concentrate and ask again'\n    elif answerNumber == 7:\n        return 'My reply is no'\n    elif answerNumber == 8:\n        return 'Outlook not so good'\n    elif answerNumber == 9:\n        return 'Very doubtful'\n\nr = random.randint(1,9)\nfortune = getAnswer(r)\nprint(fortune)"
      ]
    },
    {
      "cell_type": "markdown",
      "metadata": {},
      "source": [
        "1.  Using lists, write a much more elegant version of the previous\n    Magic 8 Ball program:\n    -   instead of several lines of nearly identical `elif` statements,\n        create a single list `messages` to work with. The list holds the\n        messages as its items.\n    -   instead of calling a function `getAnswer`, `print` a message using\n        `random.randint` to pick the index (i.e. the position) of the\n        message - there are 9 messages. Remember that `random.randint(a,b)`\n        picks an integer in `[a,b]`.\n    -   You can generalize the program further by making the upper bound\n        of `random.randint` independent of the number 9. Now you could add\n        messages to the list ad infinitum.\n\n2.  Solution:\n\n"
      ]
    },
    {
      "cell_type": "code",
      "execution_count": 1,
      "metadata": {},
      "outputs": [
        {
          "name": "stdout",
          "output_type": "stream",
          "text": [
            ": Reply hazy try again"
          ]
        }
      ],
      "source": [
        "import random\n\nmessages = ['It is certain',\n            'It is decidedly so',\n            'Yes, definitely',\n            'Reply hazy try again',\n            'Ask again later',\n            'Concentrate and ask again',\n            'My reply is no',\n            'Outlook not so good',\n            'Very doubtful']\n\nprint(messages[random.randint(0,len(messages)-1)])"
      ]
    },
    {
      "cell_type": "markdown",
      "metadata": {},
      "source": [
        "1.  Test the performance of both programs in Colab using `%timeit`. Do\n    you record any difference?\n\n"
      ]
    }
  ],
  "metadata": [
    [
      "org"
    ],
    null,
    null
  ],
  "nbformat": 4,
  "nbformat_minor": 0
}
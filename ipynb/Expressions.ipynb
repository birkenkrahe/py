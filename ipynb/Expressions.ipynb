{
  "cells": [
    {
      "cell_type": "markdown",
      "source": [
        "# Expressions: values and operators"
      ],
      "metadata": {
        "id": "qWdQ20ia4PqX"
      }
    },
    {
      "cell_type": "markdown",
      "source": [
        "`2 + 2` is called an **expression**: an instruction consisting of **values** `2` and a binary **operator** `+`. Expressions always evaluate to a single value, no matter where you place them:"
      ],
      "metadata": {
        "id": "jy9WzJx8wiQc"
      }
    },
    {
      "cell_type": "code",
      "execution_count": null,
      "metadata": {
        "colab": {
          "base_uri": "https://localhost:8080/"
        },
        "id": "lIYdn1woOS1n",
        "outputId": "6f7e1a4d-cd70-49cb-bced-e8edb1acc779"
      },
      "outputs": [
        {
          "output_type": "execute_result",
          "data": {
            "text/plain": [
              "4"
            ]
          },
          "metadata": {},
          "execution_count": 5
        }
      ],
      "source": [
        "2+2"
      ]
    },
    {
      "cell_type": "code",
      "source": [
        "print(2+2)\n",
        "str(2+2)"
      ],
      "metadata": {
        "colab": {
          "base_uri": "https://localhost:8080/",
          "height": 54
        },
        "id": "ipWFseFswo0G",
        "outputId": "aa69aec8-aff0-4f5f-d2d3-6cf96e0b2e53"
      },
      "execution_count": null,
      "outputs": [
        {
          "output_type": "stream",
          "name": "stdout",
          "text": [
            "4\n"
          ]
        },
        {
          "output_type": "execute_result",
          "data": {
            "text/plain": [
              "'4'"
            ],
            "application/vnd.google.colaboratory.intrinsic+json": {
              "type": "string"
            }
          },
          "metadata": {},
          "execution_count": 9
        }
      ]
    },
    {
      "cell_type": "markdown",
      "source": [
        "A single value `2` is also an expression - it evaluates to itself:"
      ],
      "metadata": {
        "id": "Qye28-93x8Ks"
      }
    },
    {
      "cell_type": "code",
      "source": [
        "2"
      ],
      "metadata": {
        "colab": {
          "base_uri": "https://localhost:8080/"
        },
        "id": "TU8fR6G1yHzK",
        "outputId": "506ca704-2a4d-4409-f222-a462b658d826"
      },
      "execution_count": null,
      "outputs": [
        {
          "output_type": "execute_result",
          "data": {
            "text/plain": [
              "2"
            ]
          },
          "metadata": {},
          "execution_count": 10
        }
      ]
    },
    {
      "cell_type": "markdown",
      "source": [
        "Let's generate a couple of error messages for wrong expressions:"
      ],
      "metadata": {
        "id": "H7aekZS3zoJ8"
      }
    },
    {
      "cell_type": "code",
      "source": [
        "2+"
      ],
      "metadata": {
        "colab": {
          "base_uri": "https://localhost:8080/",
          "height": 134
        },
        "id": "6Yus2kfpztYs",
        "outputId": "0f54a45e-f42d-437a-bfe1-57a3bd56f262"
      },
      "execution_count": null,
      "outputs": [
        {
          "output_type": "error",
          "ename": "SyntaxError",
          "evalue": "ignored",
          "traceback": [
            "\u001b[0;36m  File \u001b[0;32m\"<ipython-input-14-7abc0cc8302a>\"\u001b[0;36m, line \u001b[0;32m1\u001b[0m\n\u001b[0;31m    2+\u001b[0m\n\u001b[0m      ^\u001b[0m\n\u001b[0;31mSyntaxError\u001b[0m\u001b[0;31m:\u001b[0m invalid syntax\n"
          ]
        }
      ]
    },
    {
      "cell_type": "code",
      "source": [
        "2 + '2'"
      ],
      "metadata": {
        "colab": {
          "base_uri": "https://localhost:8080/",
          "height": 171
        },
        "id": "fwYhOTPw0keB",
        "outputId": "f34119d7-f717-420e-b62f-c9ae30812e0f"
      },
      "execution_count": null,
      "outputs": [
        {
          "output_type": "error",
          "ename": "TypeError",
          "evalue": "ignored",
          "traceback": [
            "\u001b[0;31m---------------------------------------------------------------------------\u001b[0m",
            "\u001b[0;31mTypeError\u001b[0m                                 Traceback (most recent call last)",
            "\u001b[0;32m<ipython-input-15-82150feed70c>\u001b[0m in \u001b[0;36m<cell line: 1>\u001b[0;34m()\u001b[0m\n\u001b[0;32m----> 1\u001b[0;31m \u001b[0;36m2\u001b[0m \u001b[0;34m+\u001b[0m \u001b[0;34m'2'\u001b[0m\u001b[0;34m\u001b[0m\u001b[0;34m\u001b[0m\u001b[0m\n\u001b[0m",
            "\u001b[0;31mTypeError\u001b[0m: unsupported operand type(s) for +: 'int' and 'str'"
          ]
        }
      ]
    },
    {
      "cell_type": "code",
      "source": [
        "2\n",
        " 2"
      ],
      "metadata": {
        "colab": {
          "base_uri": "https://localhost:8080/",
          "height": 134
        },
        "id": "mx49ahnU0moi",
        "outputId": "3799d35c-f8d6-4f75-bf39-b0a03dcb31ec"
      },
      "execution_count": null,
      "outputs": [
        {
          "output_type": "error",
          "ename": "IndentationError",
          "evalue": "ignored",
          "traceback": [
            "\u001b[0;36m  File \u001b[0;32m\"<ipython-input-40-d7f29c3178ff>\"\u001b[0;36m, line \u001b[0;32m2\u001b[0m\n\u001b[0;31m    2\u001b[0m\n\u001b[0m    ^\u001b[0m\n\u001b[0;31mIndentationError\u001b[0m\u001b[0;31m:\u001b[0m unexpected indent\n"
          ]
        }
      ]
    },
    {
      "cell_type": "code",
      "source": [
        "2 + ++ 2"
      ],
      "metadata": {
        "colab": {
          "base_uri": "https://localhost:8080/"
        },
        "id": "v1KMg5x_1g83",
        "outputId": "589d7e8b-ec11-4da8-af19-bfde6f37243c"
      },
      "execution_count": null,
      "outputs": [
        {
          "output_type": "execute_result",
          "data": {
            "text/plain": [
              "4"
            ]
          },
          "metadata": {},
          "execution_count": 37
        }
      ]
    },
    {
      "cell_type": "code",
      "source": [
        "2 - ++ 2"
      ],
      "metadata": {
        "colab": {
          "base_uri": "https://localhost:8080/"
        },
        "id": "JqIQyaxF1pwg",
        "outputId": "a7d7de9e-e830-4117-cedd-bda2e1e51419"
      },
      "execution_count": null,
      "outputs": [
        {
          "output_type": "execute_result",
          "data": {
            "text/plain": [
              "0"
            ]
          },
          "metadata": {},
          "execution_count": 39
        }
      ]
    },
    {
      "cell_type": "markdown",
      "source": [
        "When Python gets an expression with more than one operator, it observes this order of precedence: ** > % > // > / > * > - > +"
      ],
      "metadata": {
        "id": "2Yf-3VtT2Ciz"
      }
    },
    {
      "cell_type": "code",
      "source": [
        "-2 + 24 / 8"
      ],
      "metadata": {
        "colab": {
          "base_uri": "https://localhost:8080/"
        },
        "id": "VtBErp4a3Vws",
        "outputId": "dbcfb310-816f-4bc9-eae1-61af286c4e3d"
      },
      "execution_count": null,
      "outputs": [
        {
          "output_type": "execute_result",
          "data": {
            "text/plain": [
              "1.0"
            ]
          },
          "metadata": {},
          "execution_count": 41
        }
      ]
    },
    {
      "cell_type": "code",
      "source": [
        "(-2 + 24) / 8"
      ],
      "metadata": {
        "colab": {
          "base_uri": "https://localhost:8080/"
        },
        "id": "RTSYMJeG3Z9R",
        "outputId": "5a2ee18f-2de4-457b-82e5-ebd928179b73"
      },
      "execution_count": null,
      "outputs": [
        {
          "output_type": "execute_result",
          "data": {
            "text/plain": [
              "2.75"
            ]
          },
          "metadata": {},
          "execution_count": 42
        }
      ]
    },
    {
      "cell_type": "markdown",
      "source": [
        "Some examples:"
      ],
      "metadata": {
        "id": "-ETC5QJJ41Jc"
      }
    },
    {
      "cell_type": "code",
      "source": [
        "2 + 3 * 6"
      ],
      "metadata": {
        "id": "kIQ0RwQk437b",
        "outputId": "bca9b96e-281a-49fd-b166-f975835870b2",
        "colab": {
          "base_uri": "https://localhost:8080/"
        }
      },
      "execution_count": null,
      "outputs": [
        {
          "output_type": "execute_result",
          "data": {
            "text/plain": [
              "20"
            ]
          },
          "metadata": {},
          "execution_count": 43
        }
      ]
    },
    {
      "cell_type": "code",
      "source": [
        "(2 + 3) * 6"
      ],
      "metadata": {
        "id": "cVZwvKOj46ko",
        "outputId": "3714fc36-6c7d-4e2f-aa5e-d0f0922955f0",
        "colab": {
          "base_uri": "https://localhost:8080/"
        }
      },
      "execution_count": null,
      "outputs": [
        {
          "output_type": "execute_result",
          "data": {
            "text/plain": [
              "30"
            ]
          },
          "metadata": {},
          "execution_count": 44
        }
      ]
    },
    {
      "cell_type": "code",
      "source": [
        "48565857 * 578453"
      ],
      "metadata": {
        "id": "j3KZOYOc4-nK",
        "outputId": "94a46d8a-2386-4d1a-de2f-af68768d482b",
        "colab": {
          "base_uri": "https://localhost:8080/"
        }
      },
      "execution_count": null,
      "outputs": [
        {
          "output_type": "execute_result",
          "data": {
            "text/plain": [
              "28093065679221"
            ]
          },
          "metadata": {},
          "execution_count": 45
        }
      ]
    },
    {
      "cell_type": "code",
      "source": [
        "2 ** 8"
      ],
      "metadata": {
        "id": "BvX69D7K5ITF",
        "outputId": "72490b47-6c45-4159-db50-9a4d95c20e24",
        "colab": {
          "base_uri": "https://localhost:8080/"
        }
      },
      "execution_count": null,
      "outputs": [
        {
          "output_type": "execute_result",
          "data": {
            "text/plain": [
              "256"
            ]
          },
          "metadata": {},
          "execution_count": 47
        }
      ]
    },
    {
      "cell_type": "code",
      "source": [
        "23 / 7"
      ],
      "metadata": {
        "id": "sySDFXdz5Kq9",
        "outputId": "c4f6e92d-9106-4ba2-ffa0-5fa927a509a5",
        "colab": {
          "base_uri": "https://localhost:8080/"
        }
      },
      "execution_count": null,
      "outputs": [
        {
          "output_type": "execute_result",
          "data": {
            "text/plain": [
              "3.2857142857142856"
            ]
          },
          "metadata": {},
          "execution_count": 49
        }
      ]
    },
    {
      "cell_type": "code",
      "source": [
        "23 // 7"
      ],
      "metadata": {
        "id": "8JNRcqZe5MBm",
        "outputId": "4b64bec5-dcd4-4f41-80db-94c159e8d146",
        "colab": {
          "base_uri": "https://localhost:8080/"
        }
      },
      "execution_count": null,
      "outputs": [
        {
          "output_type": "execute_result",
          "data": {
            "text/plain": [
              "3"
            ]
          },
          "metadata": {},
          "execution_count": 50
        }
      ]
    },
    {
      "cell_type": "code",
      "source": [
        "2     +       2"
      ],
      "metadata": {
        "id": "C69OOzYq5U5I",
        "outputId": "5aa8b87d-ff6c-4645-e288-a0987d3d102f",
        "colab": {
          "base_uri": "https://localhost:8080/"
        }
      },
      "execution_count": null,
      "outputs": [
        {
          "output_type": "execute_result",
          "data": {
            "text/plain": [
              "4"
            ]
          },
          "metadata": {},
          "execution_count": 53
        }
      ]
    },
    {
      "cell_type": "code",
      "source": [
        "(5 - 1) * ((7+1) / (3 - 1))"
      ],
      "metadata": {
        "id": "9_zPwB6O5bPY",
        "outputId": "b0cf16cf-0f07-4b5c-d8fd-6b3e02b2d026",
        "colab": {
          "base_uri": "https://localhost:8080/"
        }
      },
      "execution_count": null,
      "outputs": [
        {
          "output_type": "execute_result",
          "data": {
            "text/plain": [
              "16.0"
            ]
          },
          "metadata": {},
          "execution_count": 54
        }
      ]
    }
  ],
  "metadata": {
    "colab": {
      "provenance": []
    },
    "kernelspec": {
      "display_name": "Python 3",
      "name": "python3"
    }
  },
  "nbformat": 4,
  "nbformat_minor": 0
}
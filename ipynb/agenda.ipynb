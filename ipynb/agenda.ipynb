{
  "cells": [
    {
      "cell_type": "markdown",
      "metadata": {},
      "source": "Agenda - Introduction to programming in Python\n==============================================\n\n**Author:** Marcus Birkenkrahe\n\n"
    },
    {
      "cell_type": "markdown",
      "metadata": {},
      "source": [
        "## Day 1: Entry survey analysis and course overview\n\n"
      ]
    },
    {
      "cell_type": "markdown",
      "metadata": {},
      "source": [
        "![img](../img/dataScientistIn50days.jpg)\n\n-   [X] Go to Canvas ([lyon.instructure.com](https://lyon.instructure.com/courses/1700))\n-   [X] Open Zoom ([lyon-edu.zoom.us/j/85828233316](https://lyon-edu.zoom.us/j/85828233316))\n-   [X] Entry **survey** - [review of your responses](https://docs.google.com/forms/d/1yz2EtuSin3r54zMG1d_JCnnVAGb0XI8cP-Yvr7FmZbo/edit#responses).\n    -   What is the OS and why is it relevant to programming?\n    -   What is the command line and why is it important?\n    -   Which languages do you already know (10!): FORTRAN, Visual BASIC,\n        SQL, R, Stata, Java, C#, Python,C,Lua\n    -   Topics wanted: 1) **webscraping**, 2) **Machine learning**, 3) Cybersecurity\n    -   Tools: VS Code/Emacs IDEs known\n    -   Terror: I will never show up drunk (in class or anywhere)\n    -   Time: 120 min in class, 180 min outside of class (per day)\n        1.  class: 15 min check in and review\n        2.  class: 90 min lecture + practice\n        3.  class: 15 min summary, questions, outlook\n        4.  home: 30-90 min DataCamp + 60-120 min revision/assignments\n-   [ ] Course **overview** - assignments, grading, topics, platforms.\n-   [ ] **Practice:** a first (literate) Python program & platforms.\n-   [ ] First **assignment**: \"Getting started in Python\" @DataCamp.\n\n"
      ]
    },
    {
      "cell_type": "markdown",
      "metadata": {},
      "source": [
        "### In-class summary\n\n"
      ]
    },
    {
      "cell_type": "markdown",
      "metadata": {},
      "source": [
        "-   The terminal allows the user to communicate with the OS.\n-   Python comes in different versions.\n-   Python (and all apps) need to be built/compiled for an OS.\n-   Microsoft (and others) combines technical and commercial interests.\n-   Python [the interpreter] is written in C.\n-   There are (many) different layers of software between user and\n    machine (which leads to greater usability/lower performance).\n\n"
      ]
    },
    {
      "cell_type": "markdown",
      "metadata": {},
      "source": [
        "### Homework\n\n"
      ]
    },
    {
      "cell_type": "markdown",
      "metadata": {},
      "source": [
        "-   Register with GitHub, DataCamp, replit.com\n-   Get access to Canvas for materials and for Zoom\n-   \"Infinite skills\" exercise\n\n"
      ]
    },
    {
      "cell_type": "markdown",
      "metadata": {},
      "source": [
        "## Day 2: Python scripting infrastructure practice I\n\n"
      ]
    },
    {
      "cell_type": "markdown",
      "metadata": {},
      "source": [
        "![img](../img/0_highways.jpg)\n\n(A [PDF and an Org-mode version of this exercise](https://github.com/birkenkrahe/py/) are on GitHub)\n\n"
      ]
    },
    {
      "cell_type": "markdown",
      "metadata": {},
      "source": [
        "### Infinite skills - infinite resources\n\n"
      ]
    },
    {
      "cell_type": "markdown",
      "metadata": {},
      "source": [
        "![img](../img/infinite.jpg)\n\n[Canvas announcement](https://lyon.instructure.com/courses/1700/discussion_topics/4347)\n\n-   A math app that you cannot cheat with - an honor math app\n-   A resource matching app: e.g. match labor supply with demand (really\n    efficiently), possibly including a market and negotiation engine\n-   A game where the world generates itself as soon as you reach the end\n    of it including quest lines, NPCs\n-   An Internet Wayback machine without the snags where you can retrieve\n    a version of a website fast and very granularly\n-   A script that can reach into SQL and pull values out of a column to\n    monitor daily changes in the columns, e.g. money\n\n> My infinite skills Python projects:\n> 1. An application that lets students know which remote or in-person\n>    data science internships are currently available in the USA.\n> 2. An application that predicts cancer risk from medical images with\n>    no false negatives (i.e. images that show cancer but were not\n>    labeled as such).\n> 3. An application that shows me the (publicly available) syllabi of\n>    all courses (world-wide) with the title and content of my upcoming\n>    courses.\n> 4. An application that provides real-time insight into Lyon College\n>    data, especially retention, grade average, finance, incoming\n>    students, alumni vs. visitor data.\n> 5. An application that finds funding opportunities, pre-fills them\n>    with available data (publications, personal, location) and\n>    identifies next steps.\n> 6. An application based on a speech assistant coupled with a\n>    conversational chat bot that submits: early alerts, grades,\n>    summaries after each class as announcements.\n\n"
      ]
    },
    {
      "cell_type": "markdown",
      "metadata": {},
      "source": [
        "### Day review (and test preview)\n\n"
      ]
    },
    {
      "cell_type": "markdown",
      "metadata": {},
      "source": [
        "![img](../img/review.jpg \"Family packing fruit, Sydneay 1911 (Flickr.com)\")\n\n*We review yesterday's material. These questions will resurface in the\nweekly multiple-choice tests, i.e. you can use this to prepare.*\n\n1.  What's a computer terminal?\n    -   A window to communicate with the Operating System (OS)\n    -   A command line interface (CLI)\n    -   A place to enter shell commands (like `cd`)\n\n2.  What are three strengths and three weaknesses of Python?\n    \n    | STRENGTH|WEAKNESS|\n    |---|---|\n    | Easy to learn and to read|Performance (speed)|\n    | Data science applications|Significant indentation|\n    | Automation and small scripts|Platform requirements|\n\n3.  What language is the Python interpreter written in?\n\n>    Answer: in the C programming language (which allows programming\n>    'close to the machine' (making full use of its resources).\n\n1.  What are we going to use Schoology for in this course?\n\n>    Answer: for nothing. We use the Canvas learning management system,\n>    GitHub, DataCamp, replit.com, IDLE and Google Colaboratory.\n\n1.  What's our policy regarding the use of AI coding assistants?\n\n>    Answer: it's allowed as long as you reference and document your\n>    use.\n\n1.  What does Google Colab provide but Python's IDLE does not?\n\n>    Answer: An interactive notebook\n\n1.  What's the difference between a compiled language (for example C)\n    vs. an interpreted language (for example Python or R)?\n\n>    - Compiler: Human-readable source code is compiled to a\n>      machine-readable file that needs to be executed for results.\n>    - Interpreter: source code is read and executed line by line at\n>      runtime, and no executable file is produced.\n>    - Both compiler and interpreter are specific to the underlying\n>      computer architecture.\n\n"
      ]
    },
    {
      "cell_type": "markdown",
      "metadata": {},
      "source": [
        "### Practice\n\n"
      ]
    },
    {
      "cell_type": "markdown",
      "metadata": {},
      "source": [
        "![img](../img/practice.jpg \"RAAF crew woring on newly arrived Lockheed aircraft (1940)\")\n\n-   Find Python on your computer\n-   Find Python for download to your PC on the web\n-   Starting and using Google Colab, IDLE, DataCamp and replit.com\n-   Understand the \"literate programming concept\"\n-   Understand when we're using Colab + IDLE + replit.com\n-   Options for creating and running Python scripts\n-   Creating and running our first ever Python script\n\n"
      ]
    },
    {
      "cell_type": "markdown",
      "metadata": {},
      "source": [
        "### In-class summary - what did we discuss today?\n\n"
      ]
    },
    {
      "cell_type": "markdown",
      "metadata": {},
      "source": [
        "![img](../img/summary.jpg \"Women spectators at wrestling, Sydney stadium 1940 (Flickr.com)\")\n\n-   [See also the whiteboard photos from the class session in GDrive](https://drive.google.com/drive/folders/1IEkIHzieBJ_tS5GPigsCxRZcioanlPof?usp=sharing).\n-   Practice file as PDF ([class handout](https://github.com/birkenkrahe/py/blob/main/pdf/0_course_practice.pdf))\n-   Windows' Command Line Interface: finding and opening the terminal,\n    prompt, absolute/relative path, root and file tree, CLI commands and\n    options; `cd`, `python`, `ls`, `whoami`.\n-   Python's IDLE: interactive shell `>>>`, getting `help()` and finding\n    documentation; Python keywords, symbols and modules (libraries).\n-   Python's file editor: printing a greeting in Python (hello world)\n    with `print`. Default arguments. Comments (`#`), `.py` file types,\n    debugger and traceback. Keyboard interrupt (`CTRL + c`).\n-   Literate programming: weaving documentation and tangling source code\n    from a literate file that contains text + code + output. With Emacs:\n    one document with code in < 44 languages.\n-   Google's Colab: code and text cells, scratch cell, GDrive backup,\n    GitHub gist export, auto-completion, interactive notebooks with\n    IPython (`.ipynb`), `matplotlib` and `numpy` modules. `import`, lineplot\n    with `pyplot`. Colab dashboard. Markdown with `#` (headline).\n\n"
      ]
    },
    {
      "cell_type": "markdown",
      "metadata": {},
      "source": [
        "### Homework: first assignment\n\n"
      ]
    },
    {
      "cell_type": "markdown",
      "metadata": {},
      "source": [
        "![img](../img/homework.jpg \"Max Williams photographed by Ian Grimes, 1942 (Flickr.com)\")\n\n-   The problem: [word count](https://lyon.instructure.com/courses/1700/assignments/14493).\n-   Requirements:\n    1.  Google Colab (platform for submission)\n    2.  String manipulation (function `str.count`)\n    3.  Getting input (function `input`)\n    4.  Storing variables with `=`\n    5.  Printing numeric output as string with `str`\n    6.  Bonus: nesting functions\n\n"
      ]
    },
    {
      "cell_type": "markdown",
      "metadata": {},
      "source": [
        "## Day 3: Infrastructure practice II: DataCamp, REPL\n\n"
      ]
    },
    {
      "cell_type": "markdown",
      "metadata": {},
      "source": [
        "![img](../img/jason.png \"Obituary page for Jason Anderson (willisfs.com)\")\n\nChange of plans: **We will \\*not meet in class on Thursday, 24 May**. I'd\nlike to be able to attend both the visitation and the memorial service\nfor Jason Anderson ([†](https://www.willisfs.com/obituary/Jason-Anderson)) myself tomorrow from 1 pm - 3 pm (Brown\nChapel).\n\nInstead, please work through the remainder of the practice file\n(handout and [here on GitHub](https://github.com/birkenkrahe/py/blob/main/pdf/0_course_practice.pdf)) **on your own**. Both sessions can be done\nonline from the comfort of your home:\n\n1.  Open a browser with two windows, and work through the exercises for\n    replit.com and DataCamp workspaces line by line.\n2.  Essentially, both environments offer file editor + interactive\n    Python shell + OS shell in one window.\n3.  Replit.com is more like IDLE, while the DataCamp workspace is an\n    interactive notebook like Colab.\n4.  Python-wise, this is essentially \"hello world\" again.\n\nThis shouldn't take more than an hour. Use the remaining time to get\nstarted with your [DataCamp assignments](https://app.datacamp.com/groups/lyon-college-data-science-spring-2023/assignments) (15 chapters in total,\nrequiring no less than 15 hours of practice).\n\nIn the middle of our taking off for flight, it might be worthwhile\nhighlighting some logistics to help you review past sessions if you so\nchoose:\n\n1.  You can find the **session review/test preview** information, and a\n    summary of the last session in the agenda file here in GitHub\n    ([PDF](https://github.com/birkenkrahe/py/blob/main/pdf/agenda.pdf) or [HTML](https://github.com/birkenkrahe/py/blob/main/org/agenda.org)).\n2.  You can find all **practice and lecture files** in the PDF directory\n    here in GitHub ([PDF](https://github.com/birkenkrahe/py/tree/main/pdf) or [HTML](https://github.com/birkenkrahe/py/tree/main/org)): I just went through it myself to\n    review today.\n3.  Lastly, photos of the **whiteboard** writings and drawings are\n    available [here in GDrive](https://drive.google.com/drive/folders/1IEkIHzieBJ_tS5GPigsCxRZcioanlPof?usp=sharing).\n\nI'm looking forward to seeing you on Friday to cover Python\nexpressions, variables and statements with more practice exercises.\n\nAny questions, you know where to find me!\n\nCheers\n\n"
      ]
    },
    {
      "cell_type": "markdown",
      "metadata": {},
      "source": [
        "## Day 4: Expressions, Variables, Statements\n\n"
      ]
    },
    {
      "cell_type": "markdown",
      "metadata": {},
      "source": [
        "![img](../img/acrobats.jpg \"Thirteen men doing acrobatics (LOC)\")\n\n"
      ]
    },
    {
      "cell_type": "markdown",
      "metadata": {},
      "source": [
        "### Adding the course calendar to Google calendar\n\n"
      ]
    },
    {
      "cell_type": "markdown",
      "metadata": {},
      "source": [
        "![img](../img/calendar.png \"Canvas calendar with course events\")\n\n-   Find `Calendar` in leftmost Canvas sidebar\n-   Check \"Introduction to Programming in Python\"\n-   Click `Calendar Feed` (lower right)\n-   Import URL in Google calendar\n\n"
      ]
    },
    {
      "cell_type": "markdown",
      "metadata": {},
      "source": [
        "### Using Python chat in GMail outside class\n\n"
      ]
    },
    {
      "cell_type": "markdown",
      "metadata": {},
      "source": [
        "![img](../img/space.png \"Google Python chat space members\")\n\n"
      ]
    },
    {
      "cell_type": "markdown",
      "metadata": {},
      "source": [
        "### Day review (and test preview)\n\n"
      ]
    },
    {
      "cell_type": "markdown",
      "metadata": {},
      "source": [
        "![img](../img/review.jpg \"Family packing fruit, Sydneay 1911 (Flickr.com)\")\n\n*We review yesterday's material. These questions will resurface in the\nweekly multiple-choice tests, i.e. you can use this to prepare.*\n\n1.  What's the difference between an absolute and a relative path?\n\n>    Answer: The **absolute** path always begins at the root directory, the\n>    origin of the file tree (e.g. `C:\\` on Windows, or `/` on Linux), while\n>    the **relative** path specifies a location relative to your current\n>    directory (`PWD`).\n\n1.  You know 4 different Python shells already - which are they?\n\n>    - The interactive Python shell in IDLE (`>>>`)\n>    - The IPython code cell in Google Colab (`[1]`)\n>    - The console in replit.com `>`\n>    - The shell opened in a terminal with the `python` command\n\n1.  Which features does the IPython shell (e.g. in a Colab code cell)\n    have?\n\n>    - Auto-completion of keywords like `print` and user-defined variables\n>    - Integration of pre-installed modules like `matplotlib` for plotting\n\n1.  Are your Google Colab notebooks saved anywhere?\n\n>    Yes, they are automatically saved in the `Colab Notebooks` directory\n>    in your Google drive (`w:\\My Drive\\` on Windows @Lyon).\n\n1.  What can you do with the `#` symbol?\n\n>    - Comment lines in a `.py` Python file\n>    - Comment on the interactive Python shell\n>    - Create headlines in a Colab text cell (\"markdown markup\")\n\n1.  What does DataCamp workspace offer?\n\n>    - Linux shell\n>    - Interactive Python console\n>    - Python file editor\n>    - Interactive Jupyter notebook\n>    - plus a few JupyterLab gadgets (launcher)\n\n"
      ]
    },
    {
      "cell_type": "markdown",
      "metadata": {},
      "source": [
        "### DataCamp lessons / practice\n\n"
      ]
    },
    {
      "cell_type": "markdown",
      "metadata": {},
      "source": [
        "![img](../img/datacamp_practice.png) ![img](../img/datacamp_practice1.png) ![img](../img/datacamp_practice2.png) ![img](../img/datacamp_practice3.png)\n\nSome questions for test 1 will come from the \"Python Basics\" chapter\nof the \"Introduction to Python\" course on DataCamp (you can practice).\n\nPlease note the (new) [deadlines for the three DataCamp courses](https://lyon.instructure.com/courses/1700/assignments). These\ncourses amount to 60% of the home assignment grade. The remaining\npoints will come from 8 programming assignments (like \"word count\").\n\n"
      ]
    },
    {
      "cell_type": "markdown",
      "metadata": {},
      "source": [
        "### Lecture/practice: Python Basics\n\n"
      ]
    },
    {
      "cell_type": "markdown",
      "metadata": {},
      "source": [
        "![img](../img/lecture.jpg \"Lecture renversante by Totoffff (Flickr.com)\")\n\n-   Expressions\n-   Variables\n-   Statements\n\n"
      ]
    },
    {
      "cell_type": "markdown",
      "metadata": {},
      "source": [
        "### Python chat\n\n"
      ]
    },
    {
      "cell_type": "markdown",
      "metadata": {},
      "source": [
        "#### Using Anaconda\n\n"
      ]
    },
    {
      "cell_type": "markdown",
      "metadata": {},
      "source": [
        "Jonathan Tucker: If you need a different Python version for running a\nprogram (that requires a specific version) what application would you\nuse to create this? I need to be able to run the newest version of\nPython and switch between the older version seamlessly.  I'm looking\nat using Conda to give the program its own Python environment (with\nthe correct version), does this make sense?\n\nAnswer: Yes this does make sense. Anaconda may be overkill though -\nyou ought to be aware of the bare metal alternative which is Python's\nvirtualenv. The purpose is not so much to switch between versions fast\nbut to have different environments for your production code. If you're\na lone developer though why not just have different versions on your\nmachine. I do that with R all the time (whenever I upgrade), and R (or\nEmacs) allow me to call upon any version when I want to. So I would\nprobably give virtualenv a try if I had to. Currently, I have 3.11 and\n3.9 on Windows, 3.8 on Ubuntu, but all of them still on the same\nPC. Here is a recent comparison of the two:\n[https://dataaspirant.com/anaconda-python-virtualenv/](https://dataaspirant.com/anaconda-python-virtualenv/). Or what I would\nprobably do is write a shell script that uses one command (python) and\nswitches between different versions. If you use Conda, you will not\nunderstand how it's done. If you use virtualenv, you understand a\nlittle more (it requires knowledge of the file tree at least, and\nenvironment variables), and if you write your own scripts, you're tha\nmaster of the universe :-) (However, if you ask me \"send me that\nscript\" I'd have to do some research first.) Hope this helps.\n\n"
      ]
    },
    {
      "cell_type": "markdown",
      "metadata": {},
      "source": [
        "\\*\n\n"
      ]
    },
    {
      "cell_type": "markdown",
      "metadata": {},
      "source": [
        "\\*\n\n"
      ]
    },
    {
      "cell_type": "markdown",
      "metadata": {},
      "source": [
        "\\*\n\n"
      ]
    },
    {
      "cell_type": "markdown",
      "metadata": {},
      "source": [
        "### In-class summary\n\n"
      ]
    },
    {
      "cell_type": "markdown",
      "metadata": {},
      "source": [
        "![img](../img/summary.jpg \"Women spectators at wrestling, Sydney stadium 1940 (Flickr.com)\")\n\n-   An instruction that evaluates to a single value is an\n    **expression**. An instruction that doesn't is a **statement**.\n-   Data types are: integer (`int`), floating-point (`float`), string (`str`)\n-   Strings hold text and begin and end with quotes: `‘Hello world!'`\n-   Strings can be concatenated (`+`) and replicated (`*`)\n-   Values can be stored in variables: `spam = 42`\n-   Variables can be used anywhere where values can be used in\n    expressions: `spam + 1`\n-   Variable names: one word, letters, numbers (not at beginning),\n    underscore only\n\n"
      ]
    },
    {
      "cell_type": "markdown",
      "metadata": {},
      "source": [
        "## Day 5: Keyboard input and first look at functions\n\n"
      ]
    },
    {
      "cell_type": "markdown",
      "metadata": {},
      "source": [
        "![img](../img/three.png \"Women on a tandem bicycle, 28 September 1938 (Flickr.com)\")\n\n-   [X] User interaction: Keyboard input, error and output\n-   [X] Functions: getting help, arguments, parameters\n-   [X] The caret operator in Python and the binary function\n-   [ ] Three problems: string replication, splitting, math constants\n\n"
      ]
    },
    {
      "cell_type": "markdown",
      "metadata": {},
      "source": [
        "### The caret `^` operator in Python\n\n"
      ]
    },
    {
      "cell_type": "markdown",
      "metadata": {},
      "source": [
        "-   Use `**` for exponentiation and not `^` (as in R). In Python, the caret\n    operator `^` is the binary `XOR` operator: it compares two binary\n    numbers and returns a binary with bits set to 1 where the\n    corresponding bits of the operations differ:\n\n"
      ]
    },
    {
      "cell_type": "code",
      "execution_count": 1,
      "metadata": {},
      "outputs": [],
      "source": [
        "print(2**4)   # prints 16\nprint(2^4)    # prints 6...?\nprint('binary: ', bin(2)[2:])   # binary for 2\nprint('binary: ', bin(4)[2:])   # binary for 4\nprint('binary: ', bin(6)[2:])   # binary for 6"
      ]
    },
    {
      "cell_type": "markdown",
      "metadata": {},
      "source": [
        "### Python chat\n\n"
      ]
    },
    {
      "cell_type": "markdown",
      "metadata": {},
      "source": [
        "#### PDF scraping\n\n"
      ]
    },
    {
      "cell_type": "markdown",
      "metadata": {},
      "source": [
        "For those who are interested: following up from Radek's question about\nPDF meta data extraction (author, affiliation), I played around a\nlittle and came up with this:\n[https://gist.github.com/birkenkrahe/8b958852165982daa8501014127c23d7>](https://gist.github.com/birkenkrahe/8b958852165982daa8501014127c23d7>)-\nI didn't find it easy (HTML is textual markup, not binary, and much\nmore forgiving) but I learnt something. At the top there is a link to\na book which I did not read or use (it's from 2018 and the package I\nused was PyPDF4 and not PyPDF2).\n\n"
      ]
    },
    {
      "cell_type": "markdown",
      "metadata": {},
      "source": [
        "### In-class summary\n\n"
      ]
    },
    {
      "cell_type": "markdown",
      "metadata": {},
      "source": [
        "![img](../img/summary.jpg \"Women spectators at wrestling, Sydney stadium 1940 (Flickr.com)\")\n\n[See also the whiteboard photos from the class session in GDrive](https://drive.google.com/drive/folders/1IEkIHzieBJ_tS5GPigsCxRZcioanlPof?usp=sharing).\n\n-   Scrum - agile project management (from: software engineering)\n-   IMRaD - Introduction, Method, Results and Discussion (sci publish)\n-   Three data streams: standard input, standard output, standard error\n-   Difference between printing strings with `+` vs. `,`\n-   Overloading operators like `+` and `*`\n-   Getting keyboard input with/without prompt using `input`\n-   `input(prompt='')` is not the same as `input(prompt=None)`\n-   Downlading `.py` scripts from Colab\n-   Multi-line comments with `\"\"\"`\n-   Getting a function's docstring with `?`\n-   Details on `print`, `len`, `input, ~str`, `int` and `split`\n-   (Bonus) Home assignment with `strip`\n\n-   **Project presentation:** completely free-form. If you code, you can use\n    Colab or anything else that lends itself to be presented easily. You\n    do not have to go out of your way to produce fancy powerpoints.\n\n"
      ]
    },
    {
      "cell_type": "markdown",
      "metadata": {},
      "source": [
        "### Homework\n\n"
      ]
    },
    {
      "cell_type": "markdown",
      "metadata": {},
      "source": [
        "![img](../img/homework.jpg \"Max Williams photographed by Ian Grimes, 1942 (Flickr.com)\")\n\n"
      ]
    },
    {
      "cell_type": "markdown",
      "metadata": {},
      "source": [
        "#### (Bonus) Star Wars: A New Hope\n\n"
      ]
    },
    {
      "cell_type": "markdown",
      "metadata": {},
      "source": [
        "![img](../img/starwars.png \"15th anniversary poster of Star Wars (1992)\")\n\n**Problem:** Repeat the word `far` exactly `N` times in the following output\nformat: `A long time ago, in a galaxy far, far away...`\n\nCreate a notebook `newHope.ipynb` and submit the URL:\n\n1.  Problem\n2.  Flow\n3.  Variables\n4.  Functions\n5.  Implementation\n\nOriginal problem: \"[A New Hope](https://dmoj.ca/problem/wc15c2j1/pdf)\".\n\n-   Tip: the `str.strip()` function removes trailing characters from `str`:\n\n"
      ]
    },
    {
      "cell_type": "code",
      "execution_count": 1,
      "metadata": {},
      "outputs": [
        {
          "name": "stdout",
          "output_type": "stream",
          "text": [
            ": green leaves    leaves green"
          ]
        }
      ],
      "source": [
        "stripped = '   green leaves    leaves green   '.strip()\nprint(stripped)"
      ]
    },
    {
      "cell_type": "markdown",
      "metadata": {},
      "source": [
        "-   This is much like the problem 'spooky season' that we covered in\n    class.\n-   If you submit a solution, I'll share my solution notebook with you.\n\n"
      ]
    },
    {
      "cell_type": "markdown",
      "metadata": {},
      "source": [
        "## Day 6: Flow control and flow visualization\n\n"
      ]
    },
    {
      "cell_type": "markdown",
      "metadata": {},
      "source": [
        "![img](../img/flow.jpg \"Roman Guy, Against the Flow (Flickr.com)\")\n\n"
      ]
    },
    {
      "cell_type": "markdown",
      "metadata": {},
      "source": [
        "### Preview and review\n\n"
      ]
    },
    {
      "cell_type": "markdown",
      "metadata": {},
      "source": [
        "1.  What does the expression `str(int(age) + 1)` do?\n\n>    [Here is an HTML animation](https://automatetheboringstuff.com/eval/3-4.html) (Sweigart, 2023)   1) `age` is string `input`\n\n1.  `int(age)` converts the string to a number - you cannot do that\n    with any character like \"a\": `int(\"a\")` throws an error. To convert\n    characters to their Unicode standard, you need to use `ord`:\n\n"
      ]
    },
    {
      "cell_type": "code",
      "execution_count": 1,
      "metadata": {},
      "outputs": [
        {
          "name": "stdout",
          "output_type": "stream",
          "text": [
            ": 25\n      : 97\n      : 65"
          ]
        }
      ],
      "source": [
        "print(int(\"25\"))\nprint(ord(\"a\"))\nprint(ord(\"A\"))"
      ]
    },
    {
      "cell_type": "markdown",
      "metadata": {},
      "source": [
        "1.  `int(age) + 1` adds 1 to whatever number `int(age)` evaluates to:\n\n"
      ]
    },
    {
      "cell_type": "code",
      "execution_count": 1,
      "metadata": {},
      "outputs": [
        {
          "name": "stdout",
          "output_type": "stream",
          "text": [
            ": 25\n      : 25 years old\n      : 25\n      : 26"
          ]
        }
      ],
      "source": [
        "age = \"25\"\nprint(age)\nprint(age + \" years old\")\nprint(int(age))\nprint(int(age)+1)"
      ]
    },
    {
      "cell_type": "markdown",
      "metadata": {},
      "source": [
        "1.  `str(int(age) + 1)` converts the result to a string:\n\n"
      ]
    },
    {
      "cell_type": "code",
      "execution_count": 1,
      "metadata": {},
      "outputs": [],
      "source": [
        "age = \"25\"\nprint(age)\nprint(age + \" years old\")\nprint(int(age))\nprint(int(age)+1)\nprint(str(int(age)+1))\nprint(str(int(age)+1) + \" years old\")"
      ]
    },
    {
      "cell_type": "markdown",
      "metadata": {},
      "source": [
        "1.  What do you get when you type `ord?` on the Python console (`>>>`)?\n\n>    A `SyntaxError` because `?` is an IPython shell command only.\n\n1.  What does the dot-operator do, e.g. in `str.split`?\n\n>    The dot-operator `.` is an *accessor*: it allows you to access anything\n>    that's stored inside an object, e.g. the *string* class `str`, or an\n>    instance of that class, a particular string: e.g. `'three'.count('')`   #+begin<sub>src</sub> python :results output\n     print('three'.count(''))   # count empty spaces = characters\n     print('three'.count(' '))  # count empty spaces\n   #+end<sub>src</sub>\n\n    6\n\n1.  What does `'a'.split()` return?\n\n"
      ]
    },
    {
      "cell_type": "code",
      "execution_count": 1,
      "metadata": {},
      "outputs": [
        {
          "name": "stdout",
          "output_type": "stream",
          "text": [
            ": ['a']\n   : <class 'list'>"
          ]
        }
      ],
      "source": [
        "result = 'a'.split()\nprint(result)\nprint(type(result))"
      ]
    },
    {
      "cell_type": "markdown",
      "metadata": {},
      "source": [
        "1.  How can you split `'1-2-3'`?\n\n"
      ]
    },
    {
      "cell_type": "code",
      "execution_count": 1,
      "metadata": {},
      "outputs": [
        {
          "name": "stdout",
          "output_type": "stream",
          "text": [
            ": ['1', '2', '3']"
          ]
        }
      ],
      "source": [
        "print('1-2-3'.split('-',3))"
      ]
    },
    {
      "cell_type": "markdown",
      "metadata": {},
      "source": [
        "1.  How can you get 3 as a number from the keyboard and store it as an\n    integer variable `num`?\n\n"
      ]
    },
    {
      "cell_type": "code",
      "execution_count": 1,
      "metadata": {},
      "outputs": [],
      "source": [
        "num = input('Enter the number 3: ')\nprint('num is a string:', isinstance(num,str))\nnum = int(num)\nprint('num is a integer now:', isinstance(num,int))"
      ]
    },
    {
      "cell_type": "markdown",
      "metadata": {},
      "source": [
        "### In-class summary\n\n"
      ]
    },
    {
      "cell_type": "markdown",
      "metadata": {},
      "source": [
        "![img](../img/summary.jpg \"Women spectators at wrestling, Sydney stadium 1940 (Flickr.com)\")\n\n-   [See also the whiteboard photos from the class session in GDrive](https://drive.google.com/drive/folders/1IEkIHzieBJ_tS5GPigsCxRZcioanlPof?usp=sharing).\n\n-   Unicode standard used to represent a characters and symbols ([doc](https://docs.python.org/3/howto/unicode.html))\n-   Strings are instances of the `str` class, which contains functions\n    like `strip`, `split`, `count` (enter `dir(str)` to see all of them.\n-   To get any function (aka method) that lives 'inside' `str` (like a\n    tool in a toolbox), use the accessor dot-operator: `str.split()`.\n-   To test if a variable `x` is an integer or a string, you can use\n    `isinstance(x, int)` or `isinstance(x, str)` (returns Boolean).\n-   Another way of describing 'object orientation' is to say that\n    'everything is an object' and 'objects exchange messages'.\n-   Operator to convert characters to unicode and back: `ord` and `chr`.\n-   Building process models: flowcharts, BPMN, UML\n-   BPMN elements {events, tasks, gateways, participants, flow}, and\n    rules {one start/end event per pool, only message flows between and\n    only sequence flows inside pools, complete gateway splits, no\n    hanging elements}.\n-   Inserting images and links in Google Colab text cells\n-   Flow control: Boolean values and operators, comparison operators\n-   Advantages and disadvantages of diagrammatic models\n\n"
      ]
    },
    {
      "cell_type": "markdown",
      "metadata": {},
      "source": [
        "### Python Chat\n\n"
      ]
    },
    {
      "cell_type": "markdown",
      "metadata": {},
      "source": [
        "#### Machine zero vs mathematical zero\n\n"
      ]
    },
    {
      "cell_type": "markdown",
      "metadata": {},
      "source": [
        "Here is really very nice visualization of the floating-point\nrepresentation in computers, which we discussed today:\n[https://fabiensanglard.net/floating_point_visually_explained/](https://fabiensanglard.net/floating_point_visually_explained/). The\nrelated section in the Python reference manual is here:\n[https://docs.python.org/3/tutorial/floatingpoint.html](https://docs.python.org/3/tutorial/floatingpoint.html).\n\n"
      ]
    },
    {
      "cell_type": "markdown",
      "metadata": {},
      "source": [
        "#### Unicode\n\n"
      ]
    },
    {
      "cell_type": "markdown",
      "metadata": {},
      "source": [
        "Here is the [Unicode documentation](https://docs.python.org/3/howto/unicode.html) from the Python reference\nmanual. After a short, very readable explanation, you get a bunch of\nsmall examples. Some of the commands we haven't learnt yet (like\n`try` &#x2026; `except` exception handling, but we'll get there).\n\n"
      ]
    },
    {
      "cell_type": "markdown",
      "metadata": {},
      "source": [
        "#### BPMN poster\n\n"
      ]
    },
    {
      "cell_type": "markdown",
      "metadata": {},
      "source": [
        "Here is the free BPMN poster from Signavio (that's professional BPMN\nsoftware owned by SAP. I have a free academic license if anyone's\ninterested, just let me know):\n[https://www.signavio.com/downloads/short-reads/free-bpmn-2-0-poster/](https://www.signavio.com/downloads/short-reads/free-bpmn-2-0-poster/)\n\n"
      ]
    },
    {
      "cell_type": "markdown",
      "metadata": {},
      "source": [
        "### Homework\n\n"
      ]
    },
    {
      "cell_type": "markdown",
      "metadata": {},
      "source": [
        "![img](../img/homework.jpg \"Max Williams photographed by Ian Grimes, 1942 (Flickr.com)\")\n\n-   **Only if you did not finish this exercise in class:**\n    \n    1.  Model our first Python program as a BPMN model using `bpmn.io`:\n        \n        ![img](../img/bpmn1.png)  ![img](../img/bpmn2.png)\n    2.  Start with a pool and name it `Computer`.\n    3.  Add suitable events and tasks connected by sequence flow.\n    4.  Take a screenshot. It should look [like this](https://github.com/birkenkrahe/admin/blob/main/RoamNotes/img/py_first.png).\n    5.  Add another pool and name it `User`.\n    6.  Connect the two pools with suitable (message) flow.\n    7.  Take another screenshot. It should look [like this](https://github.com/birkenkrahe/admin/blob/main/RoamNotes/img/py_first_user.png).\n    8.  Save your diagram as `.bpmn` and as `.svg` files.\n    9.  Add your `.svg` diagram in a titled Colab text cell:\n    10. Upload your diagram to a drive and link to it in the text cell.\n    \n    ![img](../img/2_colab_diagram.png)\n\nNote: BPMN process diagram elements can be *overloaded*, i.e. given meta\ninformation, such as 'tasks accepts input' or 'task sends output' (see\noverloaded diagrams [here](https://github.com/birkenkrahe/admin/blob/main/RoamNotes/img/py_first_overloaded.png) and [here](https://github.com/birkenkrahe/admin/blob/main/RoamNotes/img/py_first_user_overloaded.png)). [More about BPMN from camunda.com.](https://camunda.com/bpmn/reference/)\n\n"
      ]
    },
    {
      "cell_type": "markdown",
      "metadata": {},
      "source": [
        "## Day 7: Boolean conditions and clauses\n\n"
      ]
    },
    {
      "cell_type": "markdown",
      "metadata": {},
      "source": [
        "![img](../img/claus.jpg \"Radio station Children's Christomas Party 1936 (Flickr.com)\")\n\n"
      ]
    },
    {
      "cell_type": "markdown",
      "metadata": {},
      "source": [
        "### [I shelved the 3rd DataCamp assignment!](https://lyon.instructure.com/courses/1700/assignments)\n\n"
      ]
    },
    {
      "cell_type": "markdown",
      "metadata": {},
      "source": [
        "INFORMAL OPEN TOOL POLL:\n\n-   Have you used the **DataCamp workspace** at this point? (Y)\n-   Have you used the **REPL in replit.com** at all? (Y)\n-   Have you used **Python's IDLE** outside of class? (Y)\n-   Have you opened a **Python shell** `>>>` outside of class? (Y)\n-   Are you satisfied with Colab as your only tool? (N)\n-   In case you want to try Emacs, talk to me. (?)\n\n"
      ]
    },
    {
      "cell_type": "markdown",
      "metadata": {},
      "source": [
        "### Preview and review\n\n"
      ]
    },
    {
      "cell_type": "markdown",
      "metadata": {},
      "source": [
        "1.  What is a 'Pythonista'? Are you one?\n\n>    The term describes anyone who is enthusiastic about Python and\n>    actively engages with the language and with its community. Your\n>    call!\n\n1.  Which diagrammatic languages for flow modeling do you know?\n\n>    1. BPMN (Business Process Model and Notation)\n>    2. UML (Unified Modeling Language)\n>    3. Flow charts\n\n1.  What do you have to think of when adding a gateway to a process\n    model to model a decision point?\n\n>    Unlike in a flowchart, the gateway, once opened, needs to be closed\n>    again to mark the end of the logical operation. One practical effect\n>    is that it is easier to remove decisions from processes because\n>    their beginning and end is clear.\n\n1.  What's the difference between `n=1` and `n==1`?\n\n>    1. `n=1` is a statement while `n==1` is an expression\n>    2. `n=1` stores 1 in an integer variable `n`\n>    3. `n==1` compares the value in `n` with the value 1\n\n1.  How can you get `42 == '42'` to evaluate to `True`?\n\n"
      ]
    },
    {
      "cell_type": "code",
      "execution_count": 1,
      "metadata": {},
      "outputs": [
        {
          "name": "stdout",
          "output_type": "stream",
          "text": [
            ": True\n   : True"
          ]
        }
      ],
      "source": [
        "# By explicitly converting the data types\nprint(str(42) == '42')\nprint(42 == int('42'))"
      ]
    },
    {
      "cell_type": "markdown",
      "metadata": {},
      "source": [
        "1.  What is `42.0 == 42`?\n\n"
      ]
    },
    {
      "cell_type": "code",
      "execution_count": 1,
      "metadata": {},
      "outputs": [
        {
          "name": "stdout",
          "output_type": "stream",
          "text": [
            ": True"
          ]
        }
      ],
      "source": [
        "# There is automatic type coercion from 42 to 42.0\nprint(42.0 == 42)"
      ]
    },
    {
      "cell_type": "markdown",
      "metadata": {},
      "source": [
        "1.  What is `42 == 'meaning of life'`?\n\n"
      ]
    },
    {
      "cell_type": "code",
      "execution_count": 1,
      "metadata": {},
      "outputs": [
        {
          "name": "stdout",
          "output_type": "stream",
          "text": [
            ": False"
          ]
        }
      ],
      "source": [
        "# comparing an integer and a string will always be False\n# since there is no automatic conversion between the two\nprint(42 == 'meaning of life')"
      ]
    },
    {
      "cell_type": "markdown",
      "metadata": {},
      "source": [
        "1.  How can you turn a Unicode point into a character and vice versa?\n\n"
      ]
    },
    {
      "cell_type": "code",
      "execution_count": 1,
      "metadata": {},
      "outputs": [
        {
          "name": "stdout",
          "output_type": "stream",
          "text": [
            ": x\n   : 120"
          ]
        }
      ],
      "source": [
        "# Courtesy Radek\nprint(chr(120))\nprint(ord('x'))"
      ]
    },
    {
      "cell_type": "markdown",
      "metadata": {},
      "source": [
        "1.  How can you check if a variable `x` is an integer, float or string?\n\n"
      ]
    },
    {
      "cell_type": "code",
      "execution_count": 1,
      "metadata": {},
      "outputs": [
        {
          "name": "stdout",
          "output_type": "stream",
          "text": [
            ": True\n   : True\n   : True"
          ]
        }
      ],
      "source": [
        "x = 42.0\n# these functions check which object class x is an instance of\nprint(isinstance(x,float))\nprint(isinstance(int(x),int))\nprint(isinstance(str(x),str))\n# or you can use type(x)"
      ]
    },
    {
      "cell_type": "markdown",
      "metadata": {},
      "source": [
        "1.  How can you check if a value is in a list or not?\n\n"
      ]
    },
    {
      "cell_type": "code",
      "execution_count": 1,
      "metadata": {},
      "outputs": [
        {
          "name": "stdout",
          "output_type": "stream",
          "text": [
            ": True\n    : False\n    : False\n    : True\n    : True"
          ]
        }
      ],
      "source": [
        "print('a' in ['a','b'])\nprint('a' not in ['a','b'])\nprint('a' in ['b','c'])\nprint('a' not in ['b','c'])\nprint(0 in [1, 100, 0])     # etc."
      ]
    },
    {
      "cell_type": "markdown",
      "metadata": {},
      "source": [
        "### In-class summary\n\n"
      ]
    },
    {
      "cell_type": "markdown",
      "metadata": {},
      "source": [
        "![img](../img/summary.jpg \"Women spectators at wrestling, Sydney stadium 1940 (Flickr.com)\")\n\n-   [See also the whiteboard photos from the class session in GDrive](https://drive.google.com/drive/folders/1IEkIHzieBJ_tS5GPigsCxRZcioanlPof?usp=sharing).\n-   Programming in this \"AI age\" requires these skills: 1) modeling, 2)\n    navigating infrastructure, 3) documenting, 4) presenting, 5)\n    debugging own code, 6) debugging AI code, 7) coding, 8)\n    AI-prompting.\n-   Boolean operators in mathematics, Python and LaTeX.\n-   Operator precedence: 1) (), 2) \\*\\*,%,\\*/,+-, 3) <, <=, >, >=, in, not\n    in, 4) not, and, or.\n-   Splitting a string without substrings, changing the separator (`sep`)\n-   Checking data type with `isinstance([var],[type])`\n-   Minimal conditional statement `if [condition]: [action]` with keyword\n    (`if`),and `separator` (`:`).\n-   Clauses and indentation rules in Python.\n-   Code blocks in other languages. If in C and R vs. Python.\n-   Simple if-statement and if-else statement with BPMN process model.\n\n"
      ]
    },
    {
      "cell_type": "markdown",
      "metadata": {},
      "source": [
        "### Homework\n\n"
      ]
    },
    {
      "cell_type": "markdown",
      "metadata": {},
      "source": [
        "![img](../img/homework.jpg \"Max Williams photographed by Ian Grimes, 1942 (Flickr.com)\")\n\n"
      ]
    },
    {
      "cell_type": "markdown",
      "metadata": {},
      "source": [
        "#### De Morgan's laws revisited\n\n"
      ]
    },
    {
      "cell_type": "markdown",
      "metadata": {},
      "source": [
        "-   In class, you showed that De Morgan's laws hold in Python. Now,\n    instead of printing `True` after each statement,\n    1.  print only the number of `True` statements at the end.\n    2.  print the final statement using string concatenation\n    3.  print the final statement using an f-string\n\n-   The output could simply look like this:\n    \n        Number of True statements: 8\n\n-   **Tip:** Boolean conditions are the core of making decisions. They can\n    be put in an `if` statement like this:\n    \n        if [condition]: [do_something]\n\n-   **Tip:** string concatenation relies on strings being 'added' with\n    `+`. Boolean values `True`, `False` are not strings and need to be\n    converted to be concatenated.\n\n-   **Tip:** The f-string is recent addition to Python 3. A `print` argument\n    pre-fixed with an `f` can print variables without `,` or `+`\n    operators. Instead, variables have to be enclosed in `{ }`:\n\n"
      ]
    },
    {
      "cell_type": "code",
      "execution_count": 1,
      "metadata": {},
      "outputs": [
        {
          "name": "stdout",
          "output_type": "stream",
          "text": [
            ": My name is Marcus Birkenkrahe"
          ]
        }
      ],
      "source": [
        "whoami = 'Marcus Birkenkrahe'\nprint(f\"My name is {whoami}\")"
      ]
    },
    {
      "cell_type": "markdown",
      "metadata": {},
      "source": [
        "## Day 8: Loops and breaks (continue'd)\n\n"
      ]
    },
    {
      "cell_type": "markdown",
      "metadata": {},
      "source": [
        "![img](../img/loop.jpg \"A Fokker looping (1915-20), Library of Congress@Flickr.com\")\n\n"
      ]
    },
    {
      "cell_type": "markdown",
      "metadata": {},
      "source": [
        "### Preview and review\n\n"
      ]
    },
    {
      "cell_type": "markdown",
      "metadata": {},
      "source": [
        "1.  **Python chat:** `pandas` is a Python library for data frame creation and\n    manipulation. I've created [this notebook](https://colab.research.google.com/drive/1JaLBpbFTOuDZzITcYR5TNvsQwiqoFUiT?usp=sharing) to explain how to use it\n    to import CSV datasets via URL or as a file. We'll get back to\n    `pandas`.\n\n2.  What does a *flow control statement* consist of?\n\n>    - a *condition* (expression), e.g. `count == 1`\n>    - a *clause* (block of code), e.g. `count = count + 1`\n\n1.  Is Python the only programming language with significant\n    indentation?\n\n>    No. Haskell, COBOL are two other (obscure) high-level languages\n>    that share this fate, as do many meta-languages (Markdown, Org,\n>    YAML).\n\n1.  What are the elements of a conditional block?\n\n>    1) Keyword `if`\n>    2) Conditional expression\n>    3) Separator `:`\n>    4) Code block starting on the next line   Example:\n\n"
      ]
    },
    {
      "cell_type": "code",
      "execution_count": 1,
      "metadata": {},
      "outputs": [
        {
          "name": "stdout",
          "output_type": "stream",
          "text": [
            ": June is here"
          ]
        }
      ],
      "source": [
        "import datetime\nnow = datetime.datetime.now()\nif now.strftime('%m-%d') == '06-01':\n    print('June is here')"
      ]
    },
    {
      "cell_type": "markdown",
      "metadata": {},
      "source": [
        "1.  How would you get the docstring for the method `now`?\n\n"
      ]
    },
    {
      "cell_type": "code",
      "execution_count": 1,
      "metadata": {},
      "outputs": [],
      "source": [
        "help(datetime.datetime.now)"
      ]
    },
    {
      "cell_type": "markdown",
      "metadata": {},
      "source": [
        "1.  Now, travel back through time to the end of yesterday's session:\n    1.  Create a code block with 3 lines of code.\n    2.  Assign `name` and `age` to `'Carol'` and `10`.\n    3.  If `name` is 'Alice' then greet Alice.\n    4.  Otherwise, greet a stranger.\n    5.  This is the process you should have created:\n        \n        ![img](../img/py_alice_2.png)\n    6.  Now, we'll generalize this to allow for more than one (exclusive)\n        alternative by introducing the `elif` clause.\n    7.  Python code:\n\n"
      ]
    },
    {
      "cell_type": "code",
      "execution_count": 1,
      "metadata": {},
      "outputs": [],
      "source": [
        "name, age = 'Carol', 10\nif name == 'Alice': print('Hi, Alice')\nelse: print('Hello, stranger')"
      ]
    },
    {
      "cell_type": "markdown",
      "metadata": {},
      "source": [
        "-   If there's only a single statement, Python does not insist on\n    indentation! Indentation is for 'proper' blocks (multiline).\n\n"
      ]
    },
    {
      "cell_type": "markdown",
      "metadata": {},
      "source": [
        "### In-class summary\n\n"
      ]
    },
    {
      "cell_type": "markdown",
      "metadata": {},
      "source": [
        "![img](../img/summary.jpg \"Women spectators at wrestling, Sydney stadium 1940 (Flickr.com)\")\n\n-   [See also the whiteboard photos from the class session in GDrive](https://drive.google.com/drive/folders/1IEkIHzieBJ_tS5GPigsCxRZcioanlPof?usp=sharing).\n\n-   Using `elif` with conditional statement to add alternative clauses.\n-   `elif` statements are sensitive to their position in the program.\n-   The condition of a `while` loop needs to be `True` to enter the clause.\n-   Production BPMN diagrams do not have any flow lines looping back.\n-   `break` breaks out of its loop, `continue` goes back to the start.\n-   Use non-Boolean truth values to control `if`, and `while` conditions.\n-   `for` and `while` loops are logically fully equivalent: you can always\n    turn a `for` loop into a `while` loop and vice versa.\n-   The `range` function creates a sequence of integer values using its\n    `start`, `stop` and `step` parameters.\n\n"
      ]
    },
    {
      "cell_type": "markdown",
      "metadata": {},
      "source": [
        "### Homework\n\n"
      ]
    },
    {
      "cell_type": "markdown",
      "metadata": {},
      "source": [
        "![img](../img/homework.jpg \"Max Williams photographed by Ian Grimes, 1942 (Flickr.com)\")\n\n![img](../img/bonus.png \"Some bonus programming assignments\")\n\n-   This week's programs use all flow control structures that you know.\n-   Let me know via 'Python Chat' if anything is unclear.\n-   All of these are original, first-time exercises (likely with errors).\n\n"
      ]
    },
    {
      "cell_type": "markdown",
      "metadata": {},
      "source": [
        "## Day 9: Importing modules\n\n"
      ]
    },
    {
      "cell_type": "markdown",
      "metadata": {},
      "source": [
        "![img](../img/import.jpg \"De Dion-Bouton tricycle towing a passenger (ca. 1919)\")\n\n"
      ]
    },
    {
      "cell_type": "markdown",
      "metadata": {},
      "source": [
        "### Review and preview (test 2 is coming soon)\n\n"
      ]
    },
    {
      "cell_type": "markdown",
      "metadata": {},
      "source": [
        "1.  What's the template for an `elif` statement?\n\n>    1) `elif` keyword\n>    2) condition that evaluates to `True` or `False`\n>    3) separator `:`\n>    4) indented clause on the next line\n\n1.  Does it matter when an (alternative) `elif` statement occurs?\n\n>    Yes, because the conditional `if` statement is left when the\n>    condition is satisfied, and no further conditions are checked.\n\n1.  What type of conditional statement is this and how many conditions\n    are being tested?\n    \n    ![img](../img/py_alice_5.png)\n\n>    The BPMN process model describes an `if`, `elif`, `else` logic that\n>    tests two conditions:\n>    1. Is the `name` 'Alice'? - if not, check:\n>    2. Is the `age` greater than 12?\n\n1.  How could you check if the input `name` is 'Alice' and if she is not a\n    minor by `age`?\n    \n        if name == 'Alice' and int(age) > 18:\n\n2.  When is the message \"Get ready to host\" below printed if the\n    variable `guests` is entered as keyboard input?\n    \n        if int(guests):\n           print('Get ready to host')\n        else:\n           print('No guests')\n\n>    - The condition needs to be `True` for the clause to be entered.\n>    - For the condition `int(guests)` to be `True`, `guests` must **not** be\n>      '0'. (Empty `''` input or floating values raise an exception: `int`\n>      can only convert strings that represent integer numbers).\n\n1.  What type of data does a `while` condition evaluate to?\n\n>    A Boolean value, `True` or `False`\n\n1.  What is the difference between `break` and `continue`?\n\n>    - `break` leaves the current (innermost) clause/loop\n>    - `continue` goes back to the condition for another evaluation\n\n1.  The variable `data` is obtained as keyboard input below. When is the\n    `data` printed?\n\n"
      ]
    },
    {
      "cell_type": "code",
      "execution_count": 1,
      "metadata": {},
      "outputs": [],
      "source": [
        "while not data:\n    data = input(\"Data? \")\n    continue\nprint(data)"
      ]
    },
    {
      "cell_type": "markdown",
      "metadata": {},
      "source": [
        ">    - The `while` condition will remain `True` until anything is entered.\n>    - When anything but the empty string is entered, it is printed.\n\n1.  What is the difference between `range(10)`, `range(0, 10)`, `range(0,\n       10, 1)` and `range(9,-1,-1) in a ~for` loop?\n\n"
      ]
    },
    {
      "cell_type": "code",
      "execution_count": 1,
      "metadata": {},
      "outputs": [
        {
          "name": "stdout",
          "output_type": "stream",
          "text": [
            ": 0 1 2 3 4 5 6 7 8 9\n   : 0 1 2 3 4 5 6 7 8 9\n   : 0 1 2 3 4 5 6 7 8 9\n   : 9 8 7 6 5 4 3 2 1 0"
          ]
        }
      ],
      "source": [
        "# range(10) starts at 0 goes to 9\nfor i in range(10):\n    print(i,end=' ')\n    print()\n    # range(0,10) starts at 0 goes to 9\nfor i in range(0,10):\n    print(i,end=' ')\n    print()\n    # range(0,10,1) starts at 0 goes to 9\nfor i in range(0,10):\n    print(i,end=' ')\n    print()\nfor i in range(9,-1,-1):\n    print(i,end=' ')\n    print()"
      ]
    },
    {
      "cell_type": "markdown",
      "metadata": {},
      "source": [
        "1.  How many Boolean operators can you use in a `for` loop with `range`?\n\n>     A `for` loop with `range` has no condition because the 'stop' condition\n>     has been absorbed by the `range` function. If the 'stop' condition is\n>     reached, the `for` loop is left:\n>     #+attr<sub>latex</sub>: :width 400px\n>     ![img](../img/for_while.png)\n\n"
      ]
    },
    {
      "cell_type": "markdown",
      "metadata": {},
      "source": [
        "### In-class summary\n\n"
      ]
    },
    {
      "cell_type": "markdown",
      "metadata": {},
      "source": [
        "![img](../img/summary.jpg \"Women spectators at wrestling, Sydney stadium 1940 (Flickr.com)\")\n\n-   [See also the whiteboard photos from the class session in GDrive](https://drive.google.com/drive/folders/1IEkIHzieBJ_tS5GPigsCxRZcioanlPof?usp=sharing).\n\n-   `range` function details: `type`, counting up and down, `start`, `stop` and\n    `step` (positional) parameters.\n-   The Python Standard Library contains ca. 200 of the most important\n    modules for controlling the environment, like `os`, `sys`, `random`, `math`.\n-   There are more than 200,000 Python packages in the PyPl (the\n    official Python Package Index) alone. By comparison: R, another\n    popular interpreted open source language, has ca. 20,000 packages.\n-   Modules (aka libraries) must be imported with `import`, individual\n    functions with `from [module]`. Use `sys.modules` to check which modules\n    are imported.\n-   Use `sys.exit()` to exit from any part of the program (not just loops).\n-   Use `random.randint(a,b)` for random integers from [a,b]\n-   Use `os.getenv` to check OS environment variables like `USER` (you).\n-   Planning, implementation and extension of a simple 'guess the\n    number' game where you guess a random number drawn by the computer.\n\n"
      ]
    },
    {
      "cell_type": "markdown",
      "metadata": {},
      "source": [
        "### Homework\n\n"
      ]
    },
    {
      "cell_type": "markdown",
      "metadata": {},
      "source": [
        "![img](../img/homework.jpg \"Max Williams photographed by Ian Grimes, 1942 (Flickr.com)\")\n\n"
      ]
    },
    {
      "cell_type": "markdown",
      "metadata": {},
      "source": [
        "#### Cone drill: using formulas and constants\n\n"
      ]
    },
    {
      "cell_type": "markdown",
      "metadata": {},
      "source": [
        "![img](../img/cone.jpg \"Ice cream bliss - LOC@Flickr.com\")\n\n**Problem:** Compute the volume of a cone of radius r and height h.\n\nCreate a notebook `coneDrill.ipynb`:\n\n1.  Problem\n2.  Flow\n3.  Variables\n4.  Functions\n5.  Implementation\n\n6.  The volume $V$ of a cone of radius $r$ and height $h$ is $V =\n      \\frac{\\pi r^2 h}{3}$.\n7.  To get &pi; to a high accuracy, `import math`. The value of &pi; is\n    stored in `math.pi`:\n\n"
      ]
    },
    {
      "cell_type": "code",
      "execution_count": 1,
      "metadata": {},
      "outputs": [],
      "source": [
        "import math\nprint(math.pi)"
      ]
    },
    {
      "cell_type": "markdown",
      "metadata": {},
      "source": [
        "Original problem: \"[Cone Drill](https://dmoj.ca/problem/dmopc14c5p1/pdf)\"\n\n[See Canvas](https://lyon.instructure.com/courses/1700/assignments/14849) for bonus questions: dealing with input exceptions and\nchanging the format of the output.\n\n"
      ]
    },
    {
      "cell_type": "markdown",
      "metadata": {},
      "source": [
        "## Day 10: Functions\n\n"
      ]
    },
    {
      "cell_type": "markdown",
      "metadata": {},
      "source": [
        "![img](../img/functions.jpg \"Llyfrgell Genedlaethol Cymru / Claerwen Dam (1952)\")\n\n"
      ]
    },
    {
      "cell_type": "markdown",
      "metadata": {},
      "source": [
        "### [Review Test 1: Any Questions? Complaints?](https://lyon.instructure.com/courses/1700/assignments/11921?display=full_width)\n\n"
      ]
    },
    {
      "cell_type": "markdown",
      "metadata": {},
      "source": [
        "-   Here are the results of test 1 visualized using Python ([GitHub](https://gist.github.com/birkenkrahe/4ff216d053a639c7773e607952aeec19))\n    using `matplotlib.pyplot`, and `pandas`' `Series` and `DataFrame.describe`\n    \n    ![img](../img/test1.png \"Histogram and boxplot of the results of test 1\")\n\n-   Stats and visualization are much easier to do in R ([GitHub](https://github.com/birkenkrahe/grades/blob/main/summer23.org))\n\n"
      ]
    },
    {
      "cell_type": "markdown",
      "metadata": {},
      "source": [
        "### In-class summary\n\n"
      ]
    },
    {
      "cell_type": "markdown",
      "metadata": {},
      "source": [
        "![img](../img/summary.jpg \"Women spectators at wrestling, Sydney stadium 1940 (Flickr.com)\")\n\n-   [See also the whiteboard photos from the class session in GDrive](https://drive.google.com/drive/folders/1IEkIHzieBJ_tS5GPigsCxRZcioanlPof?usp=sharing).\n\n-   Function definition with and without parameters\n-   Function calls, argument values\n-   Recursive function calls\n-   A user-defined character counting function\n-   Poor naming of function names, parameters, variables\n-   Return values, the `return` statement and returning `None`\n-   Extended example: Magic 8 Ball with `random`\n\n"
      ]
    },
    {
      "cell_type": "markdown",
      "metadata": {},
      "source": [
        "## Day 11: Scope and exception handling\n\n"
      ]
    },
    {
      "cell_type": "markdown",
      "metadata": {},
      "source": [
        "![img](../img/scope.jpg \"Llyfrgell Genedlaethol Cymru / Ned and donkey (1875)\")\n\n"
      ]
    },
    {
      "cell_type": "markdown",
      "metadata": {},
      "source": [
        "### Preview and review\n\n"
      ]
    },
    {
      "cell_type": "markdown",
      "metadata": {},
      "source": [
        "1.  What is a function?\n\n>    A piece of reusable code.2) What's the difference between a *parameter* and an *argument*?\n>    - A function *parameter* is a variable that stores an *argument* value\n>    - A function *argument* is a value passed on to a *parameter* variable3) What's wrong with this function definition?\n\n"
      ]
    },
    {
      "cell_type": "code",
      "execution_count": 1,
      "metadata": {},
      "outputs": [],
      "source": [
        "def function1()\n    print()"
      ]
    },
    {
      "cell_type": "markdown",
      "metadata": {},
      "source": [
        "1.  What does this function return (and how can you show it)?\n\n"
      ]
    },
    {
      "cell_type": "code",
      "execution_count": 1,
      "metadata": {},
      "outputs": [],
      "source": [
        "def function():\n    return"
      ]
    },
    {
      "cell_type": "code",
      "execution_count": 1,
      "metadata": {},
      "outputs": [],
      "source": [
        "print(function())"
      ]
    },
    {
      "cell_type": "markdown",
      "metadata": {},
      "source": [
        "1.  What's a selective Python module `import`?\n\n"
      ]
    },
    {
      "cell_type": "code",
      "execution_count": 1,
      "metadata": {},
      "outputs": [],
      "source": [
        "from math import pi\nprint(pi)"
      ]
    },
    {
      "cell_type": "markdown",
      "metadata": {},
      "source": [
        "1.  What do you need to do to use `np.array` instead of `numpy.array`?\n\n"
      ]
    },
    {
      "cell_type": "code",
      "execution_count": 1,
      "metadata": {},
      "outputs": [],
      "source": [
        "import numpy as np\nprint(help(np.array))"
      ]
    },
    {
      "cell_type": "markdown",
      "metadata": {},
      "source": [
        "1.  What is the output of this code?\n\n"
      ]
    },
    {
      "cell_type": "code",
      "execution_count": 1,
      "metadata": {},
      "outputs": [],
      "source": [
        "import numpy as np\nprint(help(numpy.array))"
      ]
    },
    {
      "cell_type": "markdown",
      "metadata": {},
      "source": [
        ">    `NameError`: name 'numpy' not defined.8) `array` is a function in `numpy`. How do we call it?\n\n"
      ]
    },
    {
      "cell_type": "code",
      "execution_count": 1,
      "metadata": {},
      "outputs": [
        {
          "name": "stdout",
          "output_type": "stream",
          "text": [
            ": [1 2 3]"
          ]
        }
      ],
      "source": [
        "import numpy\nprint(numpy.array([1,2,3]))"
      ]
    },
    {
      "cell_type": "markdown",
      "metadata": {},
      "source": [
        "1.  What is another name for a function in Python?\n\n>    A method.10) Which command opens up the documentation for `len`?\n>     - On the IPython shell (Colab, Jupyter, DataCamp Workspace): `len?`\n>     - In IDLE, Python console or any script: ~help(len)~\\*\\* TODO In-class summary\n\n![img](../img/summary.jpg \"Women spectators at wrestling, Sydney stadium 1940 (Flickr.com)\")\n\n-   [See also the whiteboard photos from the class session in GDrive](https://drive.google.com/drive/folders/1IEkIHzieBJ_tS5GPigsCxRZcioanlPof?usp=sharing).\n\n"
      ]
    },
    {
      "cell_type": "markdown",
      "metadata": {},
      "source": [
        "### Homework\n\n"
      ]
    },
    {
      "cell_type": "markdown",
      "metadata": {},
      "source": [
        "![img](../img/homework.jpg \"Max Williams photographed by Ian Grimes, 1942 (Flickr.com)\")\n\n"
      ]
    },
    {
      "cell_type": "markdown",
      "metadata": {},
      "source": [
        "#### Maximum number in a `list`\n\n"
      ]
    },
    {
      "cell_type": "markdown",
      "metadata": {},
      "source": [
        "-   **Write** a function called `find_max` that takes a list of numbers as a\n    parameter and returns the maximum value in the list. If the list is\n    empty, the function should return `None`.\n\n-   You did this in class using the built-in `max` function. For this\n    assignment, come up with your own algorithm and **do not use** `max`.\n\n-   **Test** the function by calling it with these sample arguments:\n    \n        print(find_max([2, 4, 6, 8, 10]))  # Output: 10\n        print(find_max([]))  # Output: None\n\n-   **Submit** the link to your appropriately documented Colab file. This\n    means text cells for problem description, script solution and\n    testing suite, and references ([like here](https://gist.github.com/birkenkrahe/1b15fe6b573d22c5af08dc9584cfc086)), with headlines and code\n    highlighted.\n\n"
      ]
    },
    {
      "cell_type": "markdown",
      "metadata": {},
      "source": [
        "## Day 12: Lists, Methods, and `NumPy`\n\n"
      ]
    },
    {
      "cell_type": "markdown",
      "metadata": {},
      "source": [
        "![img](../img/lists.jpg \"Llyfrgell Genedlaethol Cymru / Llanfachraeth in darkness (1957)\")\n\n"
      ]
    },
    {
      "cell_type": "markdown",
      "metadata": {},
      "source": [
        "### Preview and review\n\n"
      ]
    },
    {
      "cell_type": "markdown",
      "metadata": {},
      "source": [
        "1.  What is the output when you run this code? (Source: [Twitter](https://twitter.com/driscollis/status/1665702110950993920?s=20).)\n\n"
      ]
    },
    {
      "cell_type": "code",
      "execution_count": 1,
      "metadata": {},
      "outputs": [],
      "source": [
        "number = 8\n\ndef adder(integer):\n    print(number)\n    number = 10\n    print(number + integer)\n\nadder(5)"
      ]
    },
    {
      "cell_type": "markdown",
      "metadata": {},
      "source": [
        "-   [ ] 8 and then an exception is raised\n    -   [ ] `NameError`\n    -   [ ] `TypeError`\n    -   [ ] `UnboundLocalError`\n\n>    Answer: `UnboundLocalError` because inside the function, `number` is a\n>    local variable (it's assigned below) and you're trying to use it\n>    before it has been assigned a value. ([Pythontutor](https://pythontutor.com/visualize.html#code=number%20%3D%208%0Adef%20adder%28integer%29%3A%0A%20%20%20%20print%28number%29%0A%20%20%20%20number%20%3D%2010%0A%20%20%20%20print%28number%20%2B%20integer%29%0A%0Aadder%285%29&cumulative=false&curInstr=0&heapPrimitives=nevernest&mode=display&origin=opt-frontend.js&py=3&rawInputLstJSON=%5B%5D&textReferences=false))\n\n1.  \n\n\n2.  \n\n\n3.  \n\n\n4.  \n\n"
      ]
    },
    {
      "cell_type": "markdown",
      "metadata": {},
      "source": [
        "### In-class summary\n\n"
      ]
    },
    {
      "cell_type": "markdown",
      "metadata": {},
      "source": [
        "![img](../img/summary.jpg \"Women spectators at wrestling, Sydney stadium 1940 (Flickr.com)\")\n\n-   [See also the whiteboard photos from the class session in GDrive](https://drive.google.com/drive/folders/1IEkIHzieBJ_tS5GPigsCxRZcioanlPof?usp=sharing).\n\n"
      ]
    },
    {
      "cell_type": "markdown",
      "metadata": {},
      "source": [
        "### Homework\n\n"
      ]
    },
    {
      "cell_type": "markdown",
      "metadata": {},
      "source": [
        "![img](../img/homework.jpg \"Max Williams photographed by Ian Grimes, 1942 (Flickr.com)\")\n\n"
      ]
    },
    {
      "cell_type": "markdown",
      "metadata": {},
      "source": [
        "## Day 13: References and Conway's Game of Life\n\n"
      ]
    },
    {
      "cell_type": "markdown",
      "metadata": {},
      "source": [
        "![img](../img/gameoflife.jpg \"Llyfrgell Genedlaethol Cymru / double wedding at Llanrhaeadr (1954)\")\n\n"
      ]
    },
    {
      "cell_type": "markdown",
      "metadata": {},
      "source": [
        "### In-class summary\n\n"
      ]
    },
    {
      "cell_type": "markdown",
      "metadata": {},
      "source": [
        "![img](../img/summary.jpg \"Women spectators at wrestling, Sydney stadium 1940 (Flickr.com)\")\n\n-   [See also the whiteboard photos from the class session in GDrive](https://drive.google.com/drive/folders/1IEkIHzieBJ_tS5GPigsCxRZcioanlPof?usp=sharing).\n\n"
      ]
    },
    {
      "cell_type": "markdown",
      "metadata": {},
      "source": [
        "### Homework\n\n"
      ]
    },
    {
      "cell_type": "markdown",
      "metadata": {},
      "source": [
        "![img](../img/homework.jpg \"Max Williams photographed by Ian Grimes, 1942 (Flickr.com)\")\n\n"
      ]
    },
    {
      "cell_type": "markdown",
      "metadata": {},
      "source": [
        "## Day 14: Dictionaries and the Zen of Python\n\n"
      ]
    },
    {
      "cell_type": "markdown",
      "metadata": {},
      "source": [
        "![img](../img/dictionary.jpg \"Llyfrgell Genedlaethol Cymru / Longden Bay Go-cart Racers (1953)\")\n\n"
      ]
    },
    {
      "cell_type": "markdown",
      "metadata": {},
      "source": [
        "### No class on Mon 15-June: work on your project instead\n\n"
      ]
    },
    {
      "cell_type": "markdown",
      "metadata": {},
      "source": [
        "### Test 3 is coming - includes Numpy (DataCamp)\n\n"
      ]
    },
    {
      "cell_type": "markdown",
      "metadata": {},
      "source": [
        "### In-class summary\n\n"
      ]
    },
    {
      "cell_type": "markdown",
      "metadata": {},
      "source": [
        "![img](../img/summary.jpg \"Women spectators at wrestling, Sydney stadium 1940 (Flickr.com)\")\n\n-   [See also the whiteboard photos from the class session in GDrive](https://drive.google.com/drive/folders/1IEkIHzieBJ_tS5GPigsCxRZcioanlPof?usp=sharing).\n\n"
      ]
    },
    {
      "cell_type": "markdown",
      "metadata": {},
      "source": [
        "### Homework\n\n"
      ]
    },
    {
      "cell_type": "markdown",
      "metadata": {},
      "source": [
        "![img](../img/homework.jpg \"Max Williams photographed by Ian Grimes, 1942 (Flickr.com)\")\n\n"
      ]
    },
    {
      "cell_type": "markdown",
      "metadata": {},
      "source": [
        "## Day 15: String manipulation with `string`\n\n"
      ]
    },
    {
      "cell_type": "markdown",
      "metadata": {},
      "source": [
        "![img](../img/strings.jpg \"Flanzaleys String Quartet (LOC@Flickr.com)\")\n\n"
      ]
    },
    {
      "cell_type": "markdown",
      "metadata": {},
      "source": [
        "### In-class summary\n\n"
      ]
    },
    {
      "cell_type": "markdown",
      "metadata": {},
      "source": [
        "![img](../img/summary.jpg \"Women spectators at wrestling, Sydney stadium 1940 (Flickr.com)\")\n\n-   [See also the whiteboard photos from the class session in GDrive](https://drive.google.com/drive/folders/1IEkIHzieBJ_tS5GPigsCxRZcioanlPof?usp=sharing).\n\n"
      ]
    },
    {
      "cell_type": "markdown",
      "metadata": {},
      "source": [
        "### Homework\n\n"
      ]
    },
    {
      "cell_type": "markdown",
      "metadata": {},
      "source": [
        "![img](../img/homework.jpg \"Max Williams photographed by Ian Grimes, 1942 (Flickr.com)\")\n\n"
      ]
    },
    {
      "cell_type": "markdown",
      "metadata": {},
      "source": [
        "## Day 16: Pattern matching with `RegEx`\n\n"
      ]
    },
    {
      "cell_type": "markdown",
      "metadata": {},
      "source": [
        "![img](../img/pattern.jpg \"USAF B-25 bomber above European patchwork landscape (1940)\")\n\n"
      ]
    },
    {
      "cell_type": "markdown",
      "metadata": {},
      "source": [
        "### In-class summary\n\n"
      ]
    },
    {
      "cell_type": "markdown",
      "metadata": {},
      "source": [
        "![img](../img/summary.jpg \"Women spectators at wrestling, Sydney stadium 1940 (Flickr.com)\")\n\n-   [See also the whiteboard photos from the class session in GDrive](https://drive.google.com/drive/folders/1IEkIHzieBJ_tS5GPigsCxRZcioanlPof?usp=sharing).\n\n"
      ]
    },
    {
      "cell_type": "markdown",
      "metadata": {},
      "source": [
        "### Homework\n\n"
      ]
    },
    {
      "cell_type": "markdown",
      "metadata": {},
      "source": [
        "![img](../img/homework.jpg \"Max Williams photographed by Ian Grimes, 1942 (Flickr.com)\")\n\n"
      ]
    },
    {
      "cell_type": "markdown",
      "metadata": {},
      "source": [
        "## Day 17: File manipulation with `shutil`\n\n"
      ]
    },
    {
      "cell_type": "markdown",
      "metadata": {},
      "source": [
        "![img](../img/oven.jpg \"Cottage loaves baked in an ancient oven at Llanrhaeadr-ym-Mochnant\")\n\n"
      ]
    },
    {
      "cell_type": "markdown",
      "metadata": {},
      "source": [
        "### In-class summary\n\n"
      ]
    },
    {
      "cell_type": "markdown",
      "metadata": {},
      "source": [
        "![img](../img/summary.jpg \"Women spectators at wrestling, Sydney stadium 1940 (Flickr.com)\")\n\n-   [See also the whiteboard photos from the class session in GDrive](https://drive.google.com/drive/folders/1IEkIHzieBJ_tS5GPigsCxRZcioanlPof?usp=sharing).\n\n"
      ]
    },
    {
      "cell_type": "markdown",
      "metadata": {},
      "source": [
        "### Homework\n\n"
      ]
    },
    {
      "cell_type": "markdown",
      "metadata": {},
      "source": [
        "![img](../img/homework.jpg \"Max Williams photographed by Ian Grimes, 1942 (Flickr.com)\")\n\n"
      ]
    },
    {
      "cell_type": "markdown",
      "metadata": {},
      "source": [
        "## Day 18: Web scraping - `beautiful soup`\n\n"
      ]
    },
    {
      "cell_type": "markdown",
      "metadata": {},
      "source": [
        "![img](../img/soup.jpg \"Photo: Sam Hood / Schoolchildren line up for soup (1934)\")\n\n"
      ]
    },
    {
      "cell_type": "markdown",
      "metadata": {},
      "source": [
        "### In-class summary\n\n"
      ]
    },
    {
      "cell_type": "markdown",
      "metadata": {},
      "source": [
        "![img](../img/summary.jpg \"Women spectators at wrestling, Sydney stadium 1940 (Flickr.com)\")\n\n-   [See also the whiteboard photos from the class session in GDrive](https://drive.google.com/drive/folders/1IEkIHzieBJ_tS5GPigsCxRZcioanlPof?usp=sharing).\n\n"
      ]
    },
    {
      "cell_type": "markdown",
      "metadata": {},
      "source": [
        "### Homework\n\n"
      ]
    },
    {
      "cell_type": "markdown",
      "metadata": {},
      "source": [
        "![img](../img/homework.jpg \"Max Williams photographed by Ian Grimes, 1942 (Flickr.com)\")\n\n"
      ]
    },
    {
      "cell_type": "markdown",
      "metadata": {},
      "source": [
        "## Day 19: Spreadsheets and SQL databases\n\n"
      ]
    },
    {
      "cell_type": "markdown",
      "metadata": {},
      "source": [
        "![img](../img/spreadsheets.jpg \"Photo: Sam Hood / Schoolchildren line up for soup (1934)\")\n\n"
      ]
    },
    {
      "cell_type": "markdown",
      "metadata": {},
      "source": [
        "### Test 4 is coming - includes \"Intermediate R\"\n\n"
      ]
    },
    {
      "cell_type": "markdown",
      "metadata": {},
      "source": [
        "### In-class summary\n\n"
      ]
    },
    {
      "cell_type": "markdown",
      "metadata": {},
      "source": [
        "![img](../img/summary.jpg \"Women spectators at wrestling, Sydney stadium 1940 (Flickr.com)\")\n\n-   [See also the whiteboard photos from the class session in GDrive](https://drive.google.com/drive/folders/1IEkIHzieBJ_tS5GPigsCxRZcioanlPof?usp=sharing).\n\n"
      ]
    },
    {
      "cell_type": "markdown",
      "metadata": {},
      "source": [
        "### Homework\n\n"
      ]
    },
    {
      "cell_type": "markdown",
      "metadata": {},
      "source": [
        "![img](../img/homework.jpg \"Max Williams photographed by Ian Grimes, 1942 (Flickr.com)\")\n\n"
      ]
    },
    {
      "cell_type": "markdown",
      "metadata": {},
      "source": [
        "## Day 20: Data visualization - `matplotlib`\n\n"
      ]
    },
    {
      "cell_type": "markdown",
      "metadata": {},
      "source": [
        "![img](../img/photogenic.jpg \"Music on Water Street, St. John's, Newfoundland (Flickr.com).\")\n\n"
      ]
    },
    {
      "cell_type": "markdown",
      "metadata": {},
      "source": [
        "### In-class summary\n\n"
      ]
    },
    {
      "cell_type": "markdown",
      "metadata": {},
      "source": [
        "![img](../img/summary.jpg \"Women spectators at wrestling, Sydney stadium 1940 (Flickr.com)\")\n\n-   [See also the whiteboard photos from the class session in GDrive](https://drive.google.com/drive/folders/1IEkIHzieBJ_tS5GPigsCxRZcioanlPof?usp=sharing).\n\n"
      ]
    },
    {
      "cell_type": "markdown",
      "metadata": {},
      "source": [
        "### Homework\n\n"
      ]
    },
    {
      "cell_type": "markdown",
      "metadata": {},
      "source": [
        "![img](../img/homework.jpg \"Max Williams photographed by Ian Grimes, 1942 (Flickr.com)\")\n\n"
      ]
    },
    {
      "cell_type": "markdown",
      "metadata": {},
      "source": [
        "## Day 21: Machine learning with `sklearn`\n\n"
      ]
    },
    {
      "cell_type": "markdown",
      "metadata": {},
      "source": [
        "![img](../img/hairdressers.jpg \"Llyfrgell Genedlaethol Cymru / Redman's hairdressers (1957)\")\n\n"
      ]
    },
    {
      "cell_type": "markdown",
      "metadata": {},
      "source": [
        "### In-class summary\n\n"
      ]
    },
    {
      "cell_type": "markdown",
      "metadata": {},
      "source": [
        "![img](../img/summary.jpg \"Women spectators at wrestling, Sydney stadium 1940 (Flickr.com)\")\n\n-   [See also the whiteboard photos from the class session in GDrive](https://drive.google.com/drive/folders/1IEkIHzieBJ_tS5GPigsCxRZcioanlPof?usp=sharing).\n\n"
      ]
    },
    {
      "cell_type": "markdown",
      "metadata": {},
      "source": [
        "### Homework\n\n"
      ]
    },
    {
      "cell_type": "markdown",
      "metadata": {},
      "source": [
        "![img](../img/homework.jpg \"Max Williams photographed by Ian Grimes, 1942 (Flickr.com)\")\n\n"
      ]
    },
    {
      "cell_type": "markdown",
      "metadata": {},
      "source": [
        "## Day 22: 2 project presentations\n\n"
      ]
    },
    {
      "cell_type": "markdown",
      "metadata": {},
      "source": [
        "![img](../img/group1.jpg \"Group, Flickr.com\")\n\n"
      ]
    },
    {
      "cell_type": "markdown",
      "metadata": {},
      "source": [
        "## Day 23: 2 project presentations\n\n"
      ]
    },
    {
      "cell_type": "markdown",
      "metadata": {},
      "source": [
        "![img](../img/group2.jpg \"Library of Virginia, family portrait.\")\n\n"
      ]
    },
    {
      "cell_type": "markdown",
      "metadata": {},
      "source": [
        "## Day 24: 2 project presentations/Summary/Outlook\n\n"
      ]
    },
    {
      "cell_type": "markdown",
      "metadata": {},
      "source": [
        "![img](../img/group3.jpg \"Whiteman group, LOC@Flickr.com\")\n\n"
      ]
    }
  ],
  "metadata": [
    [
      "org"
    ],
    null,
    null
  ],
  "nbformat": 4,
  "nbformat_minor": 0
}
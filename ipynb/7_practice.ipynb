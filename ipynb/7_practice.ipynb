{
  "cells": [
    {
      "cell_type": "markdown",
      "metadata": {},
      "source": [
        "## Practice list creation, extraction and deletion\n\n"
      ]
    },
    {
      "cell_type": "markdown",
      "metadata": {},
      "source": [
        "You should be able to do all of these exercises with what you learnt\nin the DataCamp course \"Introduction to Python\":\n\n1.  Assign these items to `spam` and extract them using a ranged `for` loop\n    on one line separated by a single space: `cat bat rat elephant`\n\n"
      ]
    },
    {
      "cell_type": "code",
      "execution_count": 1,
      "metadata": {},
      "outputs": [],
      "source": [
        "spam = ['cat', 'bat', 'rat', 'elephant']\nfor i in range(4):\n    print(spam[i], end=' ')"
      ]
    },
    {
      "cell_type": "markdown",
      "metadata": {},
      "source": [
        "1.  What if the list has `N` elements? Can you generalize the loop?\n\n"
      ]
    },
    {
      "cell_type": "code",
      "execution_count": 1,
      "metadata": {},
      "outputs": [],
      "source": [
        "spam = ['cat', 'bat', 'rat', 'elephant']\nfor i in range(len(spam)):\n    print(spam[i], end=' ')"
      ]
    },
    {
      "cell_type": "markdown",
      "metadata": {},
      "source": [
        "1.  Use elements of `spam` to print the sentence `'The bat ate the cat.'`\n    formatted with an f-string:\n\n"
      ]
    },
    {
      "cell_type": "code",
      "execution_count": 1,
      "metadata": {},
      "outputs": [],
      "source": [
        "spam = ['cat', 'bat', 'rat', 'elephant']\nprint(f\"'The {spam[1]} ate the {spam[0]}.'\")"
      ]
    },
    {
      "cell_type": "markdown",
      "metadata": {},
      "source": [
        "1.  Which error do you get when you use an index that exceeds the number\n    of values in your list value? Create an example.\n\n"
      ]
    },
    {
      "cell_type": "code",
      "execution_count": 1,
      "metadata": {},
      "outputs": [],
      "source": [
        "spam = ['cat', 'bat', 'rat', 'elephant']\nprint(spam[5])"
      ]
    },
    {
      "cell_type": "markdown",
      "metadata": {},
      "source": [
        "1.  Can index values be non-integer? Find out!\n\n"
      ]
    },
    {
      "cell_type": "code",
      "execution_count": 1,
      "metadata": {},
      "outputs": [],
      "source": [
        "spam = ['cat', 'bat', 'rat', 'elephant']\nprint(spam[int(1.0)])\nprint(spam[1.0])"
      ]
    },
    {
      "cell_type": "markdown",
      "metadata": {},
      "source": [
        "1.  How can you extract the last number in this list of lists?\n\n"
      ]
    },
    {
      "cell_type": "code",
      "execution_count": 1,
      "metadata": {},
      "outputs": [],
      "source": [
        "spam = [['cat','bat'], [10,20,30,40,50]]"
      ]
    },
    {
      "cell_type": "code",
      "execution_count": 1,
      "metadata": {},
      "outputs": [],
      "source": [
        "spam = [['cat','bat'], [10,20,30,40,50]]\nprint(spam[1][4],\n      spam[1][-1],\n      spam[-1][4],\n      spam[-1][-1],\n      end='')"
      ]
    },
    {
      "cell_type": "markdown",
      "metadata": {},
      "source": [
        "1.  Write `'The elephant is afraid of the bat.'` using *negative* indices\n    of `spam = ['cat', 'bat', 'rat', 'elephant']`:\n\n"
      ]
    },
    {
      "cell_type": "code",
      "execution_count": 1,
      "metadata": {},
      "outputs": [],
      "source": [
        "spam = ['cat', 'bat', 'rat', 'elephant']\nprint(f\"'The {spam[-1]} is afraid of the {spam[-4]}.'\")"
      ]
    },
    {
      "cell_type": "markdown",
      "metadata": {},
      "source": [
        "1.  From `spam = ['cat', 'bat', 'rat', 'elephant']`, extract\n    `['cat','bat','rat']`:\n\n"
      ]
    },
    {
      "cell_type": "code",
      "execution_count": 1,
      "metadata": {},
      "outputs": [
        {
          "name": "stdout",
          "output_type": "stream",
          "text": [
            ": ['cat', 'bat', 'rat']\n   : ['cat', 'bat', 'rat']\n   : ['cat', 'bat', 'rat']"
          ]
        }
      ],
      "source": [
        "spam = ['cat', 'bat', 'rat', 'elephant']\nprint(spam[0:3],    # slicing first three elements\n      spam[-4:-1],  # slicing first three elements 'from the rear'\n      sep='\\n')\ndel spam[-1]        # deleting the last element\nprint(spam)"
      ]
    },
    {
      "cell_type": "markdown",
      "metadata": {},
      "source": [
        "1.  Change `spam = ['cat', 'bat', 'rat', 'elephant']` to the list\n    `['cat','armadillo','rat', 'armadillo']`:\n\n"
      ]
    },
    {
      "cell_type": "code",
      "execution_count": 1,
      "metadata": {},
      "outputs": [
        {
          "name": "stdout",
          "output_type": "stream",
          "text": [
            ": ['cat', 'bat', 'rat', 'armadillo']\n   : ['cat', 'armadillo', 'rat', 'armadillo']"
          ]
        }
      ],
      "source": [
        "spam = ['cat', 'bat', 'rat', 'elephant']\nspam[-1] = 'armadillo'\nprint(spam)\nspam[1] = 'armadillo'\nprint(spam)"
      ]
    },
    {
      "cell_type": "markdown",
      "metadata": {},
      "source": [
        "1.  Create `spam = ['cat', 'bat', 'cat', 'bat']` by list concatenation\n    and replication:\n\n"
      ]
    },
    {
      "cell_type": "code",
      "execution_count": 1,
      "metadata": {},
      "outputs": [
        {
          "name": "stdout",
          "output_type": "stream",
          "text": [
            ": ['cat', 'bat', 'cat', 'bat']\n    : ['cat', 'bat', 'cat', 'bat']"
          ]
        }
      ],
      "source": [
        "spam = ['cat','bat'] * 2\nprint(spam)\ndel spam\nspam = ['cat','bat'] + ['cat','bat']\nprint(spam)"
      ]
    }
  ],
  "metadata": [
    [
      "org"
    ],
    null,
    null
  ],
  "nbformat": 4,
  "nbformat_minor": 0
}
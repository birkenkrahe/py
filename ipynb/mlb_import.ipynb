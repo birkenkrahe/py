{
  "cells": [
    {
      "cell_type": "markdown",
      "metadata": {},
      "source": [
        "#### Baseball players' height ([gist](https://gist.github.com/birkenkrahe/2964edc766e0ed5cce0c7035170e3a3b))\n\n"
      ]
    },
    {
      "cell_type": "markdown",
      "metadata": {},
      "source": [
        "The DataCamp lessons often used larger datasets. In the case of [this\nexercise in chapter 4](https://campus.datacamp.com/courses/intro-to-python-for-data-science/chapter-4-numpy?ex=3) ('NumPy') of the 'Introduction to Python'\ncourse, the heights of MLB players are stored in a list. This list has\n1075 elements and it would be a pain to copy it manually over from the\nPython console in DataCamp.\n\nInstead, you need to locate the CSV file (usually listed on the\ndashboard - and also available in the workspace), import it to a\ndataframe and then extract the column vectors as a list.\n\n-   Import CSV file to dataframe ([URL](https://assets.datacamp.com/production/repositories/288/datasets/e5d60ff535f86d27609312f9e41c35a1d737ddc0/baseball.csv)):\n\n"
      ]
    },
    {
      "cell_type": "code",
      "execution_count": 1,
      "metadata": {},
      "outputs": [],
      "source": [
        "import pandas as pd\nurl = 'https://assets.datacamp.com/production/repositories/288/datasets/e5d60ff535f86d27609312f9e41c35a1d737ddc0/baseball.csv'\nmlb = pd.read_csv(url)\nprint(mlb)"
      ]
    },
    {
      "cell_type": "markdown",
      "metadata": {},
      "source": [
        "-   Extract `mlb.Height` and store in list `height_in`:\n\n"
      ]
    },
    {
      "cell_type": "code",
      "execution_count": 1,
      "metadata": {},
      "outputs": [
        {
          "name": "stdout",
          "output_type": "stream",
          "text": [
            ": [74, 74, 72, 72, 73, 69, 69, 71, 76, 71]"
          ]
        }
      ],
      "source": [
        "height_in = list(mlb.Height)\nprint(height_in[:10]) # first 10 elements only"
      ]
    },
    {
      "cell_type": "markdown",
      "metadata": {},
      "source": [
        "-   Create a numpy `array` from `height_in`, store it in `np_height_in` and\n    print it:\n\n"
      ]
    },
    {
      "cell_type": "code",
      "execution_count": 1,
      "metadata": {},
      "outputs": [
        {
          "name": "stdout",
          "output_type": "stream",
          "text": [
            ": [74 74 72 ... 75 75 73]"
          ]
        }
      ],
      "source": [
        "import numpy as np\nnp_height_in = np.array(height_in)\nprint(np_height_in) # mlb players' height in inches"
      ]
    },
    {
      "cell_type": "markdown",
      "metadata": {},
      "source": [
        "-   Multiply `np_height_in` with `0.0254` to convert measurements to meters\n    and store them in a new array `np_height_m`\n\n"
      ]
    },
    {
      "cell_type": "code",
      "execution_count": 1,
      "metadata": {},
      "outputs": [
        {
          "name": "stdout",
          "output_type": "stream",
          "text": [
            ": [1.8796 1.8796 1.8288 ... 1.905  1.905  1.8542]"
          ]
        }
      ],
      "source": [
        "np_height_m = np_height_in * 0.0254\nprint(np_height_m)"
      ]
    },
    {
      "cell_type": "markdown",
      "metadata": {},
      "source": [
        "-   The output makes sense. [According to this source](https://jokermag.com/average-height-mlb-players/) (O'Shea, 2023), the\n    average height of an MLB player in the 2023 season is 1.79 in or\n    187.44 cm (1.87 m).\n\n"
      ]
    },
    {
      "cell_type": "markdown",
      "metadata": {},
      "source": [
        "##### References\n\n"
      ]
    },
    {
      "cell_type": "markdown",
      "metadata": {},
      "source": [
        "-   Google (n.d.). Colaboratory. URL: colab.research.google.com.\n\n-   O'Shea, T. (04/07/2023). How Tall Is The Average MLB Player? A\n    Breakdown Of Every Position. URL: jokermag.com.\n\n-   Van Rossum, G., Drake, F. L. (2009). Python 3 Reference Manual. URL:\n    [https://docs.python.org/3/reference/](https://docs.python.org/3/reference/).\n\n"
      ]
    }
  ],
  "metadata": [
    [
      "org"
    ],
    null,
    null
  ],
  "nbformat": 4,
  "nbformat_minor": 0
}
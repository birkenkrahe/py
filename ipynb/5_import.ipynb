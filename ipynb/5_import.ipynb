{
  "cells": [
    {
      "cell_type": "markdown",
      "metadata": {},
      "source": "PYTHON MODULE IMPORT EXIT AND A SHORT PROGRAM\n=============================================\n\n**Author:** Marcus Birkenkrahe\n\n"
    },
    {
      "cell_type": "markdown",
      "metadata": {},
      "source": [
        "## Importing modules\n\n"
      ]
    },
    {
      "cell_type": "markdown",
      "metadata": {},
      "source": [
        "![img](../img/import.jpg \"De Dion-Bouton tridcycle towing a passenger (ca. 1919)\")\n\nIn this section, you'll learn how to `import` useful functions, find out\ndetails about your computer's `os`, get `random` numbers and the current\n`time`, and look at the system.\n\n-   You've seen several built-in functions: `print`, `len`, `str` etc.\n\n"
      ]
    },
    {
      "cell_type": "code",
      "execution_count": 1,
      "metadata": {},
      "outputs": [
        {
          "name": "stdout",
          "output_type": "stream",
          "text": [
            ": hello\n  : 5\n  : 12"
          ]
        }
      ],
      "source": [
        "print(\"hello\")\nprint(len(\"hello\"))\nprint(len(str(100000000000)))"
      ]
    },
    {
      "cell_type": "markdown",
      "metadata": {},
      "source": [
        "-   Additional functions are contained in the *standard library*, which is\n    a large collection of *modules*, each of which contain *methods* or\n    functions ([link](https://docs.python.org/3/library/index.html)).\n\n-   Later in this course, we'll look at exceptions, strings, math\n    modules, system services, regular expressions from the standard\n    library.\n\n"
      ]
    },
    {
      "cell_type": "markdown",
      "metadata": {},
      "source": [
        "## Importing with `import`\n\n"
      ]
    },
    {
      "cell_type": "markdown",
      "metadata": {},
      "source": [
        "-   Before you can use the methods in a module, you must `import` it with:\n    1.  the keyword `import` followed by\n    2.  the name of the module, e.g. `os` for *operating system*\n    3.  Optionally more module names separated by comma\n\n-   To call a module's method, you must prefix the method name with the\n    module name like so: `os.getenv`, `datetime.time` etc.\n\n-   **Exercise:** to see *environment* variables and their values, `import` `os`\n    and get individual variables with `os.getenv` - do this locally in an\n    IDLE instance:\n\n"
      ]
    },
    {
      "cell_type": "code",
      "execution_count": 1,
      "metadata": {},
      "outputs": [],
      "source": [
        "import os\nprint(os.getenv('OS'))    # the operating system\nprint(os.getenv('HOME'))    # your home directory\nprint(os.getenv('USERNAME'))  # your user name\nprint(os.getenv('NUMBER_OF_PROCESSORS'))  # CPUs of your computer"
      ]
    },
    {
      "cell_type": "markdown",
      "metadata": {},
      "source": [
        "-   You should see something like this (with different values):\n    \n    ![img](../img/py_os.png \"Environment variables with os.getenv() in IDLE\")\n\n"
      ]
    },
    {
      "cell_type": "markdown",
      "metadata": {},
      "source": [
        "## Seeing what's been imported with `sys`\n\n"
      ]
    },
    {
      "cell_type": "markdown",
      "metadata": {},
      "source": [
        "-   To see ALL environment variables, you can use a method inside a\n    method of `os` and loop over two variables simultaneously:\n\n"
      ]
    },
    {
      "cell_type": "code",
      "execution_count": 1,
      "metadata": {},
      "outputs": [],
      "source": [
        "for key, value in os.environ.items():\n    print(key,value)"
      ]
    },
    {
      "cell_type": "markdown",
      "metadata": {},
      "source": [
        "-   **Exercise:** To see all modules that are imported, you can use\n    the method `sys.modules`:\n    1.  `import` the `sys` module\n    2.  return the length of `sys.modules` with `len`\n    3.  do this in IDLE for your local PC\n    4.  compare with Google Colab in an online notebook\n\n-   Solution: `sys.modules` is a *dictionary*, which is a Python data\n    structure. You can find this out with `type`.\n\n"
      ]
    },
    {
      "cell_type": "code",
      "execution_count": 1,
      "metadata": {},
      "outputs": [
        {
          "name": "stdout",
          "output_type": "stream",
          "text": [
            ": 61\n  : <class 'dict'>"
          ]
        }
      ],
      "source": [
        "import sys\nprint(len(sys.modules))\nprint(type(sys.modules))"
      ]
    },
    {
      "cell_type": "markdown",
      "metadata": {},
      "source": [
        "## Random numbers with `random`\n\n"
      ]
    },
    {
      "cell_type": "markdown",
      "metadata": {},
      "source": [
        "-   **Exercise:** You'll need random numbers for a few of our projects:\n    1.  import the `random` module\n    2.  create a `for` loop of `range` 10\n    3.  consult the `help` on `random.randint` in Colab.\n    4.  in the clause, print 10 random numbers in the range [1,10] with\n        the `randint` method from the `random` module.\n\n-   Solution: the `help` function delivers concise parameter information.\n\n"
      ]
    },
    {
      "cell_type": "code",
      "execution_count": 1,
      "metadata": {},
      "outputs": [],
      "source": [
        "import random\nprint(help(random.randint))\nfor i in range(10):\n    print(random.randint(1,10))"
      ]
    },
    {
      "cell_type": "markdown",
      "metadata": {},
      "source": [
        "-   You can step through this code at [autbor.com/printrandom/](https://autbor.com/printrandom/): notice\n    how the `import` command leads to the creation of a *module instance* as\n    an *object*. This is a preview of Python's OOP properties.\n\n"
      ]
    },
    {
      "cell_type": "markdown",
      "metadata": {},
      "source": [
        "## Breaking Python with `random`\n\n"
      ]
    },
    {
      "cell_type": "markdown",
      "metadata": {},
      "source": [
        "-   When you `import` modules, you need to be careful not to overwrite\n    their names with names of your own Python scripts: don't use script\n    names like `random.py`, `os.py` or `sys.py`. Same for *method* names.\n\n-   Let's create an empty file `random.py` and see what happens when we\n    load `random` in the presence of that file (you can do it in a REPL):\n    \n    1.  To create an empty file, enter `touch random.py`\n    2.  Open the Python shell with `python`\n    3.  Enter `import random`\n    4.  Look at `help(random.randint)`\n    5.  Exit with `exit()`\n    6.  Remove `random.py` with `del random.py`\n    \n    ![img](../img/py_random.png \"Breaking Python with an empty file random.py\")\n\n"
      ]
    },
    {
      "cell_type": "markdown",
      "metadata": {},
      "source": [
        "## Importing specific methods with `from`\n\n"
      ]
    },
    {
      "cell_type": "markdown",
      "metadata": {},
      "source": [
        "-   An alternative importing method for modules is `from`, which allows\n    you to use methods without module prefix - do this on the Python shell:\n\n"
      ]
    },
    {
      "cell_type": "code",
      "execution_count": 1,
      "metadata": {},
      "outputs": [],
      "source": [
        "from random import randint\nprint(randint(1,10))\nprint(sample([1,2,3,4],2))"
      ]
    },
    {
      "cell_type": "markdown",
      "metadata": {},
      "source": [
        "-   In the last call to `random.sample` (drawing 2 out of a group of 4\n    numbers with replacement), `sample` was not known because it was not\n    loaded:\n\n"
      ]
    },
    {
      "cell_type": "code",
      "execution_count": 1,
      "metadata": {},
      "outputs": [],
      "source": [
        "from random import sample\nprint(sample([1,2,3,4],2))"
      ]
    },
    {
      "cell_type": "markdown",
      "metadata": {},
      "source": [
        "## Ending programs early with `sys.exit`\n\n"
      ]
    },
    {
      "cell_type": "markdown",
      "metadata": {},
      "source": [
        "-   Programs terminate when the program execution reaches the last\n    instruction.\n\n-   You can force termination before the last instruction by calling\n    `sys.exit()` inside your program.\n\n-   Save the following code as a program `exitExample.py` in IDLE:\n\n"
      ]
    },
    {
      "cell_type": "code",
      "execution_count": 1,
      "metadata": {},
      "outputs": [],
      "source": [
        "import sys\n\nwhile True:\n    response = input('Type exit to exit. ')\n    if response == 'exit':\n        sys.exit()\n    print('You typed ' + response + '.')"
      ]
    },
    {
      "cell_type": "markdown",
      "metadata": {},
      "source": [
        "-   Run this program in IDLE. It contains an infinite loop with no `break`\n    statement and can only be terminated by either entering 'exit', or\n    by killing the process (closing IDLE).\n\n"
      ]
    },
    {
      "cell_type": "markdown",
      "metadata": {},
      "source": [
        "## Short program: Guess the Number\n\n"
      ]
    },
    {
      "cell_type": "markdown",
      "metadata": {},
      "source": [
        "-   We're going to bring the last few topics together in a complete\n    little game script. The same mechanics will be required for the\n    \"Rock, Paper, Scissors\" home programming assignment\n\n-   This example also demonstrates an exemplary solution path:\n    1.  Understand what's asked from you (requirements)\n    2.  Understand what the program needs from you (input)\n    3.  Understand what's the result supposed to look like (output)\n    4.  Write the process as pseudocode (without syntax)\n    5.  Create a process diagram (with commands)\n    6.  Code the Python program (source code)\n    7.  Run, test and debug the source code\n    8.  Fix pseudocode/diagram accordingly.\n    9.  Identify extensions.\n    10. Implement extensions (repeat steps 4-8).\n\n-   Write a 'Guess the number' game. When you run the program, the\n    output should look like this:\n    \n    ![img](../img/py_guessTheNumber_output.png \"Desired output of guessTheNumber.py\")\n\n-   The program should generate a random number between 1 and 20.\n\n-   Enter the source code into the IDLE file editor, or into Colab, and\n    save as `guessTheNumber.py`.\n\n-   Solution path/pseudocode (code highlighted)\n    1.  `import` `random` module.\n    2.  Generate a `random` number.\n    3.  Store number in `num`.\n    4.  Set `attempt` (number of guesses) to 0.\n    5.  Get `input` number `guess` from user.\n    6.  Increase `attempt` by 1\n    7.  Check if `guess` is the same as `num`\n    8.  Print success message and `attempt` value\n    9.  End program\n    10. Otherwise, check if `guess` is smaller than `num`\n    11. Print information\n    12. Otherwise, check if `guess` is larger than `num`\n    13. Print information\n    14. Return to step 3\n\n-   BPMN Process diagram:\n    \n    ![img](../img/py_guessTheNumber.png \"Flow diagram for guessTheNumber.py\")\n\n-   Solution Python code (16 + 5 lines): the `continue` commands are not\n    absolutely necessary for the program to work because at the end of\n    the `if` and `elif` statement, there is no other place to go but the top\n    of the infinite loop.\n\n"
      ]
    },
    {
      "cell_type": "code",
      "execution_count": 1,
      "metadata": {},
      "outputs": [],
      "source": [
        "# import random module\nimport random\n# pick random number between 1 and 20\nnum = random.randint(1,20)\n# set attempts counter to 0\nattempt = 0\n# ask user for number guess\nprint('Enter number between 1 and 20: ')\n# infinite loop until number is guessed\nwhile True:\n    guess = int(input('Take a guess: '))\n    attempt = attempt + 1\n    if guess < num:\n        print('Your guess is too low.')\n        continue\n    elif guess > num:\n        print('Your guess is too high.')\n        continue\n    else:\n        print('Good job! You guessed my number in ' + str(attempt) + ' guesses!')\n        break"
      ]
    },
    {
      "cell_type": "markdown",
      "metadata": {},
      "source": [
        "-   Program extensions:\n    1.  Make program safe against no/wrong input (exception handling):\n        currently, it terminates with an error if a floating-point number\n        or a letter or nothing is entered by mistake.\n    2.  Exchange the infinite `while` loop by a `for` loop with a set number\n        of allowed guesses (most games don't go on forever).\n\n-   Play the `while` loop version of this program at [pythontutor.com](https://pythontutor.com/visualize.html#code=import%20random%0Anum%20%3D%20random.randint%281,20%29%0Aattempt%20%3D%200%0Aprint%28'Enter%20number%20between%201%20and%2020%3A%20'%29%0Awhile%20True%3A%0A%20%20%20%20guess%20%3D%20int%28input%28'Take%20a%20guess%3A%20'%29%29%0A%20%20%20%20attempt%20%3D%20attempt%20%2B%201%0A%20%20%20%20if%20guess%20%3C%20num%3A%0A%20%20%20%20%20%20%20%20print%28'Your%20guess%20is%20too%20low.'%29%0A%20%20%20%20%20%20%20%20continue%0A%20%20%20%20elif%20guess%20%3E%20num%3A%0A%20%20%20%20%20%20%20%20print%28'Your%20guess%20is%20too%20high.'%29%0A%20%20%20%20%20%20%20%20continue%0A%20%20%20%20else%3A%0A%20%20%20%20%20%20%20%20print%28'Good%20job!%20You%20guessed%20my%20number%20in%20'%20%2B%20str%28attempt%29%20%2B%20'%20guesses!'%29%0A%20%20%20%20%20%20%20%20break%20%20&cumulative=false&curInstr=0&heapPrimitives=nevernest&mode=display&origin=opt-frontend.js&py=3&rawInputLstJSON=%5B%2210%22,%2215%22,%2212%22,%2213%22%5D&textReferences=false)\n\n-   Visualize a `for` loop version of this program at: [pythontutor.com](https://autbor.com/guessthenumber/).\n\n-   What did you learn?\n    1.  For best productivity and learning, follow a solution path -\n        don't just \"code away\"\n    2.  For best learning effects find different solutions to the same\n        problem.\n    3.  For best results, handle exceptions. Balance exception handling\n        with usability and performance.\n    4.  There is always more than one solution, usually many. There is no\n        best solution to a programming problem that satisfies all\n        requirements, even the unspoken ones, equally well.\n\n"
      ]
    }
  ],
  "metadata": [
    [
      "org"
    ],
    null,
    null
  ],
  "nbformat": 4,
  "nbformat_minor": 0
}
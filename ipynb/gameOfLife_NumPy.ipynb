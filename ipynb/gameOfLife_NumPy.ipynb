{
  "cells": [
    {
      "cell_type": "markdown",
      "metadata": {},
      "source": [
        "1.  Import modules:\n\n"
      ]
    },
    {
      "cell_type": "code",
      "execution_count": 1,
      "metadata": {},
      "outputs": [],
      "source": [
        "import numpy as np\nimport matplotlib.pyplot as plt\nimport matplotlib.animation as animation"
      ]
    },
    {
      "cell_type": "markdown",
      "metadata": {},
      "source": [
        "`numpy` is used for handling arrays efficiently. In Conway's Game\n     of Life, the world is represented as a grid of cells, which is\n     essentially a two-dimensional array. `matplotlib` is used for\n     plotting, and we are using its sub-module animation to create\n     animations.\n\n1.  Define the update function:\n\n"
      ]
    },
    {
      "cell_type": "code",
      "execution_count": 1,
      "metadata": {},
      "outputs": [],
      "source": [
        "def update(frameNum, img, grid, N):\n    newGrid = grid.copy()\n\n    for i in range(N):\n        for j in range(N):\n            total = int((grid[i, (j-1)%N] + grid[i, (j+1)%N] +\n                         grid[(i-1)%N, j] + grid[(i+1)%N, j] +\n                         grid[(i-1)%N, (j-1)%N] + grid[(i-1)%N, (j+1)%N] +\n                         grid[(i+1)%N, (j-1)%N] + grid[(i+1)%N, (j+1)%N]) / 255)\n\n            if grid[i, j] == ON:\n                if (total < 2) or (total > 3):\n                    newGrid[i, j] = OFF\n            else:\n                if total == 3:\n                    newGrid[i, j] = ON\n\n    img.set_data(newGrid)\n    grid[:] = newGrid[:]\n    return img,"
      ]
    },
    {
      "cell_type": "markdown",
      "metadata": {},
      "source": [
        "-   This function, called `update`, is executed for each frame of the\n    animation. It takes four arguments: `frameNum` (the current frame\n    number), `img` (the image plot object for displaying the current\n    state of the grid), `grid` (the current state of the grid), and `N`\n    (the size of the grid).\n    \n    -   `newGrid` is a (shallow, i.e. reference) copy of the current\n        grid. This copy is used to store the next state of the grid.\n    -   The nested `for` loops iterate through each cell in the grid. For\n        each cell, the function calculates the total number of live\n        neighbors (dividing by 255 to normalize to 1 for live cells,\n        since live cells are represented by 255 or white).\n    -   It then applies Conway's Game of Life rules to decide whether\n        each cell should be alive or dead in the next state. The\n        changes are stored in `newGrid`.\n    -   `img.set_data(newGrid)` updates the image plot object with the\n        new grid state.\n    -   `grid[:] = newGrid[:]` updates the actual grid with the new\n        state.\n    \n    6.  Initialize grid and constants:\n\n"
      ]
    },
    {
      "cell_type": "code",
      "execution_count": 1,
      "metadata": {},
      "outputs": [],
      "source": [
        "N = 100\nON = 255\nOFF = 0\nvals = [ON, OFF]\ngrid = np.random.choice(vals, N*N, p=[0.2, 0.8]).reshape(N, N)"
      ]
    },
    {
      "cell_type": "markdown",
      "metadata": {},
      "source": [
        "-   `N` represents the size of the grid (100x100 in this case).\n    \n    -   `ON` and `OFF` are constants used to represent the states of the\n        cells (255 for on/alive/white and 0 for off/dead/black).\n    -   `grid` is initialized as a two-dimensional array with `random`\n        values of `ON` and `OFF`. The `np.random.choice` function is used to\n        fill the grid with a 20% chance of a cell being alive (`ON`) and\n        80% chance of being dead (`OFF`).\n    \n    3.  Set up the plot:\n\n"
      ]
    },
    {
      "cell_type": "code",
      "execution_count": 1,
      "metadata": {},
      "outputs": [],
      "source": [
        "fig, ax = plt.subplots()\nimg = ax.imshow(grid, interpolation='nearest')"
      ]
    },
    {
      "cell_type": "markdown",
      "metadata": {},
      "source": [
        "-   `plt.subplots` creates a new figure and a set of subplots. In\n    this case, we only have one subplot (which is the default), so\n    it effectively just creates a new figure for the animation.\n    \n    -   `ax.imshow(grid, interpolation='nearest')` displays the data in\n        grid as an image. The parameter `interpolation='nearest'`\n        specifies that no interpolation should be done - the value of\n        each cell should be displayed as-is. This is stored in the\n        variable `img`.\n    \n    2.  Create the animation:\n\n"
      ]
    },
    {
      "cell_type": "code",
      "execution_count": 1,
      "metadata": {},
      "outputs": [],
      "source": [
        "ani = animation.FuncAnimation(fig,\n                              update,\n                              fargs=(img, grid, N, ),\n                              frames=10,\n                              interval=50,\n                              save_count=50)"
      ]
    },
    {
      "cell_type": "markdown",
      "metadata": {},
      "source": [
        "-   `animation.FuncAnimation` is a function from `matplotlib.animation`\n    that creates an animation by repeatedly calling a function\n    (`update` in this case).\n    \n    -   The `fig` argument specifies the figure object on which to draw\n        the animation.\n    -   `update` is the function that will be called for each frame of\n        the animation.\n    -   `fargs` is a tuple of arguments that will be passed to update\n        each time it is called.\n    -   `frames` specifies the number of frames in the animation (in this\n        example, the animation will have 10 frames).\n    -   `interval` is the delay between frames in milliseconds.\n    -   `save_count` is just an optimization that tells the animation to\n        keep the last 50 frames in memory.\n    \n    7.  Display the animation:\n\n"
      ]
    },
    {
      "cell_type": "code",
      "execution_count": 1,
      "metadata": {},
      "outputs": [],
      "source": [
        "plt.show()"
      ]
    },
    {
      "cell_type": "markdown",
      "metadata": {},
      "source": [
        "-   Finally, `plt.show()` is called to display the animation. This\n    opens a window that shows the animation of the grid evolving\n    over time according to the rules of Conway's Game of Life.\n    1.  Extensions: this animation only runs for 10 frames. You can\n        experiment with different parameters - number of frames, grid\n        size, different initial configuration of the grid.\n\n"
      ]
    }
  ],
  "metadata": [
    [
      "org"
    ],
    null,
    null
  ],
  "nbformat": 4,
  "nbformat_minor": 0
}
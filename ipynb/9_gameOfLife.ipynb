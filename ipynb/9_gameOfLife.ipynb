{
  "cells": [
    {
      "cell_type": "markdown",
      "metadata": {},
      "source": "CONWAY'S GAME OF LIFE\n=====================\n\n**Author:** Marcus Birkenkrahe\n\n"
    },
    {
      "cell_type": "markdown",
      "metadata": {},
      "source": [
        "## README\n\n"
      ]
    },
    {
      "cell_type": "markdown",
      "metadata": {},
      "source": [
        "-   More on cellular automata in Python (Ilievski, 2021)\n-   More on cellular automata ([Wikipedia](https://en.wikipedia.org/wiki/Cellular_automaton))\n-   Conway's Game of Life ([Wikipedia](https://en.wikipedia.org/wiki/Conway%27s_Game_of_Life))\n-   Code source: Sweigart (2019)/OpenAI. For more games, see [GitHub](https://github.com/asweigart/pythonstdiogames).\n\n"
      ]
    },
    {
      "cell_type": "markdown",
      "metadata": {},
      "source": [
        "## Mathematical basis: cellular automata\n\n"
      ]
    },
    {
      "cell_type": "markdown",
      "metadata": {},
      "source": [
        "-   Automata are self-operating state-machines or iterative arrays\n\n-   History: discovered by Ulam/von Neumann (1940s), popularized by\n    Conway (1970s), analyzed by Wolfram (1980s).\n\n-   *Applications* include: fluid dynamics simulations in **physics**, plant\n    growth processes in **biology**, pseudo random number generation in\n    **cryptography**, traffic flow modeling, city growth patterns in **urban\n    planning**, spread of forest fires in **ecology**, chemical reaction\n    models in **chemistry**, terrain generation in **game development**, etc.\n\n-   Automata are conveniently represented as directed (cyclic) graphs:\n    here is an example of a 2 state finite automaton.\n    \n    ![img](../img/automaton.png \"Simple automaton with two states (Ilievski, 2021)\")\n\n-   In the depicted automaton, S1 and S2 are states, and the edges are\n    transition lines that are triggered by the state: e.g. 0 on S1\n    triggers a state change from S1 to S2.\n\n-   The language of graphs is also important in network analysis,\n    database and algorithm design.\n\n"
      ]
    },
    {
      "cell_type": "markdown",
      "metadata": {},
      "source": [
        "## Example: a 'Rule 30' automaton in Python\n\n"
      ]
    },
    {
      "cell_type": "markdown",
      "metadata": {},
      "source": [
        "![img](../img/rule30.jpeg \"A Conus textile shell similar in appearance to Rule 30 (Wikipedia)\")\n\n-   Here's a simple Python implementation of a one-dimensional cellular\n    automaton, specifically the '[Rule 30 automaton](https://en.wikipedia.org/wiki/Rule_30)'.\n\n-   Despite its simplicity, it generates complex, seemingly random\n    patterns (e.g. on shells).\n\n-   The code:\n\n"
      ]
    },
    {
      "cell_type": "code",
      "execution_count": 1,
      "metadata": {},
      "outputs": [],
      "source": [
        "# function that applies rule 30 to a list of cells\ndef rule30(cells):\n    # Applies Rule 30 to the given list of cells\n    new_cells = []\n    for i in range(len(cells)):\n        left = cells[i - 1] if i > 0 else 0\n        center = cells[i]\n        right = cells[i + 1] if i < len(cells) - 1 else 0\n        new_cells.append(left ^ (center or right))  # Rule 30 logic\n    return new_cells\n\n# Initial configuration\ncells = [0, 0, 0, 0, 0, 1, 0, 0, 0, 0, 0]\n\n# Run the automaton for 10 steps\nfor _ in range(10):\n    print(''.join('#' if cell else ' ' for cell in cells))\n    cells = rule30(cells)"
      ]
    },
    {
      "cell_type": "markdown",
      "metadata": {},
      "source": [
        "-   How the program works:\n    1.  `rule30` is a function that takes a list of cells as input and\n        applies Rule 30 to generate the new state of these cells. Rule 30\n        is one of the elementary cellular automaton rules introduced by\n        Stephen Wolfram. It's named \"Rule 30\" because the rule number,\n        30, translates to `00011110` in binary, which dictates the new\n        state for a given triplet of cells.\n    2.  Inside the `rule30` function, a new list called `new_cells` is created\n        to store the new state of the cells.\n    3.  The function then iterates over each cell in the input list\n        (`cells`). For each cell, it determines the state of its left\n        neighbor, itself, and its right neighbor. Based on these states,\n        it computes the new state using the Rule 30 logic: `new_state =\n             left XOR (center OR right)`, where XOR (or `^`) is the bitwise\n        exclusive OR operation.\n    4.  After iterating through all the cells, the function returns the\n        `new_cells` list, which represents the new state of the cells after\n        applying Rule 30.\n    5.  The main part of the program initializes the cells with a\n        specific configuration (11 cells, with the sixth cell being in\n        state 1 and the rest in state 0).\n    6.  The program then runs the cellular automaton for 10 steps. In\n        each step, it prints the current state of the cells as a string\n        of `#` characters for state 1 and spaces for state 0. After\n        printing, it calls the `rule30` function to compute the new state\n        of the cells for the next step.\n    7.  The underscore `_` in the `for` loop is a conventional placeholder or\n        throwaway variable since it is not actually needed anywhere: the\n        loop is there only to execute the clause 10 times.\n    8.  Which *methods* are used in this program?\n\n>      - `list.append`: appends item to list in place\n>      - `str.join`: joins any number of strings\n>      - Other functions: `range`, `len`, `print`.\n\n"
      ]
    },
    {
      "cell_type": "markdown",
      "metadata": {},
      "source": [
        "## Extended example: Conway's 'Game of Life'\n\n"
      ]
    },
    {
      "cell_type": "markdown",
      "metadata": {},
      "source": [
        "\\#caption: Four steps in a Conway's Game of Life simulation (Sweigart, 2019)\n![img](../img/conway.png)\n\n-   In the graphical illustration, an empty square is 'dead', and a\n    filled-in one is 'alive'.\n\n-   Conway's Game of Life simulation (CGOL) has four simple rules:\n    1.  each live cell with one or no neighbors dies.\n    2.  each live cell with four or more neighbors dies.\n    3.  each live cell with two or three neighbors survives.\n    4.  each dead cell with three neighbors becomes populated.\n\n-   In a 4 x 4 state space, the two automatons below describe the\n    transition of 5 live cells and reproduction of 2 live cells:\n    \n    | cell|next|state 1|state 2|fate|\n    |---|---|---|---|---|\n    | b1|1|1|0|dies|\n    | c2|3|1|1|lives|\n    | c3|2|1|1|lives|\n    | b3|3|1|1|lives|\n    | a3|1|1|0|dies|\n    |---|---|---|---|---|\n    | a2|3|0|1|comes alive|\n    | b4|3|0|1|comes alive|\n    \n    ![img](../img/gol1.png) ![img](../img/gol2.png)\n\n-   You can play CGOL online at [playgameoflife.com](https://playgameoflife.com/) and check out the\n    sequence above. On the site, click on 'explanation' to see the set\n    of rules illustrated with examples.\n\n-   A nice project for my new Snap! course: Game of Life simulation in\n    [in Snap! here at U Berkeley](https://snap.berkeley.edu/project?username=joecooldoo&projectname=Conways%20Game%20of%20Life):\n    \n    ![img](../img/conway_snap.png \"Conway Game of Life simulation 10 x 10 in Snap!\")\n\n-   For a (free) 500p. book on the Game of Life and the mathematics\n    behind it, see Johnston/Greene (2022): [conwaylife.com/book/](https://conwaylife.com/book/).\n\n-   In the code, a list of lists is used to represent a 2-dimensional\n    field. The inner list represents each column of squares and stores\n    one character (like 'O') for living, and a space for dead cells.\n\n"
      ]
    },
    {
      "cell_type": "markdown",
      "metadata": {},
      "source": [
        "## Conway's Game of Life using lists\n\n"
      ]
    },
    {
      "cell_type": "markdown",
      "metadata": {},
      "source": [
        "-   Save the file from here as `conwaysgameoflife.py`:\n    [https://inventwithpython.com/projects/conwaysgameoflife.py](https://inventwithpython.com/projects/conwaysgameoflife.py)\n\n-   Save the `gameOfLife.py` from GitHub:\n    [github.com/birkenkrahe/py/blob/main/src/gameOfLife.py](https://github.com/birkenkrahe/py/blob/main/src/gameOfLife.py)\n\n-   Open a CMD terminal on Windows, go to the `Downloads` directory and\n    run the simulation with `python conwaysgameoflife.py`:\n    \n    ![img](../img/conwaygameoflife1.png \"Conway's Game of Life at the start and after stabilizing.\") ![img](../img/conwaygameoflife2.png \"Conway's Game of Life at the start and after stabilizing.\")\n\n-   Here's the code followed by an analysis:\n\n"
      ]
    },
    {
      "cell_type": "code",
      "execution_count": 1,
      "metadata": {},
      "outputs": [],
      "source": [
        "# Conway's Game of Life\n# By Al Sweigart - inventwithpython.com (2016)\nimport random, time, copy\n\nWIDTH = 79   # x range\nHEIGHT = 20  # y range\nALIVE = 'O'  # symbol for live cells\nDEAD = ' '   # symbol for dead cells\n\n# create a list of lists for the cells:\nnextCells = []\nfor x in range(WIDTH):\n    column = [] # create a new column\n    for y in range(HEIGHT):\n        if random.randint(0,1) == 0:\n            column.append(ALIVE)  # add a living cell\n        else:\n            column.append(DEAD)  # add a dead cell\n    nextCells.append(column)  # nextCells is a list of column lists\n\nwhile True: # main program loop\n    print('\\n\\n\\n\\n\\n')  # separate each step with newlines\n    currentCells = copy.deepcopy(nextCells)\n\n    # print currentCells on screen:\n    for y in range(HEIGHT):\n        for x in range(WIDTH):\n            print(currentCells[x][y], end=' ') # print hash or space\n        print()   # print newline at the end of the row\n\n    # calculate the next step's cells based on current step's cells\n    for x in range(WIDTH):\n        for y in range(HEIGHT):\n            # get neighboring coordinates\n            leftCoord = (x - 1) % WIDTH\n            rightCoord = (x + 1) % WIDTH\n            aboveCoord = (y - 1) % HEIGHT\n            belowCoord = (y + 1) % HEIGHT\n\n            # count number of living neighbors:\n            numNeighbors = 0\n            if currentCells[leftCoord][aboveCoord]==ALIVE:\n                numNeighbors += 1 # top-left neighbor alive\n            if currentCells[x][aboveCoord]==ALIVE:\n                numNeighbors += 1 # top neighbor alive\n            if currentCells[rightCoord][aboveCoord]==ALIVE:\n                numNeighbors += 1 # top-right neighbor alive\n            if currentCells[leftCoord][y]==ALIVE:\n                numNeighbors += 1 # left neighbor alive\n            if currentCells[rightCoord][y]==ALIVE:\n                numNeighbors += 1 # right neighbor alive\n            if currentCells[leftCoord][belowCoord]==ALIVE:\n                numNeighbors += 1 # bottom-left neighbor alive\n            if currentCells[x][belowCoord]==ALIVE:\n                numNeighbors += 1 # bottom neighbor alive\n            if currentCells[rightCoord][belowCoord]==ALIVE:\n                numNeighbors += 1 # bottom-right neighbor alive\n\n            # set cell based on Conway's Game of Life rules:\n            if currentCells[x][y] == ALIVE:\n                if numNeighbors==2 or numNeighbors==3:\n                    # living cells with 2-3 neighbors live:\n                    nextCells[x][y] = ALIVE\n                else:\n                    nextCells[x][y] = DEAD\n            else:\n                # dead cells with 3 neighbors become alive:\n                if numNeighbors == 3:\n                    nextCells[x][y] = ALIVE\n                else:\n                    nextCells[x][y] = DEAD\n    # add a 1-sec pause to reduce flickering\n    time.sleep(1)"
      ]
    },
    {
      "cell_type": "markdown",
      "metadata": {},
      "source": [
        "### Import modules needed:\n\n"
      ]
    },
    {
      "cell_type": "markdown",
      "metadata": {},
      "source": [
        "1.  `random.randint` to populate the grid randomly with cells\n2.  `time.sleep` to delay execution by a second between screens\n3.  `copy.deepcopy` to copy a list (instead of only a reference)\n    \n        import random, time, copy\n\n"
      ]
    },
    {
      "cell_type": "markdown",
      "metadata": {},
      "source": [
        "### Create random cell population\n\n"
      ]
    },
    {
      "cell_type": "markdown",
      "metadata": {},
      "source": [
        "-   We want to simulate life on a 2-dimensional canvas. You can do that\n    with a list inside a list. We call it `nextCells` and add `WIDTH`\n    columns of length `HEIGHT` to it using `list.append`:\n\n"
      ]
    },
    {
      "cell_type": "code",
      "execution_count": 1,
      "metadata": {},
      "outputs": [],
      "source": [
        "import random\nWIDTH=10\nHEIGHT=5\nnextCells = []\nfor x in range(WIDTH):\n    column = []\n    for y in range(HEIGHT):\n        if random.randint(0,1) == 0:\n            column.append('O')\n        else:\n            column.append(' ')\n            nextCells.append(column)"
      ]
    },
    {
      "cell_type": "markdown",
      "metadata": {},
      "source": [
        "-   Print the lists to reveal the 2-dimensional structure: the list\n    items that are lists are the columns of the 10 x 5 grid:\n\n"
      ]
    },
    {
      "cell_type": "code",
      "execution_count": 1,
      "metadata": {},
      "outputs": [
        {
          "name": "stdout",
          "output_type": "stream",
          "text": [
            ": first column:  ['O', ' ', 'O', 'O', ' ']\n  : last column:   ['O', 'O', ' ', 'O', ' ']\n  :\n  : O     O O O O   O O\n  :   O O O       O   O\n  : O O     O\n  : O O   O O O O O O O\n  :   O O O O"
          ]
        }
      ],
      "source": [
        "<<nextCells>>  # create random population\nprint('first column: ',nextCells[0][:])\nprint('last column:  ',nextCells[9][:],end='\\n\\n')\nfor y in range(HEIGHT):\n    for x in range(WIDTH):\n        print(nextCells[x][y], end=' ') # print hash or space\n        print()   # print newline at the end of the row"
      ]
    },
    {
      "cell_type": "markdown",
      "metadata": {},
      "source": [
        "-   What is the address of the last cell (lower right corner)?\n\n"
      ]
    },
    {
      "cell_type": "code",
      "execution_count": 1,
      "metadata": {},
      "outputs": [],
      "source": [
        "nextCells[WIDTH-1][HEIGHT-1]"
      ]
    },
    {
      "cell_type": "markdown",
      "metadata": {},
      "source": [
        "### Copy cells and print them\n\n"
      ]
    },
    {
      "cell_type": "markdown",
      "metadata": {},
      "source": [
        "-   Each iteration of the main program loop is a single step of the\n    cellular automata: all cells are traversed and re-evaluated to see\n    if they live or die, or become alive:\n    \n        while True: # main program loop\n          print('\\n\\n\\n\\n\\n')  # separate each step with newlines\n          currentCells = copy.deepcopy(nextCells)\n\n-   We put this list of lists into `nextCells`, then on each step we copy\n    `nextCells` into `currentCells`, print it to the screen and then use the\n    cells in `currentCells` to calculate the next in `nextCells`.\n    \n        # print currentCells on screen:\n        for y in range(HEIGHT):\n            for x in range(WIDTH):\n                print(currentCells[x][y], end=' ') # print hash or space\n            print()   # print newline at the end of the row\n\n"
      ]
    },
    {
      "cell_type": "markdown",
      "metadata": {},
      "source": [
        "### Calculate indices of cells around each cell\n\n"
      ]
    },
    {
      "cell_type": "markdown",
      "metadata": {},
      "source": [
        "-   The living or dead state of each cell depends on its neighbors, so\n    we calculate the indices of the cells to the left, right, above and\n    below the current x and y coordinates:\n    \n        # calculate the next step's cells based on current step's cells\n        for x in range(WIDTH):\n            for y in range(HEIGHT):\n                # get neighboring coordinates\n                leftCoord  = (x - 1) % WIDTH\n                rightCoord = (x + 1) % WIDTH\n                aboveCoord = (y - 1) % HEIGHT\n                belowCoord = (y + 1) % HEIGHT\n\n-   The `%` operator makes the index wrap around at the edges of the grid:\n    The leftmost column `0` would be `0 - 1 = -1`. To identify this with the\n    rightmost column `WIDTH - 1 = 59`, take `(0 - 1) % WIDTH = 59`.\n\n-   How does this work? It's called 'floored division' in Python,\n    rounding down a number to the nearest integer that is less or equal\n    to that number: drop the decimal part of the number and keep the\n    integer part unchanged if it's positive or moving towards negative\n    infinity if it's negative:\n\n"
      ]
    },
    {
      "cell_type": "code",
      "execution_count": 1,
      "metadata": {},
      "outputs": [],
      "source": [
        "from math import floor, ceil\nprint(floor(5.8))  # 5 is the largest integer <= 5.8\nprint(ceil(5.8)) # 6 is the next integer >= 5.8\nprint(floor(2))  # 2 is already 'floored'\nprint(floor(-2.3)) # -3 is the largest integer <= -2.3\nprint(floor(-7)) # -7 is already 'floored'"
      ]
    },
    {
      "cell_type": "markdown",
      "metadata": {},
      "source": [
        "-   When you divide -1 by 60, you get approximately -0.0167. If you\n    round this towards negative infinity, you get -1:\n\n"
      ]
    },
    {
      "cell_type": "code",
      "execution_count": 1,
      "metadata": {},
      "outputs": [],
      "source": [
        "print(floor(-1/60))"
      ]
    },
    {
      "cell_type": "markdown",
      "metadata": {},
      "source": [
        "-   Now, if you plug this into the formula for modulo:\n    \n        -1 % 60 = -1 - (60 * floor(-1/60))\n                = -1 - (60 * -1)\n                = -1 + 60\n                = 59\n\n-   Print some coordinate values to see the wraparound for a 2 x 2 grid:\n\n"
      ]
    },
    {
      "cell_type": "code",
      "execution_count": 1,
      "metadata": {},
      "outputs": [],
      "source": [
        "# calculate the next step's cells based on current step's cells\nWIDTH  = 2\nHEIGHT = 2\nfor x in range(WIDTH):\n    for y in range(HEIGHT):\n        print(f'(x,y) = ({x},{y}): ',end='')\n        leftCoord =  (x - 1) % WIDTH\n        rightCoord = (x + 1) % WIDTH\n        print(f'left  = {leftCoord}, x = {x}, right = {rightCoord}')\n        aboveCoord = (y - 1) % HEIGHT\n        belowCoord = (y + 1) % HEIGHT\n        print(f'{\"\":15}above = {aboveCoord}, y = {y}, below = {belowCoord}')"
      ]
    },
    {
      "cell_type": "markdown",
      "metadata": {},
      "source": [
        "### Count the number of living neighbors\n\n"
      ]
    },
    {
      "cell_type": "markdown",
      "metadata": {},
      "source": [
        "-   The rules relate to the number of living neighbors. We need to count\n    them for every `currentCell[x][y]`. We use the coordinates we just\n    computed to look at everyone one of the eight neighbors:\n    \n        # count number of living neighbors:\n        numNeighbors = 0\n        if currentCells[leftCoord][aboveCoord]=='#':\n            numNeighbors += 1 # top-left neighbor alive\n        if currentCells[x][aboveCoord]=='#':\n            numNeighbors += 1 # top neighbor alive\n        if currentCells[rightCoord][aboveCoord]=='#':\n            numNeighbors += 1 # top-right neighbor alive\n        if currentCells[leftCoord][y]=='#':\n            numNeighbors += 1 # left neighbor alive\n        if currentCells[rightCoord][y]=='#':\n            numNeighbors += 1 # right neighbor alive\n        if currentCells[leftCoord][belowCoord]=='#':\n           numNeighbors += 1 # bottom-left neighbor alive\n        if currentCells[x][belowCoord]=='#':\n           numNeighbors += 1 # bottom neighbor alive\n        if currentCells[rightCoord][belowCoord]=='#':\n           numNeighbors += 1 # bottom-right neighbor alive\n\n-   The variable `numNeighbors` now contains the number of living\n    neighbors of each cell.\n\n"
      ]
    },
    {
      "cell_type": "markdown",
      "metadata": {},
      "source": [
        "### Apply Conway's rules for the next generation\n\n"
      ]
    },
    {
      "cell_type": "markdown",
      "metadata": {},
      "source": [
        "-   `nextCells` contains the next generation's cells. We apply three rules\n    to `currentCells[x][y]` for both currently living or dead cells and\n    copy the result to `nextCells`:\n    \n    1.  Living cells with 2 or 3 neighbors stay alive\n    2.  Dead cells with 3 neighbors become alive\n    3.  Every other cell either dies or stays dead\n    \n        # set cell based on Conway's Game of Life rules:\n        if currentCells[x][y] == 'O':\n            if numNeighbors==2 or numNeighbors==3:\n                # living cells with 2-3 neighbors live:\n                nextCells[x][y] = 'O'\n            else:\n                nextCells[x][y] = ' '\n        else:\n            # dead cells with 3 neighbors become alive:\n            if numNeighbors == 3:\n                nextCells[x][y] = 'O'\n            else:\n                nextCells[x][y] = ' '\n\n"
      ]
    },
    {
      "cell_type": "markdown",
      "metadata": {},
      "source": [
        "### Take a short time out\n\n"
      ]
    },
    {
      "cell_type": "markdown",
      "metadata": {},
      "source": [
        "-   Before the next run through all cells, still within the infinite\n    loop, we pause execution for 1 second to suppress flickering:\n    \n        # add a 1-sec pause to reduce flickering\n          time.sleep(1)\n\n-   Otherwise, there is no exit condition, the automata will live, die\n    and replicate forever until they stabilize and the rules will not\n    lead to a change anymore, or only to small changes:\n    \n    ![img](../img/stable1.png) ![img](../img/stable2.png)\n\n"
      ]
    },
    {
      "cell_type": "markdown",
      "metadata": {},
      "source": [
        "### Moving patterns: 'glider'\n\n"
      ]
    },
    {
      "cell_type": "markdown",
      "metadata": {},
      "source": [
        "-   To create the pattern shown at the start, the 'glider', which goes\n    through 4 states before it repeats, replace\n    \n        if random.randint(0,1) == 0\n    \n    with this line:\n    \n        if (x, y) in ((1, 0), (2, 1), (0, 2), (1, 2), (2, 2)):\n\n-   This brings only the cells of the 'glider' starting state to life:\n    \n    ![img](../img/glider.png)\n\n-   Download `glider.py` and run it in a terminal:\n    [github.com/birkenkrahe/py/blob/main/src/glider.py](https://github.com/birkenkrahe/py/blob/main/src/glider.pyq)\n\n-   It's fun to experiment with other patterns. The free book by\n    Johnston and Greene (2022) contains a lot of patterns for\n    reproduction.\n\n"
      ]
    },
    {
      "cell_type": "markdown",
      "metadata": {},
      "source": [
        "## Conway's Game of Life using dictionaries\n\n"
      ]
    },
    {
      "cell_type": "markdown",
      "metadata": {},
      "source": [
        "-   Here's Sweigart's code using dictionaries. You can\n    [download it from here](https://inventwithpython.com/projects/conwaysgameoflife.py), or follow the author while he's coding on YouTube\n    ([Sweigart, 2021](https://youtu.be/Vn8Mug5w7sw)):\n\n"
      ]
    },
    {
      "cell_type": "code",
      "execution_count": 1,
      "metadata": {},
      "outputs": [],
      "source": [
        "\"\"\"Conway's Game of Life, by Al Sweigart al@inventwithpython.com\nThe classic cellular automata simulation. Press Ctrl-C to stop.\nMore info at: https://en.wikipedia.org/wiki/Conway%27s_Game_of_Life\nThis code is available at https://nostarch.com/big-book-small-python-programming\nTags: short, artistic, simulation\"\"\"\n\nimport copy, random, sys, time\n\n# Set up the constants:\nWIDTH = 79   # The width of the cell grid.\nHEIGHT = 20  # The height of the cell grid.\n\n# (!) Try changing ALIVE to '#' or another character:\nALIVE = 'O'  # The character representing a living cell.\n# (!) Try changing DEAD to '.' or another character:\nDEAD = ' '   # The character representing a dead cell.\n\n# (!) Try changing ALIVE to '|' and DEAD to '-'.\n\n# The cells and nextCells are dictionaries for the state of the game.\n# Their keys are (x, y) tuples and their values are one of the ALIVE\n# or DEAD values.\nnextCells = {}\n# Put random dead and alive cells into nextCells:\nfor x in range(WIDTH):  # Loop over every possible column.\n    for y in range(HEIGHT):  # Loop over every possible row.\n        # 50/50 chance for starting cells being alive or dead.\n        if random.randint(0, 1) == 0:\n            nextCells[(x, y)] = ALIVE  # Add a living cell.\n        else:\n            nextCells[(x, y)] = DEAD  # Add a dead cell.\n\nwhile True:  # Main program loop.\n    # Each iteration of this loop is a step of the simulation.\n\n    print('\\n' * 50)  # Separate each step with newlines.\n    cells = copy.deepcopy(nextCells)\n\n    # Print cells on the screen:\n    for y in range(HEIGHT):\n        for x in range(WIDTH):\n            print(cells[(x, y)], end='')  # Print the # or space.\n            print()  # Print a newline at the end of the row.\n            print('Press Ctrl-C to quit.')\n\n    # Calculate the next step's cells based on current step's cells:\n    for x in range(WIDTH):\n        for y in range(HEIGHT):\n            # Get the neighboring coordinates of (x, y), even if they\n            # wrap around the edge:\n            left  = (x - 1) % WIDTH\n            right = (x + 1) % WIDTH\n            above = (y - 1) % HEIGHT\n            below = (y + 1) % HEIGHT\n\n            # Count the number of living neighbors:\n            numNeighbors = 0\n            if cells[(left, above)] == ALIVE:\n                numNeighbors += 1  # Top-left neighbor is alive.\n            if cells[(x, above)] == ALIVE:\n                numNeighbors += 1  # Top neighbor is alive.\n            if cells[(right, above)] == ALIVE:\n                numNeighbors += 1  # Top-right neighbor is alive.\n            if cells[(left, y)] == ALIVE:\n                numNeighbors += 1  # Left neighbor is alive.\n            if cells[(right, y)] == ALIVE:\n                numNeighbors += 1  # Right neighbor is alive.\n            if cells[(left, below)] == ALIVE:\n                numNeighbors += 1  # Bottom-left neighbor is alive.\n            if cells[(x, below)] == ALIVE:\n                numNeighbors += 1  # Bottom neighbor is alive.\n            if cells[(right, below)] == ALIVE:\n                numNeighbors += 1  # Bottom-right neighbor is alive.\n\n            # Set cell based on Conway's Game of Life rules:\n            if cells[(x, y)] == ALIVE and (numNeighbors == 2\n                                           or numNeighbors == 3):\n                # Living cells with 2 or 3 neighbors stay alive:\n                    nextCells[(x, y)] = ALIVE\n            elif cells[(x, y)] == DEAD and numNeighbors == 3:\n                # Dead cells with 3 neighbors become alive:\n                nextCells[(x, y)] = ALIVE\n            else:\n                # Everything else dies or stays dead:\n                nextCells[(x, y)] = DEAD\n\n    try:\n        time.sleep(1)  # Add a 1 second pause to reduce flickering.\n    except KeyboardInterrupt:\n        print(\"Conway's Game of Life\")\n        print('By Al Sweigart al@inventwithpython.com')\n        sys.exit()  # When Ctrl-C is pressed, end the program."
      ]
    },
    {
      "cell_type": "markdown",
      "metadata": {},
      "source": [
        "## Conway's Game of Life with NumPy and matplotlib\n\n"
      ]
    },
    {
      "cell_type": "markdown",
      "metadata": {},
      "source": [
        "-   [See here for the notebook (GitHub](https://gist.github.com/birkenkrahe/efd9aaa5d20a08e259767e2de9bdf94b)). You need to download the Python\n    source code and run it on the terminal or in IDLE.\n\n-   This Python program sets up an NxN grid (in this case, 100x100),\n    randomly populates it with cells that are either \"on\" or \"off\", and\n    then updates the grid over time according to Conway's Game of Life\n    rules.\n\n-   The program:\n\n"
      ]
    },
    {
      "cell_type": "code",
      "execution_count": 1,
      "metadata": {},
      "outputs": [],
      "source": [
        "import numpy as np\nimport matplotlib.pyplot as plt\nimport matplotlib.animation as animation\n\ndef update(frameNum, img, grid, N):\n    # Copy grid to apply rules\n    newGrid = grid.copy()\n\n    # Loop through each cell in the grid\n    for i in range(N):\n        for j in range(N):\n            # Compute the sum of the eight neighbors\n            total = int((grid[i, (j-1)%N] + grid[i, (j+1)%N] +\n                         grid[(i-1)%N, j] + grid[(i+1)%N, j] +\n                         grid[(i-1)%N, (j-1)%N] + grid[(i-1)%N, (j+1)%N] +\n                         grid[(i+1)%N, (j-1)%N] + grid[(i+1)%N, (j+1)%N]) / 255)\n\n            # Conway's rules\n            if grid[i, j] == ON:\n                if (total < 2) or (total > 3):\n                    newGrid[i, j] = OFF\n            else:\n                if total == 3:\n                    newGrid[i, j] = ON\n\n    # Update the data\n    img.set_data(newGrid)\n    grid[:] = newGrid[:]\n    return img,\n\n# Grid size and animation frames\nN = 100\nON = 255\nOFF = 0\nvals = [ON, OFF]\n\n# Populate grid with random on/off states\ngrid = np.random.choice(vals, N*N, p=[0.2, 0.8]).reshape(N, N)\n\n# Create the figure and axis objects\nfig, ax = plt.subplots()\n\n# Display the grid as an image\nimg = ax.imshow(grid, interpolation='nearest')\n\n# Animate\nani = animation.FuncAnimation(fig, update, fargs=(img, grid, N, ),\n                              frames=10, interval=50, save_count=50)\n\n# Display\nplt.show()"
      ]
    },
    {
      "cell_type": "markdown",
      "metadata": {},
      "source": [
        "-   Analysis:\n    1.  Import modules:\n\n"
      ]
    },
    {
      "cell_type": "code",
      "execution_count": 1,
      "metadata": {},
      "outputs": [],
      "source": [
        "import numpy as np\nimport matplotlib.pyplot as plt\nimport matplotlib.animation as animation"
      ]
    },
    {
      "cell_type": "markdown",
      "metadata": {},
      "source": [
        "`numpy` is used for handling arrays efficiently. In Conway's Game\n     of Life, the world is represented as a grid of cells, which is\n     essentially a two-dimensional array. `matplotlib` is used for\n     plotting, and we are using its sub-module animation to create\n     animations.\n\n1.  Define the update function:\n\n"
      ]
    },
    {
      "cell_type": "code",
      "execution_count": 1,
      "metadata": {},
      "outputs": [],
      "source": [
        "def update(frameNum, img, grid, N):\n    newGrid = grid.copy()\n\n    for i in range(N):\n        for j in range(N):\n            total = int((grid[i, (j-1)%N] + grid[i, (j+1)%N] +\n                         grid[(i-1)%N, j] + grid[(i+1)%N, j] +\n                         grid[(i-1)%N, (j-1)%N] + grid[(i-1)%N, (j+1)%N] +\n                         grid[(i+1)%N, (j-1)%N] + grid[(i+1)%N, (j+1)%N]) / 255)\n\n            if grid[i, j] == ON:\n                if (total < 2) or (total > 3):\n                    newGrid[i, j] = OFF\n            else:\n                if total == 3:\n                    newGrid[i, j] = ON\n\n    img.set_data(newGrid)\n    grid[:] = newGrid[:]\n    return img,"
      ]
    },
    {
      "cell_type": "markdown",
      "metadata": {},
      "source": [
        "-   This function, called `update`, is executed for each frame of the\n    animation. It takes four arguments: `frameNum` (the current frame\n    number), `img` (the image plot object for displaying the current\n    state of the grid), `grid` (the current state of the grid), and `N`\n    (the size of the grid).\n    \n    -   `newGrid` is a (shallow, i.e. reference) copy of the current\n        grid. This copy is used to store the next state of the grid.\n    -   The nested `for` loops iterate through each cell in the grid. For\n        each cell, the function calculates the total number of live\n        neighbors (dividing by 255 to normalize to 1 for live cells,\n        since live cells are represented by 255 or white).\n    -   It then applies Conway's Game of Life rules to decide whether\n        each cell should be alive or dead in the next state. The\n        changes are stored in `newGrid`.\n    -   `img.set_data(newGrid)` updates the image plot object with the\n        new grid state.\n    -   `grid[:] = newGrid[:]` updates the actual grid with the new\n        state.\n    \n    6.  Initialize grid and constants:\n\n"
      ]
    },
    {
      "cell_type": "code",
      "execution_count": 1,
      "metadata": {},
      "outputs": [],
      "source": [
        "N = 100\nON = 255\nOFF = 0\nvals = [ON, OFF]\ngrid = np.random.choice(vals, N*N, p=[0.2, 0.8]).reshape(N, N)"
      ]
    },
    {
      "cell_type": "markdown",
      "metadata": {},
      "source": [
        "-   `N` represents the size of the grid (100x100 in this case).\n    \n    -   `ON` and `OFF` are constants used to represent the states of the\n        cells (255 for on/alive/white and 0 for off/dead/black).\n    -   `grid` is initialized as a two-dimensional array with `random`\n        values of `ON` and `OFF`. The `np.random.choice` function is used to\n        fill the grid with a 20% chance of a cell being alive (`ON`) and\n        80% chance of being dead (`OFF`).\n    \n    3.  Set up the plot:\n\n"
      ]
    },
    {
      "cell_type": "code",
      "execution_count": 1,
      "metadata": {},
      "outputs": [],
      "source": [
        "fig, ax = plt.subplots()\nimg = ax.imshow(grid, interpolation='nearest')"
      ]
    },
    {
      "cell_type": "markdown",
      "metadata": {},
      "source": [
        "-   `plt.subplots` creates a new figure and a set of subplots. In\n    this case, we only have one subplot (which is the default), so\n    it effectively just creates a new figure for the animation.\n    \n    -   `ax.imshow(grid, interpolation='nearest')` displays the data in\n        grid as an image. The parameter `interpolation='nearest'`\n        specifies that no interpolation should be done - the value of\n        each cell should be displayed as-is. This is stored in the\n        variable `img`.\n    \n    2.  Create the animation:\n\n"
      ]
    },
    {
      "cell_type": "code",
      "execution_count": 1,
      "metadata": {},
      "outputs": [],
      "source": [
        "ani = animation.FuncAnimation(fig,\n                              update,\n                              fargs=(img, grid, N, ),\n                              frames=10,\n                              interval=50,\n                              save_count=50)"
      ]
    },
    {
      "cell_type": "markdown",
      "metadata": {},
      "source": [
        "-   `animation.FuncAnimation` is a function from `matplotlib.animation`\n    that creates an animation by repeatedly calling a function\n    (`update` in this case).\n    \n    -   The `fig` argument specifies the figure object on which to draw\n        the animation.\n    -   `update` is the function that will be called for each frame of\n        the animation.\n    -   `fargs` is a tuple of arguments that will be passed to update\n        each time it is called.\n    -   `frames` specifies the number of frames in the animation (in this\n        example, the animation will have 10 frames).\n    -   `interval` is the delay between frames in milliseconds.\n    -   `save_count` is just an optimization that tells the animation to\n        keep the last 50 frames in memory.\n    \n    7.  Display the animation:\n\n"
      ]
    },
    {
      "cell_type": "code",
      "execution_count": 1,
      "metadata": {},
      "outputs": [],
      "source": [
        "plt.show()"
      ]
    },
    {
      "cell_type": "markdown",
      "metadata": {},
      "source": [
        "-   Finally, `plt.show()` is called to display the animation. This\n    opens a window that shows the animation of the grid evolving\n    over time according to the rules of Conway's Game of Life.\n    1.  Extensions: this animation only runs for 10 frames. You can\n        experiment with different parameters - number of frames, grid\n        size, different initial configuration of the grid.\n\n"
      ]
    },
    {
      "cell_type": "markdown",
      "metadata": {},
      "source": [
        "## References\n\n"
      ]
    },
    {
      "cell_type": "markdown",
      "metadata": {},
      "source": [
        "-   Ilievski, V. (2021). Simple but Stunning: Animated Cellular Automata\n    in Python. URL: [isquared.digital](https://isquared.digital/blog/2021-05-02-cellular-automata/)\n\n-   Johnson, N. and Greene, D. (2022). Conway's Game of Life -\n    Mathematics and Construction. URL: conwaylife.com/book/\n-   OpenAI (2023). ChatGPT May 24 Version. URL: chat.openai.com.\n-   Sweigart, A. (2019). Automate the Boring Stuff with\n    Python. NoStarch. URL: [automatetheboringstuff.com](https://automatetheboringstuff.com/2e/chapter2/)\n-   Sweigart, A. (2021). Calm Programming - Conway's Game of life. URL:\n    [youtu.be/Vn8Mug5w7sw](https://youtu.be/Vn8Mug5w7sw).\n\n"
      ]
    }
  ],
  "metadata": [
    [
      "org"
    ],
    null,
    null
  ],
  "nbformat": 4,
  "nbformat_minor": 0
}
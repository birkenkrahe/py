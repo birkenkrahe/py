{
  "cells": [
    {
      "cell_type": "markdown",
      "metadata": {},
      "source": "PYTHON SEQUENCE DATA AND REFERENCES\n===================================\n\n**Author:** Marcus Birkenkrahe\n\n"
    },
    {
      "cell_type": "markdown",
      "metadata": {},
      "source": [
        "## Overview\n\n"
      ]
    },
    {
      "cell_type": "markdown",
      "metadata": {},
      "source": [
        "![img](../img/dictionary.jpg \"Llyfrgell Genedlaethol Cymru / Longden Bay Go-cart Racers (1953)\")\n\n-   Sequence data types: tuples, lists, strings, range objects\n-   Mutable and immutable data types\n-   References and variables for integers\n-   References and variables for lists\n-   Memory identity function\n-   Passing references in function calls\n-   Copying functions from the copy module\n\n"
      ]
    },
    {
      "cell_type": "markdown",
      "metadata": {},
      "source": [
        "## Sequence data types\n\n"
      ]
    },
    {
      "cell_type": "markdown",
      "metadata": {},
      "source": [
        "-   Python's sequence data include:\n    1.  `list` objects\n    2.  string (`str`) objects (sequence of characters)\n    3.  range objects returned by `range`\n    4.  `tuple` objects\n\n-   These data types support *indexing* and *slicing*, and you can *iterate*\n    over them in a specific order.\n\n-   On the other hand, `set` data are not sequence data.\n\n-   Here are some examples of indexing, slicing, iterating with other\n    sequence data, e.g. strings:\n\n"
      ]
    },
    {
      "cell_type": "code",
      "execution_count": 1,
      "metadata": {},
      "outputs": [
        {
          "name": "stdout",
          "output_type": "stream",
          "text": [
            ": A\n    : Alice\n    : True\n    : False\n    : *** A ***\n    : *** l ***\n    : *** i ***\n    : *** c ***\n    : *** e ***"
          ]
        }
      ],
      "source": [
        "name = 'Alice'\nprint(name[0])\nprint(name[:])\nprint('A' in name)\nprint('Al' not in name)\nfor i in name:\n    print(f'*** {i} ***')"
      ]
    },
    {
      "cell_type": "markdown",
      "metadata": {},
      "source": [
        "## Mutable and immutable data types\n\n"
      ]
    },
    {
      "cell_type": "markdown",
      "metadata": {},
      "source": [
        "-   A `list` and a string differ in an important way:\n    1.  A `list` value is a *mutable* data type - its values can be added,\n        removed, or changed.\n    2.  A string (`str`) value is *immutable* (or *literal*): it cannot be\n        changed:\n\n"
      ]
    },
    {
      "cell_type": "code",
      "execution_count": 1,
      "metadata": {},
      "outputs": [],
      "source": [
        "name = 'Jack a cat.'\nname[6] = 'the'"
      ]
    },
    {
      "cell_type": "markdown",
      "metadata": {},
      "source": [
        "-   To mutate a string, you need to slice and concatenate to build a new\n    string from parts of the old string.\n\n-   Transform `name = 'Jack a cat'` into `newName = Jack the cat`:\n\n"
      ]
    },
    {
      "cell_type": "code",
      "execution_count": 1,
      "metadata": {},
      "outputs": [],
      "source": [
        "name = 'Jack a cat'\nnewName = name[0:5] + 'the' + name[-4:]\nprint(newName)\nprint(name)"
      ]
    },
    {
      "cell_type": "markdown",
      "metadata": {},
      "source": [
        "-   What is the output of this code:\n\n"
      ]
    },
    {
      "cell_type": "code",
      "execution_count": 1,
      "metadata": {},
      "outputs": [],
      "source": [
        "eggs = [1, 2, 3]\neggs = [4, 5, 6]\nprint(eggs)"
      ]
    },
    {
      "cell_type": "markdown",
      "metadata": {},
      "source": [
        "-   This is what happens:\n    \n    ![img](../img/immutable.png \"The contents of the list are replaced\")\n\n-   To modify the *original* list in `eggs` to contain `[4,5,6]` *in place*,\n    you'd have to go out of your way:\n\n"
      ]
    },
    {
      "cell_type": "code",
      "execution_count": 1,
      "metadata": {},
      "outputs": [],
      "source": [
        "eggs = [1, 2, 3]\ndel eggs[2]      # delete old list items\ndel eggs[1]\ndel eggs[0]\neggs.append(4)   # append new list items\neggs.append(5)\neggs.append(6)\nprint(eggs)"
      ]
    },
    {
      "cell_type": "markdown",
      "metadata": {},
      "source": [
        "-   This is what really happens:\n    \n    ![img](../img/immutable1.png \"The original list is being altered\")\n\n-   Changing a value of a mutable data type changes the value *in place*,\n    since the variable's value is not replaced with a new list value.\n\n-   Calling functions with mutable vs. immutable arguments exhibits very\n    different behavior.\n\n"
      ]
    },
    {
      "cell_type": "markdown",
      "metadata": {},
      "source": [
        "## The `tuple` data type\n\n"
      ]
    },
    {
      "cell_type": "markdown",
      "metadata": {},
      "source": [
        "-   The `tuple` data type is very similar to `list` except:\n    1.  tuples are created with `()` while lists are created with `[]`\n    2.  tuples, like strings, are immutable, lists are mutable.\n\n-   Creating, indexing, slicing, measuring a tuple:\n\n"
      ]
    },
    {
      "cell_type": "code",
      "execution_count": 1,
      "metadata": {},
      "outputs": [],
      "source": [
        "eggs = ('hello', 42, 0.5)\nprint(eggs[0])\nprint(eggs[1:3])\nprint(len(eggs))"
      ]
    },
    {
      "cell_type": "markdown",
      "metadata": {},
      "source": [
        "-   So far so good - but you cannot assign values to tuple items:\n\n"
      ]
    },
    {
      "cell_type": "code",
      "execution_count": 1,
      "metadata": {},
      "outputs": [],
      "source": [
        "eggs = ('hello', 42, 0.5)\neggs[1] = 99"
      ]
    },
    {
      "cell_type": "markdown",
      "metadata": {},
      "source": [
        "-   So replacing an item works similarly as with strings: you have to\n    rebuild the tuple.\n\n"
      ]
    },
    {
      "cell_type": "code",
      "execution_count": 1,
      "metadata": {},
      "outputs": [],
      "source": [
        "eggs = ('hello', 42, 0.5)\neggs = (eggs[0], 99, eggs[2])\nprint(eggs)"
      ]
    },
    {
      "cell_type": "markdown",
      "metadata": {},
      "source": [
        "-   Item deletion with `del` does not work, neither is there an `append`\n    method for tuples: try that yourself!\n\n"
      ]
    },
    {
      "cell_type": "code",
      "execution_count": 1,
      "metadata": {},
      "outputs": [],
      "source": [
        "eggs = ('hello', 42, 0.5)\ndel eggs[0]\neggs.append(1)"
      ]
    },
    {
      "cell_type": "markdown",
      "metadata": {},
      "source": [
        "-   It is OK to have trailing commas in list or tuple assignments:\n\n"
      ]
    },
    {
      "cell_type": "code",
      "execution_count": 1,
      "metadata": {},
      "outputs": [],
      "source": [
        "eggs = [1,2,]\nprint(eggs)\n\nbacon = (1,2,)\nprint(bacon)"
      ]
    },
    {
      "cell_type": "markdown",
      "metadata": {},
      "source": [
        "-   If you only have one value in your tuple, the trailing comma tells\n    Python that this is a tuple and not a scalar or string:\n\n"
      ]
    },
    {
      "cell_type": "code",
      "execution_count": 1,
      "metadata": {},
      "outputs": [],
      "source": [
        "print(type(1))\nprint(type((1,)))\n\nprint(type('hello'))\nprint(type(('hello',)))"
      ]
    },
    {
      "cell_type": "markdown",
      "metadata": {},
      "source": [
        "-   Why use tuples?\n    1.  to create ordered sequences that you don't want to change\n    2.  to gain speed when using ordered sequences for loops\n\n-   The functions `list` and `tuple` will convert their arguments to lists\n    and tuples just like `str`.\n\n-   Converting a `list` into a `tuple`:\n\n"
      ]
    },
    {
      "cell_type": "code",
      "execution_count": 1,
      "metadata": {},
      "outputs": [],
      "source": [
        "t = tuple(['cat','dog',5])   \nprint(t)\nprint(type(t))"
      ]
    },
    {
      "cell_type": "markdown",
      "metadata": {},
      "source": [
        "-   Converting a string into a `list` or a `tuple`:\n\n"
      ]
    },
    {
      "cell_type": "code",
      "execution_count": 1,
      "metadata": {},
      "outputs": [],
      "source": [
        "l = list('hello')\nprint(l)\nprint(type(l))\n\nt = tuple('hello')\nprint(t)\nprint(type(t))"
      ]
    },
    {
      "cell_type": "markdown",
      "metadata": {},
      "source": [
        "-   Converting a `tuple` into a `list` (handy if you want it to be mutable):\n\n"
      ]
    },
    {
      "cell_type": "code",
      "execution_count": 1,
      "metadata": {},
      "outputs": [
        {
          "name": "stdout",
          "output_type": "stream",
          "text": [
            ": ['cat', 'dog', 5]\n  : ['cat', 'dog', 5, [1, 2]]"
          ]
        }
      ],
      "source": [
        "l = list(('cat','dog', 5))\nprint(l)\nl.append([1,2,])\nprint(l)"
      ]
    },
    {
      "cell_type": "markdown",
      "metadata": {},
      "source": [
        "## References for integer variables\n\n"
      ]
    },
    {
      "cell_type": "markdown",
      "metadata": {},
      "source": [
        "![img](../img/reference.png \"Python objects consist of identity, type, and value\")\n\n-   Variables don't actually \"store\" strings or integer\n    values. Technically, they store *references* to computer memory\n    locations where the values are stored.\n\n-   In other languages like C/C++, you can manipulate values and these\n    references (called *pointers*) separately, in Python you cannot.\n\n-   In this example, copying `spam` to `cheese` by assigning it to `cheese`\n    does not copy the *value* over but only the *reference* to the value.\n\n"
      ]
    },
    {
      "cell_type": "code",
      "execution_count": 1,
      "metadata": {},
      "outputs": [],
      "source": [
        "spam = 42\ncheese = spam  # both point to memory with '42' in it\nspam = 100     # spam points to memory with '100' in it\nprint(spam)  \nprint(cheese)"
      ]
    },
    {
      "cell_type": "markdown",
      "metadata": {},
      "source": [
        "-   Integers are *immutable* values that don't change: changing a variable\n    only makes it refer to another value in memory.\n\n"
      ]
    },
    {
      "cell_type": "markdown",
      "metadata": {},
      "source": [
        "## References for lists\n\n"
      ]
    },
    {
      "cell_type": "markdown",
      "metadata": {},
      "source": [
        "-   Lists don't work this way: they're *mutable* - their values can change.\n\n-   In this example, you see both referencing and value changing:\n\n"
      ]
    },
    {
      "cell_type": "code",
      "execution_count": 1,
      "metadata": {},
      "outputs": [],
      "source": [
        "spam = [0,1,2,3,4,5]  #1\n\n# Copy the reference to the list spam to a new list value\ncheese = spam         #2\nprint(cheese)\n\n# Change the list value in place\ncheese[1] = 'hello'   #3\n\n# Both variables refer to the same list\nprint(spam)\nprint(cheese)"
      ]
    },
    {
      "cell_type": "markdown",
      "metadata": {},
      "source": [
        "-   What's happening here?\n    1.  A reference to the list is assigned to `spam`\n    2.  The list reference is copied to `cheese` (not the list itself)\n    3.  When the first element of `cheese` is modified, the same list that\n        `spam` refers to is modified.\n\n-   The figures illustrate creation of `spam` and copying of the reference\n    to `cheese`:\n    \n    ![img](../img/list_ref.png)   ![img](../img/list_ref1.png)\n\n-   When `cheese` is altered *in place*, the list that `spam` refers to is\n    altered:\n    \n    ![img](../img/list_ref2.png)\n\n"
      ]
    },
    {
      "cell_type": "markdown",
      "metadata": {},
      "source": [
        "## Identity and the `id` function\n\n"
      ]
    },
    {
      "cell_type": "markdown",
      "metadata": {},
      "source": [
        "-   All Python values have a unique ID that can be obtained with the `id`\n    function:\n\n"
      ]
    },
    {
      "cell_type": "code",
      "execution_count": 1,
      "metadata": {},
      "outputs": [
        {
          "name": "stdout",
          "output_type": "stream",
          "text": [
            ": 1928141373488"
          ]
        }
      ],
      "source": [
        "print(id('Howdy'))"
      ]
    },
    {
      "cell_type": "markdown",
      "metadata": {},
      "source": [
        "-   If you keep running this chunk, the ID will change: Python picks\n    this address based on where memory happens to be free at the time.\n\n-   `'Howdy'` is an immutable string and cannot be changed. To change the\n    string in a variable, you have to make a new string object in a\n    different place in memory to which the variable will refer/point.\n\n-   You can follow this process with `id`:\n\n"
      ]
    },
    {
      "cell_type": "code",
      "execution_count": 1,
      "metadata": {},
      "outputs": [
        {
          "name": "stdout",
          "output_type": "stream",
          "text": [
            ": 1863027277488\n  : 1863027277744"
          ]
        }
      ],
      "source": [
        "bacon = 'Hello'\nprint(id(bacon))\n\n# Make a new string and refer to it as `bacon`\nbacon += ' world!'\nprint(id(bacon))"
      ]
    },
    {
      "cell_type": "markdown",
      "metadata": {},
      "source": [
        "-   Lists are mutable objects and can be modified: `list.append` changes\n    an existing list object (*in place*):\n\n"
      ]
    },
    {
      "cell_type": "code",
      "execution_count": 1,
      "metadata": {},
      "outputs": [
        {
          "name": "stdout",
          "output_type": "stream",
          "text": [
            ": 2655765168768\n  : 2655765168768\n  : 2655767164928\n  : 140733411716296\n  : 2655767164928"
          ]
        }
      ],
      "source": [
        "eggs = ['cat', 'dog']\nprint(id(eggs))\n\n# append 'moose' to `eggs` modifies the list itself\neggs.append('moose')\nprint(id(eggs))\n\n# create a new list with the same variable (reference) name\neggs = ['bat', 'rat', 'cows']\nprint(id(eggs))\n\n# what is this then?\nmem = eggs.insert(1,'cat')\nprint(id(mem))\nprint(id(eggs))"
      ]
    },
    {
      "cell_type": "markdown",
      "metadata": {},
      "source": [
        "-   In the last example, what is `mem = eggs.insert(1,'cat')`?\n\n"
      ]
    },
    {
      "cell_type": "code",
      "execution_count": 1,
      "metadata": {},
      "outputs": [],
      "source": [
        "eggs = ['bat', 'rat', 'cows']\nprint(id(eggs))\nmem = eggs.insert(1,'cat')\nprint(id(mem))\nprint(mem)"
      ]
    },
    {
      "cell_type": "markdown",
      "metadata": {},
      "source": [
        "`mem` is nothing to us: it's a location that the computer uses to\n  update `eggs` in place, but in actual fact it is a non-value (`None`).\n\n"
      ]
    },
    {
      "cell_type": "markdown",
      "metadata": {},
      "source": [
        "## Passing references in function calls\n\n"
      ]
    },
    {
      "cell_type": "markdown",
      "metadata": {},
      "source": [
        "-   When a function is called, the values of the arguments are passed to\n    the parameter variables.\n\n-   If the function parameter is a list, this means that a copy of the\n    reference is used for the parameter:\n\n"
      ]
    },
    {
      "cell_type": "code",
      "execution_count": 1,
      "metadata": {},
      "outputs": [],
      "source": [
        "# function appends string to argument list (print list ref ID)\ndef eggs(someParameter):\n    print('Parameter ID: ', id(someParameter))\n    someParameter.append('Hello')\n\n# initialize list and print ID\nspam = [1,2,3]\nprint('List ID:      ', id(spam))\n\n# call function on list and print return value\neggs(spam)\n\n# the list is modified directly in place\nprint(spam)"
      ]
    },
    {
      "cell_type": "markdown",
      "metadata": {},
      "source": [
        "## `copy` and `deepcopy` from the copy module\n\n"
      ]
    },
    {
      "cell_type": "markdown",
      "metadata": {},
      "source": [
        "-   If you do NOT want changes to apply to your original list, you can\n    use the `copy.copy` and `copy.deepcopy` functions:\n\n"
      ]
    },
    {
      "cell_type": "code",
      "execution_count": 1,
      "metadata": {},
      "outputs": [
        {
          "name": "stdout",
          "output_type": "stream",
          "text": [
            ": 2332400824448\n  : 2332400249536\n  : ['A', 'B', 'C', 'D']\n  : ['A', 42, 'C', 'D']"
          ]
        }
      ],
      "source": [
        "# import module from the standard library (no need to install)\nimport copy\n\n# create a list and check its reference\nspam = ['A', 'B', 'C', 'D']\nprint(id(spam))\n\n# copy `spam` to `cheese` creating a new list\ncheese = copy.copy(spam)\nprint(id(cheese))\n\n# change list value\ncheese[1] = 42\n\nprint(spam)\nprint(cheese)"
      ]
    },
    {
      "cell_type": "markdown",
      "metadata": {},
      "source": [
        "-   `spam` and `cheese` variables now refer to separate lists:\n    \n    \\#caption: Different ID for different lists after copy.copy()\n    ![img](../img/deepcopy.png)\n\n-   If the list you need to copy contains lists, then use the\n    `copy.deepcopy` function instead. Try this with `blt` below:\n    1.  create list `food = ['soup', ['bacon','lettuce','tomato']]`\n    2.  copy `food` to `sandwich`\n    3.  change `'soup'` in `sandwich` to `'bread'`\n    4.  print the IDs of `food` and `sandwich`\n    5.  print the `food` and `sandwich` lists\n\n-   Solution:\n\n"
      ]
    },
    {
      "cell_type": "code",
      "execution_count": 1,
      "metadata": {},
      "outputs": [],
      "source": [
        "import copy\n\n# create list with list as item\nfood = ['soup', ['bacon','lettuce','tomato']]\n\n# copy `food` to `sandwich`\nsandwich = copy.deepcopy(food)\n\n# change 'soup' in `sandwich` to 'bread'\nsandwich[0] = 'bread'\n\n# print the IDs of both lists\nprint('food: ', id(food))\nprint('copy: ', id(sandwich))\n\n# check that list values are identical\nprint(food == sandwich)\nprint(food)\nprint(sandwich)"
      ]
    },
    {
      "cell_type": "markdown",
      "metadata": {},
      "source": [
        "## Summary\n\n"
      ]
    },
    {
      "cell_type": "markdown",
      "metadata": {},
      "source": [
        "-   Tuples and strings, though also sequence data types, are immutable\n    and cannot be changed.\n-   A variable that contains a tuple or string value can be overwritten\n    with a new tuple or string value\n-   This is not the same thing as modifying the existing value in place —\n    like, say, the `append()` or `remove()` methods do on lists.\n-   Variables do not store list values directly; they store references\n    to lists. Any change you make to a list may impact other variables.\n-   You can use `copy()` or `deepcopy()` if you want to make changes to a\n    list in one variable without modifying the original list.\n\n"
      ]
    },
    {
      "cell_type": "markdown",
      "metadata": {},
      "source": [
        "## Glossary\n\n"
      ]
    },
    {
      "cell_type": "markdown",
      "metadata": {},
      "source": [
        "| TERM/COMMAND|DEFINITION|\n|---|---|\n| <code>()</code>|Create tuple|\n| <code>tuple</code>|Convert to tuple|\n| <code>id</code>|Memory ID (address)|\n| <code>copy.copy</code>|Copy list to new list|\n| <code>copy.deepcopy</code>|Copy list that contains list to new list|\n\n"
      ]
    },
    {
      "cell_type": "markdown",
      "metadata": {},
      "source": [
        "## References\n\n"
      ]
    },
    {
      "cell_type": "markdown",
      "metadata": {},
      "source": [
        "-   Sweigart, A. (2019). Automate the Boring Stuff with\n    Python. NoStarch. URL: [automatetheboringstuff.com](https://automatetheboringstuff.com/2e/chapter2/)\n\n"
      ]
    }
  ],
  "metadata": [
    [
      "org"
    ],
    null,
    null
  ],
  "nbformat": 4,
  "nbformat_minor": 0
}
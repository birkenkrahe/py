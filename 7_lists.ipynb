{
  "cells": [
    {
      "cell_type": "markdown",
      "metadata": {
        "id": "view-in-github",
        "colab_type": "text"
      },
      "source": [
        "<a href=\"https://colab.research.google.com/github/birkenkrahe/py/blob/main/7_lists.ipynb\" target=\"_parent\"><img src=\"https://colab.research.google.com/assets/colab-badge.svg\" alt=\"Open In Colab\"/></a>"
      ]
    },
    {
      "cell_type": "markdown",
      "metadata": {
        "id": "AHEezjli4LyU"
      },
      "source": [
        "## Practice list creation, extraction and deletion\n",
        "\n"
      ]
    },
    {
      "cell_type": "markdown",
      "metadata": {
        "id": "89GRu2ub4Lyb"
      },
      "source": [
        "You should be able to do all of these exercises with what you learnt\n",
        "in the DataCamp course \"Introduction to Python\":\n",
        "\n",
        "1.  Assign these items to `spam` and extract them using a ranged `for` loop\n",
        "    on one line separated by a single space: `cat bat rat elephant`\n",
        "\n"
      ]
    },
    {
      "cell_type": "code",
      "execution_count": null,
      "metadata": {
        "id": "O07Rz5gU4Lyb"
      },
      "outputs": [],
      "source": []
    },
    {
      "cell_type": "markdown",
      "metadata": {
        "id": "ME_3_Vn34Lyc"
      },
      "source": [
        "2.  What if the list has `N` elements? Can you generalize the loop?\n",
        "\n"
      ]
    },
    {
      "cell_type": "code",
      "execution_count": null,
      "metadata": {
        "id": "v4bFThAH4Lyc"
      },
      "outputs": [],
      "source": []
    },
    {
      "cell_type": "markdown",
      "metadata": {
        "id": "B7ZnrxpB4Lyc"
      },
      "source": [
        "3.  Use elements of `spam` to print the sentence `'The bat ate the cat.'`\n",
        "    formatted with an f-string:\n",
        "\n"
      ]
    },
    {
      "cell_type": "code",
      "execution_count": null,
      "metadata": {
        "id": "x3YjpOL44Lyc"
      },
      "outputs": [],
      "source": []
    },
    {
      "cell_type": "markdown",
      "metadata": {
        "id": "zg9ggQcx4Lyc"
      },
      "source": [
        "4.  Which error do you get when you use an index that exceeds the number\n",
        "    of values in your list value? Create an example.\n",
        "\n"
      ]
    },
    {
      "cell_type": "code",
      "execution_count": null,
      "metadata": {
        "id": "gtP456xB4Lyd"
      },
      "outputs": [],
      "source": []
    },
    {
      "cell_type": "markdown",
      "metadata": {
        "id": "8oJ25aHA4Lyd"
      },
      "source": [
        "5.  Can index values be non-integer? Find out!\n",
        "\n"
      ]
    },
    {
      "cell_type": "code",
      "execution_count": null,
      "metadata": {
        "id": "8wH0TZIk4Lyd"
      },
      "outputs": [],
      "source": []
    },
    {
      "cell_type": "markdown",
      "metadata": {
        "id": "vPTu_lgy4Lyd"
      },
      "source": [
        "6.  How can you extract the last number in this list of lists?\n",
        "\n"
      ]
    },
    {
      "cell_type": "code",
      "execution_count": null,
      "metadata": {
        "id": "QSX0nYIr4Lyd"
      },
      "outputs": [],
      "source": [
        "spam = [['cat','bat'], [10,20,30,40,50]]"
      ]
    },
    {
      "cell_type": "markdown",
      "metadata": {
        "id": "OXhpuqRg4Lye"
      },
      "source": [
        "7.  Write `'The elephant is afraid of the bat.'` using *negative* indices\n",
        "    of `spam = ['cat', 'bat', 'rat', 'elephant']`:\n",
        "\n"
      ]
    },
    {
      "cell_type": "code",
      "execution_count": null,
      "metadata": {
        "id": "xtQHvtFA4Lye"
      },
      "outputs": [],
      "source": []
    },
    {
      "cell_type": "markdown",
      "metadata": {
        "id": "2Gw_JdK64Lye"
      },
      "source": [
        "8.  From `spam = ['cat', 'bat', 'rat', 'elephant']`, extract\n",
        "    `['cat','bat','rat']`:\n",
        "\n"
      ]
    },
    {
      "cell_type": "code",
      "execution_count": null,
      "metadata": {
        "id": "tKNiXnJc4Lye"
      },
      "outputs": [],
      "source": []
    },
    {
      "cell_type": "markdown",
      "metadata": {
        "id": "b5MO8OFb4Lye"
      },
      "source": [
        "9.  Change `spam = ['cat', 'bat', 'rat', 'elephant']` to the list\n",
        "    `['cat','armadillo','rat', 'armadillo']`:\n",
        "\n"
      ]
    },
    {
      "cell_type": "code",
      "execution_count": null,
      "metadata": {
        "id": "vJf7A7wC4Lye"
      },
      "outputs": [],
      "source": []
    },
    {
      "cell_type": "markdown",
      "metadata": {
        "id": "gL9O-VBN4Lyf"
      },
      "source": [
        "10.  Create `spam = ['cat', 'bat', 'cat', 'bat']` by list concatenation\n",
        "    and replication:\n",
        "\n"
      ]
    },
    {
      "cell_type": "code",
      "execution_count": null,
      "metadata": {
        "id": "Q4YV77Gd4Lyf"
      },
      "outputs": [],
      "source": []
    }
  ],
  "metadata": {
    "0": [
      "org"
    ],
    "1": null,
    "2": null,
    "colab": {
      "provenance": [],
      "include_colab_link": true
    }
  },
  "nbformat": 4,
  "nbformat_minor": 0
}
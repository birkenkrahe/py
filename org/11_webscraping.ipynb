{
  "cells": [
    {
      "cell_type": "code",
      "execution_count": 1,
      "metadata": {},
      "outputs": [],
      "source": [
        "from bs4 import BeautifulSoup\n\nhtml = \"\"\"\n<div class=\"container\">\n    <p class=\"text\">Hello</p>\n    <p id=\"special\">World</p>\n</div>\n<p class=\"text\">Outside</p>\n\"\"\"\nsoup = BeautifulSoup(html, 'html.parser')\n\n# Example: all elements that use a CSS `class` attribute named `.container`\nelements = soup.select('.container .text')\nfor element in elements:\n    print(f'container text: {element.text}')\n\nelements = soup.select('p')\nfor element in elements:\n    print(f'p elements: {element.text}')\n\n# result values are stored in a list (sequence data)\nprint(elements)\n\n# the data type is specific to bs4\nprint(type(elements))"
      ]
    }
  ],
  "metadata": [
    [
      "org"
    ],
    null,
    null
  ],
  "nbformat": 4,
  "nbformat_minor": 0
}
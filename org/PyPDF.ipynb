{
  "cells": [
    {
      "cell_type": "markdown",
      "metadata": {},
      "source": [
        "## PyPDF demo\n\n"
      ]
    },
    {
      "cell_type": "markdown",
      "metadata": {},
      "source": [
        "Install PyPDF4 library from terminal or in Colab with `!`\n\n    pip install PyPDF4\n\nImport `PyPDF4` and `re` modules:\n\n"
      ]
    },
    {
      "cell_type": "code",
      "execution_count": 1,
      "metadata": {},
      "outputs": [],
      "source": [
        "import PyPDF4\nimport re\nfrom os.path import exists"
      ]
    },
    {
      "cell_type": "markdown",
      "metadata": {},
      "source": [
        "Specify the path to the downloaded PDF file:\n\n"
      ]
    },
    {
      "cell_type": "code",
      "execution_count": 1,
      "metadata": {},
      "outputs": [],
      "source": [
        "pdf_path = 'testFile.pdf'"
      ]
    },
    {
      "cell_type": "markdown",
      "metadata": {},
      "source": [
        "Use `PyPDF4` to extract the text from the PDF:\n\n"
      ]
    },
    {
      "cell_type": "code",
      "execution_count": 1,
      "metadata": {},
      "outputs": [],
      "source": [
        "pdf_file = open(pdf_path, 'rb')\npdf_reader = PyPDF4.PdfFileReader(pdf_file)\ntext = ''\n\nfor page_num in range(pdf_reader.numPages):\n    page = pdf_reader.getPage(page_num)\n    text += page.extractText()"
      ]
    },
    {
      "cell_type": "markdown",
      "metadata": {},
      "source": [
        "Use regular expressions to find the title, author, and author\naffiliation information in the extracted text: this of course relies\non the specific structure and formatting of the PDF.\n\n"
      ]
    },
    {
      "cell_type": "code",
      "execution_count": 1,
      "metadata": {},
      "outputs": [],
      "source": [
        "title_match = re.search(r'Title: (.+)', text)\ntitle = title_match.group(1) if title_match else ''\n\nauthor_match = re.search(r'Author: (.+)', text)\nauthor = author_match.group(1) if author_match else ''\n\naffiliation_match = re.search(r'Affiliation: (.+)', text)\naffiliation = affiliation_match.group(1) if affiliation_match else ''"
      ]
    },
    {
      "cell_type": "markdown",
      "metadata": {},
      "source": [
        "Print the extracted ifnormation as needed:\n\n"
      ]
    },
    {
      "cell_type": "code",
      "execution_count": 1,
      "metadata": {},
      "outputs": [],
      "source": [
        "print('Title:', title)\nprint('Author:', author)\nprint('Affiliation:', affiliation)"
      ]
    }
  ],
  "metadata": [
    [
      "org"
    ],
    null,
    null
  ],
  "nbformat": 4,
  "nbformat_minor": 0
}
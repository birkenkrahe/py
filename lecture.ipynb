{
  "cells": [
    {
      "cell_type": "markdown",
      "metadata": {},
      "source": "COURSE OVERVIEW\n===============\n\n**Author:** Marcus Birkenkrahe\n\n"
    },
    {
      "cell_type": "markdown",
      "metadata": {},
      "source": [
        "## Who is your lecturer?\n\n"
      ]
    },
    {
      "cell_type": "markdown",
      "metadata": {},
      "source": [
        "![img](../img/monty_python.png \"Photo of Poppy as a puppy\")\n\n-   `not` cats `or` dogs, but [cats `and` dogs](https://drive.google.com/file/d/1z-0cbqfXPA_6HMgIxb043CN5qCUJLEYz/view?usp=sharing)\n-   Physicist by training ([Particle smash and grab](https://images.nature.com/original/magazine-assets/d41586-022-01388-6/d41586-022-01388-6_20499086.jpg))\n-   Teacher by profession ([\"Automatic transmission for ideas\"](https://m.media-amazon.com/images/I/91UJz-ti6BL.jpg) - Lisa)\n-   Data scientist by choice ([\"Master patterner\"](https://media.wired.com/photos/601c6246898afb612573ad4c/master/w_960,c_limit/BLACK%20SUN%20#34.jpg) - LeGuin)\n-   Lyon College since 2021 ([Migrated from Berlin, Germany](https://www.visitberlin.de/system/files/styles/visitberlin_hero_visitberlin_desktop_2x/private/image/eberswalderstrasse26_c_visitBerlin_Foto_Dagmar_Schwelle_web.jpg?h=1c9b88c9&itok=xMVdiKwM))\n\n"
      ]
    },
    {
      "cell_type": "markdown",
      "metadata": {},
      "source": [
        "## My first programming languages\n\n"
      ]
    },
    {
      "cell_type": "markdown",
      "metadata": {},
      "source": [
        "![img](../img/0_ti99.jpg \"Texas Instruments TI-99/4 16-bit microcomputer, 1979\")\n\n-   My first programming languages:\n    1.  BASIC - Beginner's All-purpose Symbolic Instruction Code (1979)\n    2.  FORTRAN - FORMula TRANslator (1985)\n    3.  C++ (1989)\n\n-   How many programming languages are there today?\n\n"
      ]
    },
    {
      "cell_type": "markdown",
      "metadata": {},
      "source": [
        "## The importance of infrastructure\n\n"
      ]
    },
    {
      "cell_type": "markdown",
      "metadata": {},
      "source": [
        "![img](../img/0_infrastructure.jpg \"Layers between you and a document on your computer\")\n\nThe image shows eight layers that your computing infrastructure has to\nmanage (there are more in fact) - most of the software enabling you to\ndo this (without you noticing) is written in C.\n\n"
      ]
    },
    {
      "cell_type": "markdown",
      "metadata": {},
      "source": [
        "## What do you expect from this course?\n\n"
      ]
    },
    {
      "cell_type": "markdown",
      "metadata": {},
      "source": [
        "![img](../img/0_expectations.jpg \"Dandelion in the grass, by Aaron Burden, @Unsplash\")\n\n-   I would like to make a website\n-   I want to learn as many languages as I can\n-   I may need it (formally) for my Math major\n-   I want to make video games\n-   I want to get better at computing because of math/eng\n-   I want to become a software developer\n-   I want to see if computing may be in my future\n\n"
      ]
    },
    {
      "cell_type": "markdown",
      "metadata": {},
      "source": [
        "## What careers do our students have?\n\n"
      ]
    },
    {
      "cell_type": "markdown",
      "metadata": {},
      "source": [
        "![img](../img/0_careers.png \"Careers of recent computer and data science graduates from Lyon College\")\n\n"
      ]
    },
    {
      "cell_type": "markdown",
      "metadata": {},
      "source": [
        "## What will you do in this course?\n\n"
      ]
    },
    {
      "cell_type": "markdown",
      "metadata": {},
      "source": [
        "![img](../img/0_schedule.png \"Syllabus, Canvas (lyon.instructure.com) or GitHub (github.com/birkenkrahe/ds2)\")\n\n-   We have a **textbook** - King, C Programming - A modern approach (2008)\n-   We have an **operating system** - Linux (maybe) or Windows/MacOS\n-   We have (more than) an **editor** - Emacs + Org-mode\n-   We have a **compiler** - GCC ([also on a Mac](https://raw.githubusercontent.com/birkenkrahe/cc/piHome/img/0_gcc_mac.png))\n\n"
      ]
    },
    {
      "cell_type": "markdown",
      "metadata": {},
      "source": [
        "## How will you be evaluated?\n\n"
      ]
    },
    {
      "cell_type": "markdown",
      "metadata": {},
      "source": [
        "![img](../img/0_grades.png \"Source: syllabus, Canvas (lyon.instructure.com) or GitHub (github.com/birkenkrahe/ml)\")\n\n-   All course requirements have deadlines\n-   Late submissions will be penalized (loss of points)\n-   Final exam will be sourced by term test questions\n-   Programming assignments are home assignments\n-   In-class practices are \"literate programming\" exercises\n\n"
      ]
    },
    {
      "cell_type": "markdown",
      "metadata": {},
      "source": [
        "## Which tools are you going to use?\n\n"
      ]
    },
    {
      "cell_type": "markdown",
      "metadata": {},
      "source": [
        "![img](../img/0_tools.jpg \"Unsplash, workshop\")\n\n-   [Canvas](https://lyon.instructure.com/) (learning management system)\n\n-   [GitHub repository](https://github.com/birkenkrahe/cc) (all course materials except tests)\n\n-   [GNU Emacs](https://github.com/birkenkrahe/org/blob/master/FAQ.org) (literate programming environment)\n\n-   [Command line interface](https://en.wikipedia.org/wiki/Command-line_interface) / interpreter - (shell / replit.com)\n\n"
      ]
    },
    {
      "cell_type": "markdown",
      "metadata": {},
      "source": [
        "## The Canvas LMS\n\n"
      ]
    },
    {
      "cell_type": "markdown",
      "metadata": {},
      "source": [
        "![img](../img/0_canvas.png \"Canvas\")\n\n-   Announcements\n-   Assignments (Programming assignments and in-class practice)\n-   Zoom links (participate/cloud recording)\n-   Course links (GitHub, Whiteboard)\n-   Gradebook\n\n"
      ]
    },
    {
      "cell_type": "markdown",
      "metadata": {},
      "source": [
        "## The (popular) GitHub platform\n\n"
      ]
    },
    {
      "cell_type": "markdown",
      "metadata": {},
      "source": [
        "![img](../img/0_github.png \"My GitHub dashboard - close to 4,000 commits in 2022 (100,000 lines of code?)\")\n\n-   [GitHub](https://github.com/birkenkrahe) is the most popular software development platform.\n\n-   It's now owned by Microsoft (which is becoming a problem)\n\n-   Here for you: all course materials, and the course FAQ\n\n"
      ]
    },
    {
      "cell_type": "markdown",
      "metadata": {},
      "source": [
        "## Practice: first \"literate\" C program!\n\n"
      ]
    },
    {
      "cell_type": "markdown",
      "metadata": {},
      "source": [
        "![img](../img/0_books.png \"Books aren't the only way to be \"literate\" in programming!\")\n\n(You can find a [PDF of this exercise](https://github.com/birkenkrahe/cc/blob/piHome/pdf/first_org_print.pdf) on GitHub)\n\nLet's set Emacs up, write and run a first \"literate\" C program!\n\n1.  Open the command line terminal with `CMD` in the search field\n\n2.  At the prompt, type `gcc --version`\n\n3.  Open [https://github.com/birkenkrahe/org/>](https://github.com/birkenkrahe/org/>)in a browser\n\n4.  Navigate to the repository `emacs` in GitHub\n\n5.  Click on the file name `.emacs` to open it\n\n6.  Open the `Raw` version of this file (there's a button)\n\n7.  Right click to `Save as` and save file as `emacs.txt` in `/Downloads`\n\n8.  Open a terminal by entering `CMD` in the Windows search bar\n\n9.  Pin the terminal to your taskbar\n\n10. At the prompt, enter `DIR emacs.txt` - you should see the file\n\n11. At the prompt, enter `emacs --version`\n\n12. Enter `emacs -nw -l emacs.txt`\n\n13. Inside Emacs, click `<F10>` and `ENTER` to open a new file\n\n14. At the prompt at the bottom of the screen, enter `first.org`\n\n15. Enter the following text (replace `yourname` with your own name):\n    \n    ![img](../img/0_first.png)\n\n16. Run the program by putting the cursor anywhere on the code block\n    and typing `CTRL-c CTRL-c` (or `C-c C-c`)\n\n17. Tangle the code with `C-c C-v t` (or `M-x org-babel-tangle`)\n    \n    ![img](../img/0_litprog1.png \"What happens when you tangle or weave a literate program\")\n\n18. Open a shell (terminal program) with `ALT-x eshell`\n\n19. At the prompt, enter `ls -l first*` - you should see `first.C`\n\n20. Enter `gcc first.C -o hello`\n\n21. Enter `hello` to run the program.\n\n22. Upload `first.org` as your first in-class assignment [to Canvas!](https://lyon.instructure.com/courses/1041/assignments/5889)\n\n"
      ]
    },
    {
      "cell_type": "markdown",
      "metadata": {},
      "source": [
        "## When is the first assignment due?\n\n"
      ]
    },
    {
      "cell_type": "markdown",
      "metadata": {},
      "source": [
        "![img](../img/0_monks.png \"Four monks by Claudio Rinaldi (1852-1909)\")\n\n-   The first in-class assignment (`first.org`, see Canvas) is due on\n    Friday, January 27. For late submissions, you lose 1 point per day\n    (out of 10 possible points)\n\n-   The first home assignment (`Emacs tutorial`, see Canvas) is due on\n    Monday, January 27. For late submissions, you lose 1 point per day\n    (out of 10 possible points)\n\n-   We'll write the first weekly multiple-choice test on January 23,\n    covering all of the material that was covered until then.\n\n"
      ]
    },
    {
      "cell_type": "markdown",
      "metadata": {},
      "source": [
        "## What are you looking forward to?\n\n"
      ]
    },
    {
      "cell_type": "markdown",
      "metadata": {},
      "source": [
        "![img](../img/0_package.jpg)\n\n"
      ]
    },
    {
      "cell_type": "markdown",
      "metadata": {},
      "source": [
        "## Next\n\n"
      ]
    },
    {
      "cell_type": "markdown",
      "metadata": {},
      "source": [
        "![img](../img/0_gnuemacs.png \"Introduction to C programming\")\n\n![img](../img/0_cprogramming.png \"Introduction to C programming\")\n\n"
      ]
    },
    {
      "cell_type": "markdown",
      "metadata": {},
      "source": [
        "## Glossary\n\n"
      ]
    },
    {
      "cell_type": "markdown",
      "metadata": {},
      "source": [
        "| TERM|MEANING|\n|---|---|\n| Meta data|Data about data (e.g. layout instructions)|\n| Infrastructure|Computing roadworks: hardware and software|\n| Editor|Program to write programs in|\n| Compiler|Program to turn source into machine code|\n| <code>gcc</code>|The GNU C compiler|\n| Source code|Code for humans to read and edit (<code>.c</code>)|\n| Machine code|Code for machines to execute (<code>.exe</code>)|\n| [a href=\"https://en.wikipedia.org/wiki/Git\">Git</a](a href=\"https://en.wikipedia.org/wiki/Git\">Git</a)|Software version control system (2005)|\n| [a href=\"https://www.gnu.org/software/emacs/\">Emacs</a](a href=\"https://www.gnu.org/software/emacs/\">Emacs</a)|Extensible editor written in Lisp (1985)|\n| FOSS|Free and Open Source Software|\n| [a href=\"https://en.wikipedia.org/wiki/Linux\">Linux</a](a href=\"https://en.wikipedia.org/wiki/Linux\">Linux</a)|FOSS operating system (1991)|\n| Windows, MacOS|Commercial OS (Microsoft, Apple)|\n| Android|Linux for smartphones (Google)|\n| iOS|MacOS for Apple smartphones|\n| Command line|Terminal, shell program to talk to the OS|\n| Prompt|Location on your computer, e.g. <code>C:\\User\\</code>|\n| Raw file|No control characters for syntax highlighting|\n| Syntax highlighting|Making programming language visible|\n| <code>DIR</code>|Windows command to list files|\n| <code>cd</code>|Command to change directory|\n| Literate pgm|Doc + code + output for humans and machines|\n| Org-mode|Plugin for Emacs to edit Org files (<code>.org</code>)|\n| Dunning-Kruger effect|Illustrating ignorance of your own ignorance|\n\n"
      ]
    },
    {
      "cell_type": "markdown",
      "metadata": {},
      "source": [
        "## References\n\n"
      ]
    },
    {
      "cell_type": "markdown",
      "metadata": {},
      "source": [
        "-   King K N (2008). C Programming - A Modern Approach. Norton.\n\n"
      ]
    },
    {
      "cell_type": "markdown",
      "metadata": {},
      "source": [
        "## Footnotes\n\n"
      ]
    }
  ],
  "metadata": {
    "org": null,
    "kernelspec": {
      "display_name": "Python 3",
      "language": "python",
      "name": "python3"
    },
    "language_info": {
      "codemirror_mode": {
        "name": "ipython",
        "version": 3
      },
      "file_extension": ".py",
      "mimetype": "text/x-python",
      "name": "python",
      "nbconvert_exporter": "python",
      "pygments_lexer": "ipython3",
      "version": "3.5.2"
    }
  },
  "nbformat": 4,
  "nbformat_minor": 0
}
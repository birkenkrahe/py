{
  "cells": [
    {
      "cell_type": "markdown",
      "metadata": {
        "id": "view-in-github",
        "colab_type": "text"
      },
      "source": [
        "<a href=\"https://colab.research.google.com/github/birkenkrahe/py/blob/main/unicorn_python_problem.ipynb\" target=\"_parent\"><img src=\"https://colab.research.google.com/assets/colab-badge.svg\" alt=\"Open In Colab\"/></a>"
      ]
    },
    {
      "source": [
        "# Code along in Python: unicorn companies\n",
        "\n",
        "This is a demo notebook using Python 3 (Python Software Foundation, 2023) and the IPython shell (Perez & Granger, 2023) as part of a Colab exercise originally developed for DataCamp workspace (Schouwenaars & Cotton, 2021). We use the \"unicorns\" dataset (CB Insights, 2023) to demonstrate the following data analytics steps:\n",
        "\n",
        "    1.  Import CSV data as `pandas` data frame and look at the headers.\n",
        "    2.  View the `unique` values of the data frame column `Category`.\n",
        "    3.  Clean the data frame column `Category` by eliminating errors.\n",
        "    4.  Group the records by industry `Category` and count them.\n",
        "    5.  Plot the `Category` count by industry as a barplot."
      ],
      "metadata": {
        "id": "1810b515-00ba-4e99-9ca7-b1e35d19e20b"
      },
      "cell_type": "markdown",
      "id": "1810b515-00ba-4e99-9ca7-b1e35d19e20b"
    },
    {
      "source": [
        "## How this works\n",
        "\n",
        "You get a prepared notebook that you open in your private Colab workspace. We'll work through the notebook together to learn all there is to learn about interactive notebooks. A somplete solution notebook is available here: https://tinyurl.com/mrykukbw - when you open the link, it will be uploaded to your private workspace, and any changes you make will be saved to your `Colab Notebooks` folder in `GDrive`."
      ],
      "metadata": {
        "id": "1c1bbe32-1849-486c-a9c4-4a94f7a58b7f"
      },
      "cell_type": "markdown",
      "id": "1c1bbe32-1849-486c-a9c4-4a94f7a58b7f"
    },
    {
      "source": [
        "## Unicorn Companies\n",
        "\n",
        "A unicorn company is a privately held company with a current valuation of over $1 billion USD. In this workspace, we'll be looking at a dataset that consists of unicorn companies and startups across the globe as of November 2021, including country of origin, sector, select investors, and valuation of each unicorn. Former unicorn companies that have since exited due to IPO or acquisitions are not included in this list."
      ],
      "metadata": {
        "id": "active-belize"
      },
      "id": "active-belize",
      "cell_type": "markdown"
    },
    {
      "source": [
        "## Import CSV data as `pandas` data frame and look at the headers.\n",
        "\n",
        "In the following code block, we import `pandas` and alias it as `pd`. Then we read the CSV file from the current directory using the `pd.read_csv` function. We assign the result to a data frame `df`. We then print the data frame by entering its name. You run a code cell with `CTRL-Enter` (or with `SHIFT-Enter` if you want to go to the next cell)."
      ],
      "metadata": {
        "id": "39ac9f04-c3db-4476-8e50-527ea56a8e79"
      },
      "cell_type": "markdown",
      "id": "39ac9f04-c3db-4476-8e50-527ea56a8e79"
    },
    {
      "cell_type": "markdown",
      "source": [
        "*Note: you have to upload the CSV file as `unicorn_companies.csv` to Colab first. Get the file [from this link](https://drive.google.com/file/d/1z8chiWMfIrdRnGerPAbq3xGNLSEddfiP/view?usp=sharing) and download it to your PC first before uploading it here.*"
      ],
      "metadata": {
        "id": "2rYAkp2IULRL"
      },
      "id": "2rYAkp2IULRL"
    },
    {
      "source": [
        "# import pandas\n",
        "\n",
        "# read CSV file\n",
        "\n",
        "# show data frame\n"
      ],
      "metadata": {
        "executionCancelledAt": null,
        "executionTime": 78,
        "lastExecutedAt": 1692456164333,
        "lastScheduledRunId": null,
        "lastSuccessfullyExecutedCode": "import pandas as pd \ndf = pd.read_csv('unicorn_companies.csv')\ndf",
        "visualizeDataframe": false,
        "chartConfig": {
          "bar": {
            "hasRoundedCorners": true,
            "stacked": false
          },
          "type": "bar",
          "version": "v1",
          "x": {
            "field": "Company",
            "type": "string"
          },
          "y": {
            "field": "index",
            "type": "integer"
          }
        },
        "outputsMetadata": {
          "0": {
            "height": 333,
            "type": "dataFrame"
          }
        },
        "id": "inclusive-leeds"
      },
      "id": "inclusive-leeds",
      "cell_type": "code",
      "execution_count": null,
      "outputs": []
    },
    {
      "source": [
        "You notice that the result does not give you the entire 917-row data frame but only a selection. At the right hand side of the table you find two icons: one for the default table format, and the other one to \"suggest a graph\"."
      ],
      "metadata": {
        "id": "ef1ceb3c-9288-4330-8763-620d5754a0b3"
      },
      "cell_type": "markdown",
      "id": "ef1ceb3c-9288-4330-8763-620d5754a0b3"
    },
    {
      "source": [
        "## View the `unique` values of the data frame column `Category`.\n",
        "\n",
        "In the next code block, we use another `pandas` function, `pd.unique`. This last format is what you need if you want to look up information about this function using Python's `help`. You can get help with `?` in a sidebar, or with `help` as regular output, or you can get the same information [via the web](https://pandas.pydata.org/docs/reference/api/pandas.unique.html)."
      ],
      "metadata": {
        "id": "feec4ad9-f76f-473c-bbe7-16fb3e28e87b"
      },
      "id": "feec4ad9-f76f-473c-bbe7-16fb3e28e87b",
      "cell_type": "markdown"
    },
    {
      "cell_type": "code",
      "source": [
        "# show help in sidebar\n"
      ],
      "metadata": {
        "id": "DMsYfRaUbX1b"
      },
      "id": "DMsYfRaUbX1b",
      "execution_count": null,
      "outputs": []
    },
    {
      "cell_type": "code",
      "source": [
        "# show help in output cell\n"
      ],
      "metadata": {
        "id": "zl3dZDcHg1NE"
      },
      "id": "zl3dZDcHg1NE",
      "execution_count": null,
      "outputs": []
    },
    {
      "cell_type": "markdown",
      "source": [
        "In the next code block, we use the `[]` operator to access only the `'Category'` column of the data frame `df`. Notice that the function call includes `()`, which means that this call needs no arguments."
      ],
      "metadata": {
        "id": "8jFrxS7uc1iy"
      },
      "id": "8jFrxS7uc1iy"
    },
    {
      "source": [
        "# Print out all categories\n"
      ],
      "metadata": {
        "executionCancelledAt": null,
        "executionTime": 11,
        "lastExecutedAt": 1692318133859,
        "lastScheduledRunId": null,
        "lastSuccessfullyExecutedCode": "# Print out all categories\ndf[\"Category\"].unique()",
        "id": "2b2cf1fd-abfe-4fbf-b610-403b4601c9e8"
      },
      "id": "2b2cf1fd-abfe-4fbf-b610-403b4601c9e8",
      "cell_type": "code",
      "execution_count": null,
      "outputs": []
    },
    {
      "cell_type": "markdown",
      "source": [
        "The formatting is somewhat strange and contains information we don't need right now. In the next codeblock, we print one value per line only using the `print` function inside a `for` loop that runs over the values of the `array`:"
      ],
      "metadata": {
        "id": "LI5DeRoPe0TJ"
      },
      "id": "LI5DeRoPe0TJ"
    },
    {
      "source": [
        "# Print out all categories - one per line\n"
      ],
      "metadata": {
        "executionCancelledAt": null,
        "executionTime": 53,
        "lastExecutedAt": 1692130670692,
        "lastScheduledRunId": null,
        "lastSuccessfullyExecutedCode": "# Print out all categories - one per line\nfor category in df['Category'].unique():\n    print(category)",
        "outputsMetadata": {
          "0": {
            "height": 349,
            "type": "stream"
          }
        },
        "id": "238a2730-8b73-4ed9-88ff-08588cb62b95"
      },
      "id": "238a2730-8b73-4ed9-88ff-08588cb62b95",
      "cell_type": "code",
      "execution_count": null,
      "outputs": []
    },
    {
      "source": [
        "Just for completeness: you can also use a *list comprehension* with a dummy argument `_`. Here, `[]` is not the index operator but the delimiter for the `list` data structure. Lastly, the `;` at the end is an artefact of the IPython shell that we're using. Without it, IPython will print a bunch of `None` values following the desired output."
      ],
      "metadata": {
        "id": "398d8860-7b7c-4e71-af36-4d8422a850fa"
      },
      "id": "398d8860-7b7c-4e71-af36-4d8422a850fa",
      "cell_type": "markdown"
    },
    {
      "source": [
        "# print unique categories as a list\n"
      ],
      "metadata": {
        "executionCancelledAt": null,
        "executionTime": 50,
        "lastExecutedAt": 1692318234955,
        "lastScheduledRunId": null,
        "lastSuccessfullyExecutedCode": "[print(i) for i in df[\"Category\"].unique()];",
        "outputsMetadata": {
          "0": {
            "height": 349,
            "type": "stream"
          }
        },
        "id": "3f38c827-9e1b-48b8-b08f-4fa7712120da"
      },
      "id": "3f38c827-9e1b-48b8-b08f-4fa7712120da",
      "cell_type": "code",
      "execution_count": null,
      "outputs": []
    },
    {
      "source": [
        "It turns out there are some duplicates because of typos and different capitalization. Let's clean those up."
      ],
      "metadata": {
        "id": "c6e341a8-61be-4d2b-8b88-9b7a1386b812"
      },
      "id": "c6e341a8-61be-4d2b-8b88-9b7a1386b812",
      "cell_type": "markdown"
    },
    {
      "cell_type": "markdown",
      "source": [
        "## Clean the data frame column `Category` by eliminating errors.\n",
        "\n",
        "We want to replace all occurrences of `'Artificial intelligence'` by `'Artificial Intelligence'`, and all occurrences of `'Finttech'` by `'Fintech'`. We can use the function `pd.DataFrame.replace` to do this. You can look up the help with `?` or `help` ([or here](https://pandas.pydata.org/docs/reference/api/pandas.DataFrame.replace.html)) This function has many arguments but you only need two: the value you wish to replace (`to_replace`) and the value to replace it by (`value`). In Python, we can \"serialize\" the execution of these tasks using the \"attribute access\" or \"dot\" operator `.` We save the cleaned data frame in `df_clean` and print it out using a list comprehension.\n",
        "\n",
        "*Note that the command goes over two lines. To make sure that Python understands that, we end a continued line with `\\`.*"
      ],
      "metadata": {
        "id": "dtNOQrkXgWqh"
      },
      "id": "dtNOQrkXgWqh"
    },
    {
      "source": [
        "# Replace wrong text cells\n",
        "\n",
        "# Add another printout here\n"
      ],
      "metadata": {
        "executionCancelledAt": null,
        "executionTime": 13,
        "lastExecutedAt": 1692318238028,
        "lastScheduledRunId": null,
        "lastSuccessfullyExecutedCode": "# Replace wrong text cells\ndf_clean = df.replace(to_replace='Artificial intelligence',                                       value='Artificial Intelligence')\\\n\t         .replace(to_replace = 'Finttech', \n                      value = 'Fintech')\n# Add another printout here\n[print(i) for i in df_clean['Category'].unique()];",
        "outputsMetadata": {
          "0": {
            "height": 310,
            "type": "stream"
          }
        },
        "id": "9f738d60-ddd4-4180-896e-966426cebf25"
      },
      "id": "9f738d60-ddd4-4180-896e-966426cebf25",
      "cell_type": "code",
      "execution_count": null,
      "outputs": []
    },
    {
      "source": [
        "Much better! With the categories cleaned up, let's see how many unicorns there are in each category."
      ],
      "metadata": {
        "id": "e7f59763-6de7-451e-bd81-e521b18ba57f"
      },
      "id": "e7f59763-6de7-451e-bd81-e521b18ba57f",
      "cell_type": "markdown"
    },
    {
      "cell_type": "markdown",
      "source": [
        "## Group the records by industry `Category` and count them.\n",
        "\n",
        "To find out how many unicorn companies are there in each `Category` (aka industry), we group the corresponding records using the function `pd.DataFrame.groupby`. The command in the code cell below performs several operations on the `df_clean` dataframe:\n",
        "\n",
        "`groupby(by = 'Category', as_index = False)`: This groups the dataframe by the `'Category'` column. The `as_index = False` parameter ensures that the resulting groups retain `'Category'` as a column rather than using it as an index.\n",
        "\n",
        "`size()`: After grouping, this function is used to compute the size of each group. In the context of `groupby`, the `size()` function returns a `pd.Series` (a vector or 1-dim array) with the number of items in each group. This is essentially a count of rows for each `'Category'`.\n",
        "\n",
        "`.sort_values(by=['size'])`: This sorts the resulting `pd.Series` based on the size/count.\n",
        "\n",
        "Now, when you use the `size()` function with `groupby`, the resulting `pd.Series` will have the counts of each group as its values. When you sort this and convert it back into a dataframe (which happens implicitly because of `as_index=False`), the counts become a new column. By default, this column is named `size` – hence the creation of a new column named `size` in the output."
      ],
      "metadata": {
        "id": "S-ysbuS2r31c"
      },
      "id": "S-ysbuS2r31c"
    },
    {
      "source": [
        "# group data by category\n",
        "\n",
        "# show data frame of categories and their size\n"
      ],
      "metadata": {
        "executionCancelledAt": null,
        "executionTime": null,
        "lastExecutedAt": null,
        "lastScheduledRunId": null,
        "lastSuccessfullyExecutedCode": null,
        "outputsMetadata": {
          "0": {
            "height": 316,
            "type": "dataFrame"
          }
        },
        "id": "3ee9e052-3dd5-4bc6-9afe-8d71b7b4ad01"
      },
      "id": "3ee9e052-3dd5-4bc6-9afe-8d71b7b4ad01",
      "cell_type": "code",
      "execution_count": null,
      "outputs": []
    },
    {
      "source": [
        "The result, `category_counts`, is a pandas data frame with two columns sorted by size of group rather than alphabetically. When you let Colab suggest a graph, you get a line plot, a histogram (distribution) and a time series. `type` returns the data structure of its argument, and `pd.DataFrame.shape` is an attribute of the dataframe that contains its dimensions."
      ],
      "metadata": {
        "id": "fa69316e-3141-4050-bc81-c76c345a7d34"
      },
      "cell_type": "markdown",
      "id": "fa69316e-3141-4050-bc81-c76c345a7d34"
    },
    {
      "source": [
        "# show the data type of category_counts\n",
        "\n",
        "# show the dimension of category counts\n"
      ],
      "metadata": {
        "executionCancelledAt": null,
        "executionTime": 12,
        "lastExecutedAt": 1692318259569,
        "lastScheduledRunId": null,
        "lastSuccessfullyExecutedCode": "print(type(category_counts))\nprint(category_counts.shape)",
        "outputsMetadata": {
          "0": {
            "height": 56,
            "type": "stream"
          }
        },
        "id": "c10ba278-44f8-493a-b2cf-68d68d26a4fa"
      },
      "cell_type": "code",
      "id": "c10ba278-44f8-493a-b2cf-68d68d26a4fa",
      "execution_count": null,
      "outputs": []
    },
    {
      "cell_type": "markdown",
      "source": [
        "## Plot the `Category` count by industry as a barplot.\n",
        "\n",
        "The last table `category_counts` is a data frame with a categorical and a numerical frequency column. To visualize the relationship between these, a barplot is most suitable."
      ],
      "metadata": {
        "id": "bK0pWdXBybIx"
      },
      "id": "bK0pWdXBybIx"
    },
    {
      "cell_type": "markdown",
      "source": [
        "There are many different graphics packages available. The one most often mentioned is `matplotlib`. It is a great package to get a quick overview but you usually need to customize the graphs quite a bit before they look publishable.\n",
        "\n",
        "Instead, we use the `plotly` package, which has an `express` module that does most of the heavy lifting for us. All it needs is the data and the names of the x and y column, and a title:"
      ],
      "metadata": {
        "id": "0vJnMz3wy5-M"
      },
      "id": "0vJnMz3wy5-M"
    },
    {
      "source": [
        "# import plotly.express\n",
        "\n",
        "# Create a bar plot of category group size vs. category\n"
      ],
      "metadata": {
        "executionCancelledAt": null,
        "executionTime": 420,
        "lastExecutedAt": 1692318264190,
        "lastScheduledRunId": null,
        "lastSuccessfullyExecutedCode": "import plotly.express as px\npx.bar(category_counts, x = 'Category', y = 'size')",
        "outputsMetadata": {
          "0": {
            "height": 467,
            "type": "plotly"
          }
        },
        "id": "7b8199e8-c088-4347-b198-a57703116130"
      },
      "id": "7b8199e8-c088-4347-b198-a57703116130",
      "cell_type": "code",
      "execution_count": null,
      "outputs": []
    },
    {
      "cell_type": "markdown",
      "source": [
        "Compare the result when using `matplotlib.pyplot`: instead of one line, we need several lines of code to get a similarly appealing result. However, as I said, for quick data exploration, this is the way to go."
      ],
      "metadata": {
        "id": "sRbPe0cN0i_s"
      },
      "id": "sRbPe0cN0i_s"
    },
    {
      "cell_type": "code",
      "source": [
        "# import matplotlib.pyplot\n",
        "\n",
        "# plot category group size vs. Category\n",
        "\n",
        "# rotate the x ticks by 90 degrees to make them readable\n",
        "\n",
        "# add a title\n",
        "\n",
        "# label the y-axis\n",
        "\n",
        "# draw a grid to increase readability\n",
        "\n",
        "# show the final plot\n"
      ],
      "metadata": {
        "id": "PwwI2b3u05Ev"
      },
      "id": "PwwI2b3u05Ev",
      "execution_count": null,
      "outputs": []
    },
    {
      "source": [
        "# References\n",
        "\n",
        "CB Insights. The Complete List of Unicorn Companies. CB Insights. Published 2023. Accessed August 19, 2023. https://www.cbinsights.com/research-unicorn-companies\n",
        "\n",
        "Google LLC. Google Colaboratory. Accessed August 19, 2023. https://colab.research.google.com\n",
        "\n",
        "Pérez F, Granger BE. IPython (Version 8.14.0). IPython Development Team. Published 2023. Accessed August 19, 2023. https://ipython.org\n",
        "\n",
        "Python Software Foundation. Python (Version 3.8.10). Python Software Foundation. Published 2021. Accessed August 19, 2023. https://www.python.org\n",
        "\n",
        "Schouwenaars F, Cotton R. Unicorn companies. DataCamp. Published 2022. Accessed August 19, 2023. http://bit.ly/ws-unicorn\n",
        "\n"
      ],
      "metadata": {
        "id": "113be865-8c07-419a-bdd2-b3fab233149e"
      },
      "cell_type": "markdown",
      "id": "113be865-8c07-419a-bdd2-b3fab233149e"
    },
    {
      "source": [
        "References formatted in [AMA style](https://academic.oup.com/amamanualofstyle)\n",
        "\n",
        "- The names of all authors are inverted (the last name precedes the initials of the first and middle names).\n",
        "- All authors are separated by a comma, except for the last two authors, which are separated by an ampersand (&).\n",
        "- The title of the work is followed by the name of the website or publisher.\n",
        "- The publication year follows the publisher and is followed by the access date.\n",
        "- The URL is the final component of the citation."
      ],
      "metadata": {
        "id": "62ae9f74-6263-4f33-84d8-64c679304ecb"
      },
      "cell_type": "markdown",
      "id": "62ae9f74-6263-4f33-84d8-64c679304ecb"
    }
  ],
  "metadata": {
    "language_info": {
      "name": "python",
      "version": "3.8.10",
      "mimetype": "text/x-python",
      "codemirror_mode": {
        "name": "ipython",
        "version": 3
      },
      "pygments_lexer": "ipython3",
      "nbconvert_exporter": "python",
      "file_extension": ".py"
    },
    "kernelspec": {
      "display_name": "Python 3 (ipykernel)",
      "language": "python",
      "name": "python3"
    },
    "editor": "DataCamp Workspace",
    "colab": {
      "provenance": [],
      "toc_visible": true,
      "include_colab_link": true
    }
  },
  "nbformat": 4,
  "nbformat_minor": 5
}